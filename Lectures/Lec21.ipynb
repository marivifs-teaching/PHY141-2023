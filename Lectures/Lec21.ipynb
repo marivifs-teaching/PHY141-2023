{
 "cells": [
  {
   "cell_type": "markdown",
   "id": "b38f43dc",
   "metadata": {},
   "source": [
    "# Lecture 21 - Physics of Materials\n",
    "\n"
   ]
  },
  {
   "cell_type": "markdown",
   "id": "459d546b",
   "metadata": {},
   "source": [
    "### Corbel arch\n",
    "\n",
    "An object can be in stable equilibrium if a vertical line from the center of gravity lies within it's center of support.\n",
    "\n",
    "We will demonstrate this concept by building a <a href=\"https://en.wikipedia.org/wiki/Corbel_arch\" class=\"interwiki iw_wp\" title=\"https://en.wikipedia.org/wiki/Corbel_arch\">corbel arch</a>.\n",
    "\n",
    "\n",
    "![im.png](images/corbelarch.png)\n",
    "\n"
   ]
  },
  {
   "cell_type": "markdown",
   "id": "6dac82a0",
   "metadata": {},
   "source": [
    "### True Arch\n",
    "\n",
    "\n",
    "The weakness of a corbel arch as compared to a true <a href=\"https://en.wikipedia.org/wiki/Arch\" class=\"interwiki iw_wp\" title=\"https://en.wikipedia.org/wiki/Arch\">arch</a> which should contain a <a href=\"https://en.wikipedia.org/wiki/Catenary\" class=\"interwiki iw_wp\" title=\"https://en.wikipedia.org/wiki/Catenary\">catenary</a> curve, is that not all the tensile stresses are converted in to compressive stresses. What does this mean and why it is important? We need to know a little about the properties of materials.\n",
    "\n",
    "![im.png](images/truearch.png)\n"
   ]
  },
  {
   "cell_type": "markdown",
   "id": "8ce3b1a9",
   "metadata": {},
   "source": [
    "### Stress\n",
    "\n",
    "When an object is exposed to a external force, it can deform. The relative size of this deformation, is called a <strong>strain</strong> $\\varepsilon=\\frac{\\Delta l}{l_{0}}$. Often, when dealing with material properties it can be more useful to consider the force as a force per unit area, or <strong>stress</strong> $\\sigma=\\frac{F}{A}$\n",
    "\n",
    "![im.png](images/stresses.png)\n",
    "\n",
    "[These videos of bubble rafts](http://www.doitpoms.ac.uk/tlplib/dislocations/bubbleraft.php)\n",
    " [from](http://www.doitpoms.ac.uk/index.html) DoITPoMs at Cambridge are useful for visualizing the way materials respond to the various kinds of stress.\n"
   ]
  },
  {
   "cell_type": "markdown",
   "id": "ea5044b5",
   "metadata": {},
   "source": [
    "### Elastic Deformation\n",
    "\n",
    "Many materials exhibit elastic behavior, where they will recover from a strain to their original shape.\n",
    "\n",
    "This can be divided in to two regimes, the linear elastic regime, below the proportional limit, where objects obey Hooke's Law\n",
    "\n",
    "$F=k\\Delta l$\n",
    "\n",
    "and their strain is linearly proportional to the stress. As the stress is increased this is followed by a non-linear elastic regime where the stress and strain are not linearly related.\n",
    "\n",
    "The upper limit of this non-linear elastic regime is the <a href=\"https://en.wikipedia.org/wiki/Elastic_limit\" class=\"interwiki iw_wp\" title=\"https://en.wikipedia.org/wiki/Elastic_limit\">elastic limit</a>. Up to this limit the object will revert to it&#039;s original shape when the stress is removed, beyond it the object will deform in a non-reversible fashion, until it eventually breaks.\n",
    "\n",
    "The material specific plot of stress vs strain is called a [stress strain curve](https://en.wikipedia.org/wiki/Stress%E2%80%93strain_curve)\n",
    "\n",
    "![im.png](images/metalyield.png)\n"
   ]
  },
  {
   "cell_type": "markdown",
   "id": "d4072176",
   "metadata": {},
   "source": [
    "### Elastic Moduli\n",
    "\n",
    "There are a set of <a href=\"https://en.wikipedia.org/wiki/Elastic_modulus\" class=\"interwiki iw_wp\" title=\"https://en.wikipedia.org/wiki/Elastic_modulus\">elastic moduli</a> that link the deformation of an object to particular types of stress.\n",
    "\n",
    "<a href=\"https://en.wikipedia.org/wiki/Young's_modulus\" class=\"interwiki iw_wp\" title=\"https://en.wikipedia.org/wiki/Young's_modulus\">Young&#039;s modulus</a>, $E$, is the constant that relates stress along a direction to strain in that direction in the elastic regime.\n",
    "\n",
    "$\\sigma=E\\varepsilon$\n",
    "\n",
    "$\\frac{F}{A}=E \\frac{\\Delta l}{l_{0}}$\n",
    "\n",
    "This formula can be applied to either tensile stress or compressive stress.\n",
    "\n",
    "For shear stresses a different elastic modulus, the <a href=\"https://en.wikipedia.org/wiki/Shear_modulus\" class=\"interwiki iw_wp\" title=\"https://en.wikipedia.org/wiki/Shear_modulus\">shear modulus</a>, $G$ applies. $G$ is usually smaller than $E$.\n",
    "\n",
    "$\\sigma=G\\varepsilon$\n",
    "\n",
    "$\\frac{F}{A}=G \\frac{\\Delta l}{l_{0}}$\n",
    "\n",
    "Note: for this equation $\\Delta l$ is perpendicular to $l_{0}$!\n",
    "\n",
    "An object subject to uniform pressure change will have a volume change\n",
    "\n",
    "$\\frac{\\Delta V}{V_{0}}=-\\frac{1}{B}\\Delta P$\n",
    "\n",
    "$B$ is the <a href=\"https://en.wikipedia.org/wiki/Bulk_modulus\" class=\"interwiki iw_wp\" title=\"https://en.wikipedia.org/wiki/Bulk_modulus\">bulk modulus</a>. \n",
    "\n"
   ]
  },
  {
   "cell_type": "markdown",
   "id": "a11bd6bb",
   "metadata": {},
   "source": [
    "### Strength of materials\n",
    "Different materials, depending on their micro-structure have different <a href=\"https://en.wikipedia.org/wiki/Strength_of_materials\" class=\"interwiki iw_wp\" title=\"https://en.wikipedia.org/wiki/Strength_of_materials\">strengths</a> with relation to the different strains. By strength we refer to the maximum stress that can be withstood without the material breaking.\n",
    "\n",
    "<a href=\"https://en.wikipedia.org/wiki/Ultimate_tensile_strength\" class=\"interwiki iw_wp\" title=\"https://en.wikipedia.org/wiki/Ultimate_tensile_strength\">Ultimate tensile strength</a> for ductile materials is usually determined by <a href=\"http://www.youtube.com/watch?v=-ejDNBojQd0&amp;feature=related\" class=\"urlextern\" title=\"http://www.youtube.com/watch?v=-ejDNBojQd0&amp;feature=related\">necking</a>, brittle materials, like concrete typically have very low tensile strength, but have high compressive strength. Structures under compressive stress can <a href=\"http://www.youtube.com/watch?v=VzMn0t-1vDY&amp;feature=related\" class=\"urlextern\" title=\"http://www.youtube.com/watch?v=VzMn0t-1vDY&amp;feature=related\">collapse</a> well before the material itself fails due to <a href=\"https://en.wikipedia.org/wiki/Buckling\" class=\"interwiki iw_wp\" title=\"https://en.wikipedia.org/wiki/Buckling\">buckling</a>.\n",
    "\n",
    "Shear failure can be greatly assisted by imperfections that allow <a href=\"http://www.doitpoms.ac.uk/tlplib/dislocations/dislocation_glide.php\" class=\"urlextern\" title=\"http://www.doitpoms.ac.uk/tlplib/dislocations/dislocation_glide.php\">dislocation glide</a>.\n",
    "\n"
   ]
  },
  {
   "cell_type": "markdown",
   "id": "d0630df9",
   "metadata": {},
   "source": [
    "### Truss bridge\n",
    "\n",
    "A <a href=\"https://en.wikipedia.org/wiki/Truss_bridge\" class=\"interwiki iw_wp\" title=\"https://en.wikipedia.org/wiki/Truss_bridge\">truss bridge</a> uses connected elements to spread the load out, some elements are under compression, others are under tension. In the diagram below we ignore the mass of the elements themseleves.\n",
    "\n",
    "<a href=\"/~mdawber/_detail/phy141:lectures:trussbridge.png?id=phy141%3Alectures%3A21\" class=\"media\" title=\"phy141:lectures:trussbridge.png\"><img src=\"/~mdawber/_media/phy141:lectures:trussbridge.png\" class=\"media\" alt=\"\" /></a>\n",
    "\n",
    "Frequently different materials are used for compression and tension elements. Long truss bridges get very heavy, a better design for these applications is a suspension bridge.\n",
    "\n"
   ]
  },
  {
   "cell_type": "markdown",
   "id": "78170d6d",
   "metadata": {},
   "source": [
    "### Suspension bridge\n",
    "\n",
    "The simplest kind of <a href=\"https://en.wikipedia.org/wiki/Suspension_bridge\" class=\"interwiki iw_wp\" title=\"https://en.wikipedia.org/wiki/Suspension_bridge\">suspension bridge</a> is one that hangs under it&#039;s own weight in the shape of the <a href=\"https://en.wikipedia.org/wiki/Catenary\" class=\"interwiki iw_wp\" title=\"https://en.wikipedia.org/wiki/Catenary\">catenary</a>, the equation for which is $y=a \\cosh (\\frac{x}{a})$. An inverted catenary is the ideal shape for an arch which supports only it's own weight.\n",
    "\n",
    "A more normal suspension bridge, and also more typical arches, support weight besides their own and the ideal shape in these situations is closer to that of a parabola, in the case where the mass of the cables can be neglected the shape is entirely parabolic.\n",
    "\n"
   ]
  },
  {
   "cell_type": "code",
   "execution_count": null,
   "id": "7481e15e",
   "metadata": {},
   "outputs": [],
   "source": []
  }
 ],
 "metadata": {
  "kernelspec": {
   "display_name": "Python 3 (ipykernel)",
   "language": "python",
   "name": "python3"
  },
  "language_info": {
   "codemirror_mode": {
    "name": "ipython",
    "version": 3
   },
   "file_extension": ".py",
   "mimetype": "text/x-python",
   "name": "python",
   "nbconvert_exporter": "python",
   "pygments_lexer": "ipython3",
   "version": "3.9.10"
  }
 },
 "nbformat": 4,
 "nbformat_minor": 5
}
