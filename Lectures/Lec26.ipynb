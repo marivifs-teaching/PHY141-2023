{
 "cells": [
  {
   "cell_type": "markdown",
   "id": "d4463e1f",
   "metadata": {},
   "source": [
    "# Lecture 26 - Waves\n",
    "\n",
    "Waves are a way that energy can be transported through a medium without the medium moving itself."
   ]
  },
  {
   "cell_type": "markdown",
   "id": "aa1f4350",
   "metadata": {},
   "source": [
    "### Pulses\n",
    "Suppose we consider a 1 dimensional medium to be a number of masses connected to each other by springs.\n",
    "\n",
    "The <a href=\"https://en.wikipedia.org/wiki/Shive_wave_machine\" class=\"interwiki iw_wp\" title=\"https://en.wikipedia.org/wiki/Shive_wave_machine\">Shive Wave Machine</a> is essentially such a system, the rods in the machine are connected to each other by a wire (you can think of each element as torsional pendulum). When one spine is displaced the next one feels a force pushing in the same direction, if a continuous force is applied to the system the whole system can move to a new equilibrium.\n",
    "\n",
    "However if a short disturbance is applied a pulse is observed. When the force at the source is removed the rods are driven back to the their equilibrium position by the restoring force, just like in simple harmonic motion. The duration of the pulse on the machine depends on the time the driving force is applied.\n",
    "\n",
    "We can see that the velocity of the rods is in a different direction and of a different magnitude to the velocity of the pulse."
   ]
  },
  {
   "cell_type": "markdown",
   "id": "e1c92525",
   "metadata": {},
   "source": [
    "### From pulses to waves\n",
    "\n",
    "The displacement in a pulse can be either <a href=\"http://upload.wikimedia.org/wikipedia/commons/6/6d/Onde_cisaillement_impulsion_1d_30_petit.gif\" class=\"urlextern\" title=\"http://upload.wikimedia.org/wikipedia/commons/6/6d/Onde_cisaillement_impulsion_1d_30_petit.gif\">perpendicular</a> to, or <a href=\"http://upload.wikimedia.org/wikipedia/commons/6/62/Onde_compression_impulsion_1d_30_petit.gif\" class=\"urlextern\" title=\"http://upload.wikimedia.org/wikipedia/commons/6/62/Onde_compression_impulsion_1d_30_petit.gif\">parallel</a> to the direction of motion, resulting in either <a href=\"http://en.wikipedia.org/wiki/Transverse_wave\" class=\"urlextern\" title=\"http://en.wikipedia.org/wiki/Transverse_wave\">transverse</a> or <a href=\"http://en.wikipedia.org/wiki/Longitudinal_wave\" class=\"urlextern\" title=\"http://en.wikipedia.org/wiki/Longitudinal_wave\">longitudinal</a> pulses.\n",
    "\n",
    "If the force at the source is changed from a transient one to a continuous oscillatory one then the result is a wave. If we freeze the wave at a certain time the displacement of the points can often be represented a sinusoidal function, $D(x)=A\\sin\\frac{2\\pi}{\\lambda}x$.\n",
    "\n",
    "![im.png](images/wave.png)\n",
    "    \n",
    "If the wave moves so that it takes a time $T$, the period for a wavelength $\\lambda$ to pass a point we can say that the velocity of a wave is $v=\\frac{\\lambda}{T}=f\\lambda$.\n"
   ]
  },
  {
   "cell_type": "markdown",
   "id": "27ef0a11",
   "metadata": {},
   "source": [
    "### Traveling waves\n",
    "\n",
    "In order to have a wave which at time $t=0$ has a displacement function $D(x)=A\\sin\\frac{2\\pi}{\\lambda}x$ propagate with  $v$ we can write\n",
    "\n",
    "$D(x,t)=A\\sin\\frac{2\\pi}{\\lambda}(x-vt)$\n",
    "\n",
    "which using $v=\\frac{\\lambda}{T}=f\\lambda$ can be written\n",
    "\n",
    "$D(x,t)=A\\sin(\\frac{2\\pi}{\\lambda}x-\\frac{2\\pi t}{T})=A\\sin(kx-\\omega t)$\n",
    "\n",
    "We have here defined a new quantity $k$ which is the wave number, $k=\\frac{2\\pi}{\\lambda}$ and expressed the frequency in terms of the angular frequency $\\omega=2\\pi f$\n",
    "\n",
    "The velocity of the waves propagation, which we call the phase velocity can be expressed in terms of $\\omega$ and $k$\n",
    "\n",
    "$v=f\\lambda=\\frac{\\omega}{2\\pi}\\frac{2\\pi}{k}=\\frac{\\omega}{k}$\n"
   ]
  },
  {
   "cell_type": "markdown",
   "id": "29ab2bbb",
   "metadata": {},
   "source": [
    "### Wave equation\n",
    "\n",
    "The equation for a wave's motion we have just considered\n",
    "\n",
    "$D(x,t)=A\\sin\\frac{2\\pi}{\\lambda}(x-vt)$\n",
    "\n",
    "is a solution to the a differential equation that we call the wave equation.\n",
    "\n",
    "$v^2\\frac{\\partial^{2} D}{\\partial x^2}=\\frac{\\partial^{2} D}{\\partial t^2}$\n",
    "\n",
    "We can check that this is the case by substituting in our equation of motion in to the differential equation\n",
    "\n",
    "$-v^2(\\frac{2\\pi}{\\lambda})^{2}A\\sin\\frac{2\\pi}{\\lambda}(x-vt)=-v^{2}(\\frac{2\\pi}{\\lambda})^{2}A\\sin\\frac{2\\pi}{\\lambda}(x-vt)$\n",
    "\n",
    "We can now look for physical situations that give rise to the wave equation, these will define the values of the velocity in terms of the properties of the medium through which the wave propagates.\n"
   ]
  },
  {
   "cell_type": "markdown",
   "id": "1a358b35",
   "metadata": {},
   "source": [
    "### Transverse waves: waves on a string\n",
    "\n",
    "![im.png](images/stringwave.gif)\n",
    "    \n",
    "We define a piece of the string which has length $\\Delta x$, we assume that the amplitude of the wave is fairly small so that the angles $\\alpha$ and $\\beta$ are small. We then set the two tensions equal $F_{1}=F_{2}=F_{T}$\n",
    "\n",
    "The vertical force on the element of the string is then  \n",
    "\n",
    "$F_{T}\\sin\\beta-F_{T}\\sin\\alpha$\n",
    "\n",
    "From Newton's second law\n",
    "\n",
    "$F_{T}\\sin\\beta-F_{T}\\sin\\alpha=ma_{y}=\\mu\\Delta x \\frac{\\partial^{2} D}{\\partial t^2}$\n",
    "\n",
    "where $\\mu$ is the linear mass density of the string ($\\mu=\\frac{m_{string}}{l_{string}}$)\n",
    "\n",
    "As the angles $\\alpha$ and $\\beta$ are small we can say that\n",
    "\n",
    "$\\sin\\alpha\\approx\\tan\\alpha=\\frac{\\partial D}{\\partial x}|^{x}$ and $\\sin\\beta\\approx\\tan\\beta=\\frac{\\partial D}{\\partial x}|^{x+\\Delta x}$\n",
    "\n",
    "We can the rearrange our equation to be $\\Large \\frac{(\\frac{\\partial D}{\\partial x}|^{x+\\Delta x}-\\frac{\\partial D}{\\partial x}|^{x})}{\\Delta x}=\\frac{\\mu}{F_{T}}\\frac{\\partial^{2} D}{\\partial t^2}$\n",
    "\n",
    "Taking the limit $\\Delta x \\to 0$ we get $\\large \\frac{\\partial^{2} D}{\\partial x^2}=\\frac{\\mu}{F_{T}}\\frac{\\partial^{2} D}{\\partial t^2}$\n",
    "\n",
    "Which is the wave equation with $v=\\sqrt{\\frac{F_{T}}{\\mu}}$\n"
   ]
  },
  {
   "cell_type": "markdown",
   "id": "c25f03e0",
   "metadata": {},
   "source": [
    "### Longitudinal waves: Sound waves\n",
    "\n",
    "![im.png](images/soundspeed.png)\n",
    "\n",
    "We now look at the speed of a longitudinal wave, such as sound, from the perspective of the wave \n",
    "equation. The change in pressure from the background pressure $P_{0}$ in response to a volume change is related to the bulk modulus $B$\n",
    "\n",
    "$\\Delta P=-B\\frac{\\Delta V}{V}=-B\\frac{A(D_{2}-D_{1})}{A(x_{2}-x_{1})}$ which in the limit of $\\Delta x \\to 0$ is $\\Delta P=-B\\frac{\\partial D}{\\partial x}$\n",
    "\n",
    "The force on the element is given by the difference in the pressure\n",
    "\n",
    "$F=A(P_{1}-P_{2})=A(\\Delta P_{1}-\\Delta P_{2})$\n",
    "\n",
    "Newton's Second Law gives us that\n",
    "\n",
    "$A(\\Delta P_{1}-\\Delta P_{2})=m\\frac{\\partial^{2}D}{\\partial t^{2}}=\\rho A(x_{2}-x_{1})\\frac{\\partial^{2}D}{\\partial t^{2}}$ → $\\frac{\\Delta P_{2}-\\Delta P_{1}}{x_{2}-x_{1}}=-\\rho\\frac{\\partial^{2}D}{\\partial t^{2}}$\n",
    "\n",
    "which in the limit $\\Delta x \\to 0$ is\n",
    "\n",
    "$\\frac{\\partial \\Delta P}{\\partial x}=-\\rho\\frac{\\partial^{2}D}{\\partial t^{2}}$\n",
    "\n",
    "and using our result connecting the pressure to the bulk modulus\n",
    "\n",
    "$-B\\frac{\\partial^{2}D}{\\partial x^{2}}=-\\rho\\frac{\\partial^{2}D}{\\partial t^{2}}$\n",
    "\n",
    "which is the wave equation with $v=\\sqrt{\\frac{B}{\\rho}}$\n"
   ]
  },
  {
   "cell_type": "markdown",
   "id": "0b479f67",
   "metadata": {},
   "source": [
    "### Waves on our planet\n",
    "\n",
    "In a confined fluid only longitudinal waves can propagate (there is no significant restorative force in the transverse direction.)\n",
    "\n",
    "The waves that we are used to see on the ocean, <a href=\"https://en.wikipedia.org/wiki/Wind_wave\" class=\"interwiki iw_wp\" title=\"https://en.wikipedia.org/wiki/Wind_wave\">wind waves</a> are surface waves and <a href=\"http://upload.wikimedia.org/wikipedia/commons/0/06/Wave_motion-i18n-mod.svg\" class=\"urlextern\" title=\"http://upload.wikimedia.org/wikipedia/commons/0/06/Wave_motion-i18n-mod.svg\">combine transverse and longitudinal wave motion</a>.\n",
    "\n",
    "<a href=\"https://en.wikipedia.org/wiki/Seismic_wave\" class=\"interwiki iw_wp\" title=\"https://en.wikipedia.org/wiki/Seismic_wave\">Seismic waves</a> come in two varieties, body waves and surface waves. Of the body waves the P waves are longitudinal and the S waves are transverse. Therefore only the P waves can travel through the Earth&#039;s liquid outer core (while they are doing so they are called K waves). The different kinds of waves can be used to map out the structure of the Earth.\n",
    "\n",
    "![im.png](images/earthquakewaves.png)"
   ]
  },
  {
   "cell_type": "markdown",
   "id": "47a18dd0",
   "metadata": {},
   "source": [
    "### Energy in a wave\n",
    "\n",
    "Waves transport energy. How much?\n",
    "\n",
    "We can consider each particle in a wave to be undergoing simple harmonic motion with <strong>total</strong> energy given by $E=\\frac{1}{2}kA^{2}$ where $k$ is the effective spring constant and $A$ is the amplitude of the wave. The frequency equation for SHM $f=\\frac{1}{2\\pi}\\sqrt{\\frac{k}{m}}$ tell us that $k=4\\pi^{2}mf^{2}$ and we can rewrite the energy as \n",
    "\n",
    "$E=2\\pi^{2}mf^{2}A^{2}$\n",
    "\n",
    "The mass in this equation can be written as $m=\\rho V$, where $\\rho$ is the density of the medium and $V$ is the volume through which the wave passes. If we are looking at  3 dimensional wave that traveling outwards from a point, we can say it travels a distance $l=vt$ in a time interval $t$. This lets us define our volume as $V=Sl$ where S is the cross-sectional area through which the wave passes. Combining all this, $m=\\rho V=\\rho Sl=\\rho Svt$ and the energy transported through a surface $S$ in time $t$ is\n",
    "\n",
    "$E=2\\pi^{2}\\rho Svtf^{2}A^{2}$\n",
    "\n",
    "and the average power\n",
    "\n",
    "$\\bar{P}=\\frac{E}{t}=2\\pi^{2}\\rho Svf^{2}A^{2}$\n",
    "\n",
    "The intensity is the average power per unit area\n",
    "\n",
    "$I=\\frac{\\bar{P}}{S}=2\\pi^{2}\\rho vf^{2}A^{2}$\n",
    "\n",
    "As a 3 dimensional wave propagates from a point the area through which the wave passes increases. When the power output is constant, the intensity decreases as $\\frac{1}{r^{2}}$, so the ratio of the intensity at $r_{1}$, $I_{1}$, to the intensity at $r_{2}$, $I_{2}$ is\n",
    "\n",
    "$\\frac{I_{2}}{I_{1}}=\\frac{\\bar{P}/4\\pi r_{2}^{2}}{\\bar{P}/4\\pi r_{1}^{2}}=\\frac{r_{1}^2}{r_{2}^{2}}$\n",
    "\n",
    "In order for the power output to be constant the amplitude must also decrease with $S_{1}A_{1}^2=S_{2}A_{2}^2$ implying $A\\propto\\frac{1}{r}$\n"
   ]
  },
  {
   "cell_type": "code",
   "execution_count": null,
   "id": "d2b1a82f",
   "metadata": {},
   "outputs": [],
   "source": []
  }
 ],
 "metadata": {
  "kernelspec": {
   "display_name": "Python 3 (ipykernel)",
   "language": "python",
   "name": "python3"
  },
  "language_info": {
   "codemirror_mode": {
    "name": "ipython",
    "version": 3
   },
   "file_extension": ".py",
   "mimetype": "text/x-python",
   "name": "python",
   "nbconvert_exporter": "python",
   "pygments_lexer": "ipython3",
   "version": "3.9.10"
  }
 },
 "nbformat": 4,
 "nbformat_minor": 5
}
