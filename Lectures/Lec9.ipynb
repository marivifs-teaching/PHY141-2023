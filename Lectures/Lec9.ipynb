{
 "cells": [
  {
   "cell_type": "markdown",
   "id": "b4169225",
   "metadata": {
    "slideshow": {
     "slide_type": "slide"
    }
   },
   "source": [
    "# Gravitation\n",
    "So far we have focused on contact forces. In this lecture we look at a force that acts at a distance, gravity.\n",
    "\n"
   ]
  },
  {
   "cell_type": "markdown",
   "id": "30570c1b",
   "metadata": {
    "slideshow": {
     "slide_type": "slide"
    }
   },
   "source": [
    "### Newton's Law of Gravitation\n",
    "\n",
    "Newton's famous, and supposedly apple inspired, idea that the same force that caused object's to be bound to the Earth's surface was what made the planets orbit each other was a huge step forwards, pioneering the concept of forces which act a distance.\n",
    "\n"
   ]
  },
  {
   "cell_type": "markdown",
   "id": "d2732f85",
   "metadata": {
    "slideshow": {
     "slide_type": "slide"
    }
   },
   "source": [
    "### Reasoning based on the Moon's orbit around the Earth\n",
    "\n",
    "Suppose we know both the distance of the moon from the earth $r$ ($384,000 \\mathrm{km}$) and the speed of it&#039;s orbit $v$ ($1022 \\mathrm{ms^{-1}}$).\n",
    "\n",
    "From our last lecture we know that the centripetal acceleration of an object is $a_{R}=\\frac{v^{2}}{r}$. From the known velocity and acceleration it can be found that $a_{R}=0.00272\\mathrm{ms^{-2}}$. Clearly this is much less than the acceleration due to gravity at the Earth&#039;s surface ($9.8\\mathrm{ms^{-2}}$)!\n",
    "\n",
    "So if we want to follow the idea that the same force is responsible for both the centripetal acceleration of the moon <strong>and</strong> the falling of an apple it is clear that the force due to gravity must depend on how far objects are from each other.\n",
    "\n",
    "Suppose we also know the radius of the Earth ($6400 \\mathrm{km}$). We can see that moon is about 60 times as far from the center of the Earth as the apple. The acceleration however is $\\frac{1}{3600}$. \n",
    "\n",
    "From this Newton concluded (although <a href=\"https://en.wikipedia.org/wiki/Robert_Hooke\" class=\"interwiki iw_wp\" title=\"https://en.wikipedia.org/wiki/Robert_Hooke\">Robert Hooke</a> also laid claim to this idea) that the dependence of the gravitational force should depend on the inverse square of the distance.\n",
    "\n",
    "Newton's Second Law tells us that the force on the moon must be proportional to it&#039;s mass $m_{M}$. \n",
    "\n",
    "Newton's Third Law tells us that as well as the Earth exerting a force on the Moon, the Moon should exert an equal and opposite force on the Earth, so the force needs to also be proportional to $m_{E}$. \n",
    "\n",
    "This combination of considerations leads us to:\n",
    "\n",
    "$F\\propto\\frac{m_{E}m_{M}}{r^{2}}$"
   ]
  },
  {
   "cell_type": "markdown",
   "id": "3cac4e71",
   "metadata": {
    "slideshow": {
     "slide_type": "slide"
    }
   },
   "source": [
    "### Gravitational Constant\n",
    "\n",
    "We can define a Gravitational Constant $G$ such that the force between two masses is\n",
    "\n",
    "$F=G\\frac{m_{1}m_{2}}{r^{2}}$\n",
    "\n",
    "Although Newton could determine the form of the gravitational force he could not determine the constant in his law. (He did not know the mass of the Earth or Moon.)\n",
    "\n",
    "The gravitational constant can be determined using a [torsion balance](http://upload.wikimedia.org/wikipedia/commons/9/91/Cavendish_Torsion_Balance_Diagram.svg).\n",
    "This experiment was first performed by [Henry Cavendish](https://en.wikipedia.org/wiki/Henry_Cavendish) in the [Cavendish Experiment](https://en.wikipedia.org/wiki/Cavendish_experiment)  who used it to measure the density of the Earth. Other scientists later used his results to determine the value of G.\n",
    "\n",
    "The value of $G$ is $6.67\\times10^{-11}\\mathrm{Nm^{2}kg^{-2}}$.\n",
    "\n"
   ]
  },
  {
   "attachments": {
    "image.png": {
     "image/png": "[encoded data removed]"
    }
   },
   "cell_type": "markdown",
   "id": "c6cad9e8",
   "metadata": {
    "slideshow": {
     "slide_type": "slide"
    }
   },
   "source": [
    "### Vector Form\n",
    "\n",
    "![image.png](attachment:image.png)\n",
    "\n",
    "$\\vec{F}_{12}=-G\\frac{m_{1}m_{2}}{r^2_{21}}\\hat{r}_{21}=G\\frac{m_{1}m_{2}}{r^2_{21}}\\hat{r}_{12}$\n",
    "\n",
    "$\\vec{F}_{21}=-G\\frac{m_{1}m_{2}}{r^2_{21}}\\hat{r}_{12}=G\\frac{m_{1}m_{2}}{r^2_{21}}\\hat{r}_{21}$\n",
    "\n",
    "$\\vec{F}_{12}$ is the force <strong>on</strong> particle 1 (mass $m_{1}$) <strong>due to</strong> particle 2 (mass $m_{2}$).\n",
    "\n",
    "$r_{21}$ is the distance between the two particles.\n",
    "\n",
    "$\\hat{r}_{21}$ is a unit vector which points from particle 2 toward towards particle 1.\n"
   ]
  },
  {
   "cell_type": "markdown",
   "id": "eff53fd0",
   "metadata": {
    "slideshow": {
     "slide_type": "slide"
    }
   },
   "source": [
    "### Gravitational Field\n",
    "\n",
    "The gravitational field $\\vec{g}(\\vec{r})$ due to a mass $M$ placed at the origin is \n",
    "\n",
    "$\\vec{g}(\\vec{r})=-\\frac{GM}{r^{2}}\\hat{r}$\n",
    "\n",
    "\n",
    "The normal units for gravitational field are $\\mathrm{\\frac{N}{kg}}$. (Note these are dimensionally equivalent to $\\mathrm{ms^{-2}}$.)\n",
    "\n",
    "The force on an object $m$ due this field is \n",
    "\n",
    "$\\vec{F}=m\\vec{g}$, directed towards M.\n",
    "\n",
    "Looks familiar? Near the Earth's surface we can find that $\\vec{g}=9.8\\mathrm{ms^{-2}}$.\n",
    "\n"
   ]
  },
  {
   "cell_type": "markdown",
   "id": "926d59b8",
   "metadata": {
    "slideshow": {
     "slide_type": "slide"
    }
   },
   "source": [
    "### Distributed Mass\n",
    "\n",
    "The form of the gravitation law we have presented implicitly assumes that we can approximate all the mass of an object as being at it&#039;s center. Now that we have an expression for the field we can show this to be explicitly true for spherical objects.\n",
    "\n",
    "This is trivial if you know how to do surface integrals as Newton's Law of gravity can be expressed as [Gauss' Law](https://en.wikipedia.org/wiki/Gauss%27s_law). This will be covered in PHY142.\n",
    "\n",
    "Assuming that we don't know how to do surface integrals we can also derive the result using a [shell model](https://en.wikipedia.org/wiki/Shell_theorem)\n",
    "\n",
    "We can also see from the shell model that a shell outside of an object exerts <strong>no</strong> gravitational force on it.\n",
    "\n",
    "What does this mean for an object that falls through the center of a planet?\n"
   ]
  },
  {
   "attachments": {
    "image.png": {
     "image/png": "[encoded data removed]"
    }
   },
   "cell_type": "markdown",
   "id": "0728a4da",
   "metadata": {
    "slideshow": {
     "slide_type": "slide"
    }
   },
   "source": [
    "### Falling Through a Planet\n",
    "\n",
    "![image.png](attachment:image.png)\n",
    "\n",
    "An object that falls through a hole in a planet experiences a force due to all the mass that is within a sphere such that it is closer to the center of the planet than the object.\n",
    "\n",
    "If we can assume that the density of the planet ($\\rho$) is uniform then the mass within a given radius $r$ is equivalent to $\\rho\\frac{4\\pi}{3}r^3$\n",
    "\n",
    "The force on an object at a distance $r$ from the center is therefore \n",
    "\n",
    "$F=-Gm\\frac{\\rho\\frac{4\\pi}{3}r^3}{r^2}\\hat{r}=-Gm\\rho\\frac{4\\pi}{3}r\\hspace{0.2cm}\\hat{r}$\n",
    "\n",
    "and is always directed to the center of the planet.\n",
    "\n",
    "Whatever gains in velocity made as you fall to the center, will be lost on the way back to the surface. If the object starts at rest it will turn around at the other side and repeat the motion in the other direction, oscillating back and forward for ever. We will come to this in Lec25 when we cover simple harmonic motion.\n"
   ]
  },
  {
   "cell_type": "markdown",
   "id": "11b3d746",
   "metadata": {
    "slideshow": {
     "slide_type": "slide"
    }
   },
   "source": [
    "### Gravity on Different Planets\n",
    "\n",
    "The acceleration due to gravity $\\vec{g}$ on the surface of any given planet of mass $M_{P}$ and radius $R_{P}$\n",
    "\n",
    "$\\large \\vec{g}=-\\frac{GM_{P}}{R_{P}^2}\\hat{r}$\n",
    "\n",
    "Of course it can also be useful to express this in terms of the density of the planet.\n",
    "\n",
    "$\\vec{g}=-G\\frac{4\\pi}{3}\\rho R_{P}\\hat{r}$\n"
   ]
  },
  {
   "cell_type": "markdown",
   "id": "2062b166",
   "metadata": {
    "slideshow": {
     "slide_type": "slide"
    }
   },
   "source": [
    "### Gavity at different heights above the surface\n",
    "\n",
    "Be careful that to find the gravitational acceleration of an object at height $h$ above the surface of the earth, the height needs to be added to the radius!\n",
    "\n",
    "$\\large \\vec{g}(h)=-\\frac{GM_{E}}{(R_{E}+h)^2}\\hat{r}$\n",
    "\n",
    "Also remember that this formula is not valid for $h\\lt0$ (as we showed before) because of the excluded mass. \n",
    "\n",
    "Useful numbers:\n",
    "\n",
    "$M_{E}=5.98\\times10^{24}\\mathrm{kg}$\n",
    "\n",
    "$R_{E}=6380\\mathrm{km}$\n",
    "\n",
    "$G=6.67\\times10^{-11}Nm^{2}kg^{-2}$"
   ]
  },
  {
   "cell_type": "markdown",
   "id": "c0b199a4",
   "metadata": {
    "slideshow": {
     "slide_type": "slide"
    }
   },
   "source": [
    "### Rocket Launch\n",
    "\n",
    "Consider a rocket launched from the surface of the earth with velocity $v_{0}$, if it&#039;s height above the ground is $x$ then\n",
    "\n",
    "$\\frac{dv}{dt}=\\frac{-GM_{E}}{(R_{E}+x)^{2}}$\n",
    "\n",
    "$\\frac{dv}{dx}\\frac{dx}{dt}=v\\frac{dv}{dx}=\\frac{-GM_{E}}{(R_{E}+x)^{2}}$\n",
    "\n",
    "$\\int^{v}_{v_{0}}v\\,dv=\\int^{x}_{0}\\frac{-GM_{E}}{(R_{E}+x)^{2}}\\,dx$\n",
    "\n",
    "$\\frac{1}{2}(v^{2}-v_{0}^2)=\\frac{GM_{E}}{R_{E}+x}-\\frac{GM_{E}}{R_{E}}$\n",
    "\n",
    "$v^{2}=v_{0}^2+2(\\frac{GM_{E}}{R_{E}+x}-\\frac{GM_{E}}{R_{E}})$\n",
    "\n",
    "We can see whether or not the rocket achieves escape velocity by considering the limit as $x\\to\\infty$\n"
   ]
  },
  {
   "cell_type": "markdown",
   "id": "c54b9fb6",
   "metadata": {
    "slideshow": {
     "slide_type": "slide"
    }
   },
   "source": [
    "###  Escape Velocity\n",
    "\n",
    "$v^{2}=v_{0}^2+2(\\frac{GM_{E}}{R_{E}+x}-\\frac{GM_{E}}{R_{E}})$\n",
    "\n",
    "as $x\\to\\infty$ the object will escape if\n",
    "\n",
    "$0\\geq v_{0}^{2}-\\frac{2GM_{E}}{R_{E}}$\n",
    "\n",
    "For the object to escape \n",
    "\n",
    "$v_{0}\\geq \\sqrt{\\frac{2GM_{E}}{R_{E}}}$\n",
    "\n",
    "$M_{E}=5.98\\times10^{24}\\mathrm{kg}$\n",
    "\n",
    "$R_{E}=6380\\mathrm{km}$\n",
    "\n",
    "$G=6.67\\times10^{-11}\\mathrm{Nm^{2}kg^{-2}}$\n",
    "\n",
    "$\\to v_{0}=11,200\\mathrm{ms^{-1}}$"
   ]
  }
 ],
 "metadata": {
  "celltoolbar": "Slideshow",
  "kernelspec": {
   "display_name": "Python 3 (ipykernel)",
   "language": "python",
   "name": "python3"
  },
  "language_info": {
   "codemirror_mode": {
    "name": "ipython",
    "version": 3
   },
   "file_extension": ".py",
   "mimetype": "text/x-python",
   "name": "python",
   "nbconvert_exporter": "python",
   "pygments_lexer": "ipython3",
   "version": "3.9.10"
  }
 },
 "nbformat": 4,
 "nbformat_minor": 5
}
