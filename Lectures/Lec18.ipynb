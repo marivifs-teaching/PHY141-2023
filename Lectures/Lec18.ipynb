{
 "cells": [
  {
   "cell_type": "markdown",
   "id": "9058e310",
   "metadata": {},
   "source": [
    "# Lecture 18 -Angular Momentum"
   ]
  },
  {
   "cell_type": "markdown",
   "id": "e4b83e52",
   "metadata": {},
   "source": [
    "### Angular Momentum\n",
    "\n",
    "Linear momentum\n",
    "\n",
    "$\\vec{p}=m\\vec{v}$\n",
    "\n",
    "By analogy we can expect angular momentum is given by\n",
    "\n",
    "$L=I\\omega$\n",
    "\n",
    "Units $\\mathrm{kgm^{2}/s}$\n",
    "\n",
    "Newton's Second Law for translational motion\n",
    "\n",
    "$\\Sigma \\vec{F} = m \\vec{a}=\\frac{d\\vec{p}}{dt}$\n",
    "\n",
    "By analogy we can expect Newton's Second Law for rotational motion is given by\n",
    "\n",
    "$\\Sigma \\tau=I \\alpha=\\frac{dL}{dt}$\n"
   ]
  },
  {
   "cell_type": "markdown",
   "id": "3f262ea6",
   "metadata": {},
   "source": [
    "### Conservation of angular momentum\n",
    "In the absence of a net external torque\n",
    "\n",
    "$\\Sigma \\tau=\\frac{dL}{dt}=0$\n",
    "\n",
    "and angular momentum is conserved.\n",
    "\n",
    "$L=I\\omega=\\mathrm{constant}$"
   ]
  },
  {
   "cell_type": "markdown",
   "id": "d3599d51",
   "metadata": {},
   "source": [
    "### Changing the moment of inertia of a spinning object\n",
    "\n",
    "Suppose a person with two weights in their hands can be approximated by an 80 kg cylinder of radius 15 cm. Their moment of inertia if they are spinning around an axis going down my center will be\n",
    "\n",
    "$I=\\frac{1}{2}MR^{2}=0.9\\,\\mathrm{kgm^2s^{-1}}$\n",
    "\n",
    "With their arms (which we approximate as 3.5 kg and a length of 0.75 m from their shoulder) extended holding 2.3 kg weights their moment of inertia will be considerably higher. When they are holding their arms and weights out I should remove their mass from the cylinder\n",
    "\n",
    "$I=\\frac{1}{2}68.4\\times0.15^2=0.77\\,\\mathrm{kgm^2s^{-1}}$\n",
    "\n",
    "The moment of inertia of the two weights around the axis when their arms are extended is \n",
    "\n",
    "$I=2\\times2.3\\times(0.9)^{2}=3.726\\,\\mathrm{kgm^2s^{-1}}$\n",
    "\n",
    "The <a href=\"https://en.wikipedia.org/wiki/List_of_moments_of_inertia\" class=\"interwiki iw_wp\" title=\"https://en.wikipedia.org/wiki/List_of_moments_of_inertia\">moment of inertia</a> of an arm if it is rotated around it's center of mass is \n",
    "\n",
    "$I=\\frac{1}{12}\\times3.5\\times(0.75)^2=0.16\\,\\mathrm{kgm^2s^{-1}}$\n",
    "\n",
    "But if it rotates around a point $0.375+0.15\\,\\mathrm{m}$ from it's center of mass then its moment of inertia is\n",
    "\n",
    "$I=\\frac{1}{2}\\times3.5\\times(0.75/2)^2+3.5\\times(0.375+0.15)^2$<br/>\n",
    "\n",
    "$=0.16+0.96=1.12\\,\\mathrm{kgm^2s^{-1}}$\n",
    "\n",
    "So the total moment of inertia due to the extended arms, weights and the cylinder is \n",
    "\n",
    "$I=0.77+3.726+2.24=6.736\\,\\mathrm{kgm^2s^{-1}}$\n"
   ]
  },
  {
   "cell_type": "code",
   "execution_count": null,
   "id": "e3f81490",
   "metadata": {},
   "outputs": [],
   "source": [
    "M=80 #kg\n",
    "Rc = 0.15 # 15 cm\n",
    "Ic=0.5*M*Rc**2\n",
    "La = 0.75 #m\n",
    "Wa = 3.5 #kg\n",
    "\n",
    "#Iextended = 0.5*(M-2*Wa)*Rc**2 + 2*"
   ]
  },
  {
   "cell_type": "markdown",
   "id": "5f2ace5c",
   "metadata": {},
   "source": [
    "### Consequence of conservation of angular momentum\n",
    "\n",
    "From the previous calculation we have\n",
    "\n",
    "With arms in $I=0.9\\,\\mathrm{kgm^2s^{-1}}$\n",
    "\n",
    "With arms out $I=6.736\\,\\mathrm{kgm^2s^{-1}}$\n",
    "\n",
    "If I am rotating with angular velocity $\\omega$ with my arms out and I bring them in then my angular velocity afterward is $\\omega'$ and from conservation of momentum \n",
    "\n",
    "$L=I\\omega=I'\\omega'$\n",
    "\n",
    "$\\frac{\\omega'}{\\omega}=\\frac{I}{I'}=\\frac{6.916}{0.9}=7.5$\n",
    "\n",
    "Let's see if it works!\n"
   ]
  },
  {
   "cell_type": "markdown",
   "id": "cf68770f",
   "metadata": {},
   "source": [
    "### Vector cross product\n",
    "\n",
    "To properly understand angular momentum and torque we will first need to discuss vector cross products.\n",
    "\n",
    "\n",
    "The <a href=\"https://en.wikipedia.org/wiki/Cross_product\" class=\"interwiki iw_wp\" title=\"https://en.wikipedia.org/wiki/Cross_product\">cross product</a> of two vectors $\\vec{A}$ and $\\vec{B}$ is another vector\n",
    "\n",
    "\n",
    "$\\vec{C}=\\vec{A}\\times\\vec{B}$\n",
    "\n",
    "\n",
    "The magnitude of the vector $\\vec{C}$ is $AB\\sin\\theta$\n",
    "\n",
    "\n",
    "The direction of $\\vec{C}$ is perpendicular to the plane which contains both $\\vec{A}$ and $\\vec{B}$. Use of the <a href=\"http://upload.wikimedia.org/wikipedia/commons/d/d2/Right_hand_rule_cross_product.svg\" class=\"urlextern\" title=\"http://upload.wikimedia.org/wikipedia/commons/d/d2/Right_hand_rule_cross_product.svg\">right hand rule</a> can help you determine this direction.\n",
    "\n",
    "\n",
    "If we consider the vectors in unit vector notation, $\\vec{A}=A_{x}\\hat{i}+A_{y}\\hat{j}+A_{z}\\hat{k}$ and $\\vec{B}=B_{x}\\hat{i}+B_{y}\\hat{j}+B_{z}\\hat{k}$ the cross product can be expressed as the <a href=\"https://en.wikipedia.org/wiki/Determinant\" class=\"interwiki iw_wp\" title=\"https://en.wikipedia.org/wiki/Determinant\">determinant</a> of a matrix\n",
    "\n",
    "\n",
    "$\\vec{A}\\times\\vec{B}=$\n",
    "\n",
    "$\n",
    "\\begin{vmatrix}\n",
    "\\hat{i}&\\hat{j} & \\hat{k}\\\\\n",
    "A_{x} & A_{y} & A_{z} \\\\\n",
    "B_{x} & B_{y} & B_{z} \\\\\n",
    "\\end{vmatrix}\n",
    "$\n",
    "\n",
    "$ = \\hat{i}\\begin{pmatrix}\n",
    "A_{y} & A_{z}\\\\\n",
    " B_{y} & B_{z} \n",
    "\\end{pmatrix}$  - $ \\hat{j}\\begin{pmatrix}\n",
    "A_{x} & A_{z}\\\\\n",
    " B_{x} & B_{z} \n",
    "\\end{pmatrix}$ +\n",
    "$ \\hat{k}\\begin{pmatrix}\n",
    "A_{x} & A_{y}\\\\\n",
    " B_{x} & B_{y} \n",
    "\\end{pmatrix}$\n",
    " \n",
    " \n",
    "$=(A_{y}B_{z}-A_{z}B_{y})\\hat{i}+(A_{z}B_{x}-A_{x}B_{z})\\hat{j}+(A_{x}B_{y}-A_{y}B_{x})\\hat{k}$\n"
   ]
  },
  {
   "cell_type": "markdown",
   "id": "de9cd442",
   "metadata": {},
   "source": [
    "### Properties of cross products\n",
    "\n",
    "$\\vec{A}\\times\\vec{A}=0$\n",
    "\n",
    "$\\vec{A}\\times\\vec{B}=-\\vec{B}\\times\\vec{A}$\n",
    "\n",
    "$\\vec{A}\\times(\\vec{B}+\\vec{C})=(\\vec{A}\\times\\vec{B})+(\\vec{A}\\times\\vec{C})$\n",
    "\n",
    "$\\frac{d}{dt}(\\vec{A}\\times\\vec{B})=\\frac{d\\vec{A}}{dt}\\times\\vec{B}+\\vec{A}\\times\\frac{d\\vec{B}}{dt}$\n"
   ]
  },
  {
   "cell_type": "markdown",
   "id": "3d50b2f7",
   "metadata": {},
   "source": [
    "### Torque as a vector\n",
    "\n",
    "When we talked about torque before we looked at how to calculate it&#039;s magnitude. More correctly it is a vector $\\vec{\\tau}$ that is defined from a cross product of force $\\vec{F}$ and the displacement from the center $\\vec{r}$\n",
    "\n",
    "$\\vec{\\tau}=\\vec{r}\\times\\vec{F}$\n",
    "\n",
    "![im.png](images/torquevector.png) "
   ]
  },
  {
   "cell_type": "markdown",
   "id": "81554de2",
   "metadata": {},
   "source": [
    "### Angular momentum as a vector cross product\n",
    "\n",
    "![im.png](images/lvector.png)\n",
    "\n",
    "The most general definition of angular momentum is as the cross product of the position vector $\\vec{r}$ and the linear momentum of the object $\\vec{p}$. Here we consider a single particle of mass $m$\n",
    "\n",
    "$\\vec{L}=\\vec{r}\\times\\vec{p}$\n",
    "\n",
    "We can relate the angular momentum to the torque by taking the derivative of $\\vec{L}$ with respect to time\n",
    "\n",
    "$\\frac{d\\vec{L}}{dt}=\\frac{d}{dt}(\\vec{r}\\times\\vec{p})=\\frac{d\\vec{r}}{dt}\\times\\vec{p}+\\vec{r}\\times\\frac{d\\vec{p}}{dt}=\\vec{v}\\times m\\vec{v}+\\vec{r}\\times\\frac{d\\vec{p}}{dt}=\\vec{r}\\times\\frac{d\\vec{p}}{dt}$\n",
    "\n",
    "In an <a href=\"https://en.wikipedia.org/wiki/Inertial_frame_of_reference\" class=\"interwiki iw_wp\" title=\"https://en.wikipedia.org/wiki/Inertial_frame_of_reference\">inertial reference frame</a> (non accelerating reference frame) $\\Sigma \\vec{F}=\\frac{d\\vec{p}}{dt}$\n",
    "\n",
    "$\\vec{r}\\times\\frac{d\\vec{p}}{dt}=\\vec{r}\\times\\Sigma\\vec{F}=\\Sigma\\vec{\\tau}$\n",
    "\n",
    "$\\Sigma\\vec{\\tau}=\\frac{d\\vec{L}}{dt}$"
   ]
  },
  {
   "cell_type": "markdown",
   "id": "399d535c",
   "metadata": {},
   "source": [
    "### Angular momentum of a system of objects\n",
    "\n",
    "For a system of objects the total angular momentum is given \n",
    "\n",
    "$\\frac{d\\vec{L}}{dt}=\\Sigma{\\vec{\\tau}_{ext}}$\n",
    "\n",
    "following from the usual cancellation of internal forces between objects due to Newton&#039;s Third Law.\n",
    "\n",
    "This equation, like the one before is only true when $\\vec{\\tau}_{ext}$ and $\\vec{L}$ are calculated about a point which is moving uniformly in an inertial reference frame.\n",
    "\n",
    "If these quantities are calculated around a point that is accelerating the equation does not hold, except for in one special case, which is for motion around the center of mass of the system (proof in text).  So we can say that \n",
    "\n",
    "$\\frac{d\\vec{L}_{CM}}{dt}=\\Sigma\\vec{\\tau}_{CM}$\n",
    "\n",
    "even if the center of mass is accelerating. This is very important!"
   ]
  },
  {
   "cell_type": "markdown",
   "id": "f007ecdb",
   "metadata": {},
   "source": [
    "### Angular momentum of rigid objects\n",
    "<div class=\"level2\">\n",
    "<div class=\"table sectionedit13\"><table class=\"inline\">\n",
    "\t<tr class=\"row0\">\n",
    "\t\t<td class=\"col0\"> <a href=\"images/lfixedobject.png\" class=\"media\" title=\"phy141:lectures:lfixedobject.png\"><img src=\"images/lfixedobject.png\" class=\"media\" alt=\"\" /></a> </td><td class=\"col1\"> If we have a rigid object rotating about an axis that has a fixed direction it is useful to know the component of angular momentum along the axis of the rotating object. Each piece of the object will have angular momentum <br/>\n",
    "$\\vec{L}_{i}=\\vec{r}_{i}\\times\\vec{p}_{i}$ </td>\n",
    "\t</tr>\n",
    "</table></div>\n",
    "\n",
    "\n",
    "We can express the component along the rotation axis of each of these individual angular momenta as\n",
    "\n",
    "$L_{i\\omega}=r_{i}p_{i}\\cos\\phi=m_{i}v_{i}r_{i}\\cos\\phi$\n",
    "\n",
    "Using $r_{i}\\cos\\phi=R_{i}$ and $v_{i}=R_{i}\\omega_{i}$ we find that \n",
    "\n",
    "$L_{i\\omega}=m_{i}R_{i}^{2}\\omega$\n",
    "\n",
    "Summing over the entire object\n",
    "\n",
    "$L_{\\omega}=(\\Sigma_{i}m_{i}R_{i}^2)\\omega=I\\omega$\n",
    "\n",
    "This looks like the intuitive relationship we used earlier, but we should be careful, this equation is for the component of angular momentum along the rotation axis. If the object is symmetric we can however reason that all components of angular momentum not along the axis cancel out and\n",
    "\n",
    "$\\vec{L}=I\\vec{\\omega}$\n",
    "\n",
    "If the conditions discussed above are fulfilled we can also use $\\Sigma\\tau=\\frac{dL}{dt}$ to show that \n",
    "\n",
    "$\\Sigma\\tau_{axis}=\\frac{d}{dt}(I\\omega)=I\\frac{d\\omega}{dt}=I\\alpha$\n",
    "\n"
   ]
  },
  {
   "cell_type": "markdown",
   "id": "9325a809",
   "metadata": {},
   "source": [
    "### Some fun with a bike wheel\n",
    "\n",
    "![im.png](images/spinningbikewheel.png)\n",
    "\n",
    "If I want to turn the bike wheel from spinning vertically to horizontally which way should I jerk the handle of the wheel.\n",
    "\n",
    "* A. Up\n",
    "* B. Down\n",
    "* C. To my left \n",
    "* D. To my right\n"
   ]
  },
  {
   "cell_type": "markdown",
   "id": "36135832",
   "metadata": {},
   "source": [
    "### Next Lecture\n",
    "\n",
    "* Gyroscopes\n",
    "* Rolling with slipping\n",
    "* Coriolis Effect\n",
    "* Other cool rotational stuff as time allows!"
   ]
  },
  {
   "cell_type": "code",
   "execution_count": null,
   "id": "fc12053c",
   "metadata": {},
   "outputs": [],
   "source": []
  }
 ],
 "metadata": {
  "kernelspec": {
   "display_name": "Python 3 (ipykernel)",
   "language": "python",
   "name": "python3"
  },
  "language_info": {
   "codemirror_mode": {
    "name": "ipython",
    "version": 3
   },
   "file_extension": ".py",
   "mimetype": "text/x-python",
   "name": "python",
   "nbconvert_exporter": "python",
   "pygments_lexer": "ipython3",
   "version": "3.9.10"
  }
 },
 "nbformat": 4,
 "nbformat_minor": 5
}
