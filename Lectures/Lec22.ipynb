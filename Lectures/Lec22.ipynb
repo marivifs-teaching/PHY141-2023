{
 "cells": [
  {
   "cell_type": "markdown",
   "id": "b271dfab",
   "metadata": {},
   "source": [
    "# Lecture 22 - Static Fluids"
   ]
  },
  {
   "cell_type": "markdown",
   "id": "35693745",
   "metadata": {},
   "source": [
    "### Phases of Matter\n",
    "\n",
    "* Solids - Will maintain a fixed shape and will not flow.\n",
    "* Liquids - Does not maintain a fixed shape, will flow, but is not readily compressible.>\n",
    "* Gases - Does not maintain a fixed shape, will flow, and will expand or contract depending on the container it is in \n",
    "* Plasma - Ionized atoms in which electrons are stripped from the nucleus.\n",
    "\n",
    "Typically the progression amongst these [phases](http://cse.ssl.berkeley.edu/artemis/mission_sunearth_closeup1.html) is associated with increasing temperature or internal energy.\n",
    "\n",
    "Here we are concerned with fluids, in other words matter which flows, ie. either gasses or liquids."
   ]
  },
  {
   "cell_type": "markdown",
   "id": "f876d54d",
   "metadata": {},
   "source": [
    "### Density and specific gravity\n",
    "\n",
    "The [density](https://en.wikipedia.org/wiki/Density) of a substance is defined as\n",
    "\n",
    "$\\large \\rho=\\frac{m}{V}$\n",
    "\n",
    "The [specific gravity](https://en.wikipedia.org/wiki/Specific_gravity) of a substance is it's density relative to the density of water at $4.0^{o}\\mathrm{C}$ which is $1.00\\mathrm{g/cm^{3}}=1\\times10^{3}\\mathrm{kg/m^{3}}$\n",
    "\n",
    "So we can say that the specific gravity of a substance is equal to it's density in $\\mathrm{g/cm^{3}}$.\n"
   ]
  },
  {
   "cell_type": "markdown",
   "id": "cabcff39",
   "metadata": {},
   "source": [
    "### Pressure\n",
    "\n",
    "[Pressure](https://en.wikipedia.org/wiki/Pressure) is defined as the force per unit area in a direction perpendicular to the surface of an object\n",
    "\n",
    "$\\large P=\\frac{F}{A}$\n",
    "\n",
    "There are **lots** of units for pressure.\n",
    "\n",
    "The  SI unit is $\\mathrm{N/m^{2}}$ or pascal ($\\mathrm{Pa}$).\n",
    "\n",
    "You will also be familiar with $\\mathrm{psi}$ ($\\mathrm{lb/in^{2}}$)\n",
    "\n",
    "$1 \\mathrm{psi}=6.895×10^{3}\\,\\mathrm{Pa}$\n",
    "\n",
    "Some other common units are:\n",
    "\n",
    "$1\\,\\mathrm{atm}=101.3\\,\\mathrm{kPa}$\n",
    "    \n",
    "$1\\,\\mathrm{Torr}=1\\mathrm{mm_{Hg}}=133\\,\\mathrm{Pa}$\n",
    "\n",
    "$1\\,\\mathrm{bar}=1.0\\times10^{5}\\,\\mathrm{Pa}$\n",
    "\n",
    "Click [here](http://en.wikipedia.org/wiki/Template:Pressure_Units) for a conversion table."
   ]
  },
  {
   "cell_type": "markdown",
   "id": "6e5b8f44",
   "metadata": {},
   "source": [
    "### Pressure as a function of depth in a static fluid\n",
    "\n",
    "![im.png](images/pressuredepth.png)\n",
    "\n",
    "At a given depth in a static fluid the pressure must be the same in every direction, otherwise the fluid would not be static. The force due to the fluid on any solid surface it touches must be perpendicular to the surface, otherwise there would be some flow of the fluid over the surface.\n",
    "\n",
    "To quantify the force due to pressure on a surface of area $A$ at a depth $h$ we should consider it's origin, which is gravitational force acting on liquid above the point at which we want to know the pressure.\n",
    "\n",
    "So the pressure due to the <strong>water only</strong> will be\n",
    "\n",
    "$P=\\frac{F}{A}=\\frac{\\rho A hg}{A}=\\rho gh$\n",
    "\n",
    "We need to also take in to account the external pressure, so we should come up with a more general formula which will let us take that in to account.\n",
    "\n",
    "We can consider a slab of water of thickness $dy$ at height $y$ above the bottom. The pressure acting on the bottom is $P$, the pressure on the top at height $y+dy$ differs by $dP$ (making it $P+dP$).\n",
    "\n",
    "Gravity acts on the slab and the force due to gravity on the slab is $dF_{G}=\\rho g A\\,dy$\n",
    "\n",
    "The equilibrium condition tells us that all the forces must balance so\n",
    "\n",
    "$PA-(P+dP)A-\\rho gA\\,dy=0$\n",
    "\n",
    "giving us a differential form of the relationship between pressure and depth\n",
    "\n",
    "$\\frac{dP}{dy}=-\\rho g$"
   ]
  },
  {
   "cell_type": "markdown",
   "id": "c2b551a4",
   "metadata": {},
   "source": [
    "### Pressure in an open container\n",
    "\n",
    "![im.png](images/opencontainer.png)\n",
    "\n",
    "We will now apply our equation for pressure\n",
    "\n",
    "$\\frac{dP}{dy}=-\\rho g$\n",
    "\n",
    "to an open container of fluid of uniform density\n",
    "\n",
    "$\\int_{P_{1}}^{P_{2}}\\,dP=-\\int_{y_{1}}^{y_{2}}\\rho g\\,dy$\n",
    "\n",
    "$P_{2}-P_{1}=-\\rho g(y_{2}-y_{1})$\n",
    "\n",
    "The depth $h=y_{2}-y_{1}$ and the pressure at the top $P_{2}$ is atmospheric pressure $P_{0}$\n",
    "\n",
    "We can therefore say that the pressure at depth $h$, $P=P_{1}$ is\n",
    "\n",
    "$P=P_{0}+\\rho gh$\n",
    "\n",
    "We can see that we need to take in to account the pressure of the atmosphere above the container!\n"
   ]
  },
  {
   "cell_type": "markdown",
   "id": "84de71f1",
   "metadata": {},
   "source": [
    "### Container with hose\n",
    "\n",
    "![im.png](images/containerwithhose.png)\n",
    "\n",
    "If we now consider the same situation but with a hole in the bottom, to which a hose is attached the pressure change is again\n",
    "\n",
    "$\\int_{P_{1}}^{P_{2}}\\,dP=-\\int_{y_{1}}^{y_{2}}\\rho g\\,dy$\n",
    "\n",
    "$P_{2}-P_{1}=-\\rho g(y_{2}-y_{1})$\n",
    "\n",
    "so the pressure **difference** is again $\\rho gh$, but we should remember that the atmospheric pressure is the same at both ends, so if you want to find the effective pressure on the water at the end of the hose you should not add on the atmospheric pressure.\n"
   ]
  },
  {
   "cell_type": "markdown",
   "id": "587c143c",
   "metadata": {},
   "source": [
    "### Non uniform density - atmospheric pressure at elevation\n",
    "\n",
    "In the previous example we consider atmospheric pressure to be the same at both ends. This is very good approximation for small height differences. Over large distances we need some way to account for changes in destiny. An approximation made mostly for mathematical convenience is to treat the density of the air as proportional to pressure.\n",
    "\n",
    "$\\frac{\\rho}{\\rho_{0}}=\\frac{P}{P_{0}}$\n",
    "\n",
    "Here $P_{0}$ is the atmospheric pressure at the Earth&#039;s surface, $101.3\\,\\mathrm{kPa}$ and $\\rho_{0}$ is the density, $1.29\\,\\mathrm{kg/m^{3}}$\n",
    "\n",
    "$\\frac{dP}{dy}=-\\rho g= -P\\frac{\\rho_{o}}{P_{0}}g$\n",
    "\n",
    "$\\frac{dP}{P}=-\\frac{\\rho_{0}}{P_{0}}g\\,dy$\n",
    "\n",
    "$\\int_{P_{0}}^{P}\\frac{dP}{P}=-\\frac{\\rho_{0}}{P_{0}}g\\int_{0}^{y}dy$\n",
    "\n",
    "$\\ln{P}-ln{P_{0}}=-\\frac{\\rho_{0}}{P_{0}}gy$\n",
    "\n",
    "$\\ln\\frac{P}{P_{0}}=-\\frac{\\rho_{0}}{P_{0}}gy$\n",
    "\n",
    "$P=P_{0}e^{-(\\rho_{0}g/P_{0})y}$"
   ]
  },
  {
   "cell_type": "markdown",
   "id": "25d9831b",
   "metadata": {},
   "source": [
    "### Gauge Pressure\n",
    "\n",
    "If you measure the pressure in your tires you are actually measuring the pressure difference between the atmospheric pressure. The absolute pressure is therefore the sum of the gauge pressure $P_{G}$, which is what you measure, and the atmospheric pressure $P_{0}$\n",
    "\n",
    "$P=P_{0}+P_{G}$\n",
    "\n",
    "There are many different methods for <a href=\"https://en.wikipedia.org/wiki/Pressure_measurement\" class=\"interwiki iw_wp\" title=\"https://en.wikipedia.org/wiki/Pressure_measurement\">measuring pressure</a>.\n"
   ]
  },
  {
   "cell_type": "markdown",
   "id": "ed1cff90",
   "metadata": {},
   "source": [
    "### Pascal's Principle\n",
    "\n",
    "Pascal's principle, due to [Blaise Pascal](https://en.wikipedia.org/wiki/Blaise_Pascal) is an important principle that is the basis of the [hydraulic press](https://en.wikipedia.org/wiki/Hydraulic_press)\n",
    "\n",
    "\n",
    "**Pascal's Principle:** If an external pressure is applied to a confined fluid the pressure at every point within the fluid increases by that amount.\n",
    "\n",
    "$\\frac{F_{1}}{A_{1}}=\\frac{F_{2}}{A_{2}}$\n",
    "\n",
    "![im.png](images/hydraulicpress.png)"
   ]
  },
  {
   "cell_type": "markdown",
   "id": "195599bf",
   "metadata": {},
   "source": [
    "### Buoyancy\n",
    "\n",
    "![im.png](images/buoyancy.png)\n",
    "    \n",
    "Earlier we looked at the forces on an element within a fluid. Now we will look at an object that has displaced some of the fluid. In this case there is a force we call the buoyant force which reflects the difference between the force on the top and bottom of the object due to the fluid . In a fluid of uniform density $\\rho_{f}$\n",
    "\n",
    "$F_{B}=F_{2}-F_{1}=\\rho_{f}gA(h_{2}-h_{1})=\\rho_{f}gA\\Delta h=\\rho_{f}Vg=m_{f}g$\n",
    "\n",
    "We can note from this equation that the buoyant force does not depend on the depth of the object or on the density of the object. The buoyant force is determined by the weight of the fluid which is displaced by the object.\n",
    "\n",
    "This is a statement of [Archimedes' principle](https://en.wikipedia.org/wiki/Buoyancy) discovered by Archimedes in the 3rd century BC."
   ]
  },
  {
   "cell_type": "markdown",
   "id": "3620804f",
   "metadata": {},
   "source": [
    "### The legendary experiment of Archimedes\n",
    "\n",
    "Legend has it that Archimedes arrive at his principle while working on a task for King Hiero II who wished to know if a crown he had asked to be made from pure gold actually was…without damaging it! \n",
    "\n",
    "The most likely way that he achieves this was by the application of his principle to [a balance](http://upload.wikimedia.org/wikipedia/commons/e/ec/Archimedes_water_balance.gif) with the crown on one side and a pure gold brick on the other.\n",
    "\n",
    "The net force of an object is determined by the sum of the buoyant force and the gravitational force. If an object is more dense than the water then it will sink to a point where either the fluid density is the same as the object density, or to the bottom where it can be supported by normal force.\n",
    "\n",
    "The net force on an object will be $\\vec{F}_{B}+\\vec{F}_{G}=\\rho_{F}V_{O}g-\\rho_{O}V_{O}g$.\n",
    "\n",
    "For the scale to balance in air \n",
    "\n",
    "$\\rho_{c}V_{c}gl_{1}=\\rho_{b}V_{b}gl_{2}$\n",
    "\n",
    "For it to balance in water\n",
    "\n",
    "$(\\rho_{c}-\\rho_{w})V_{c}gl_{1}=(\\rho_{b}-\\rho_{w})V_{b}gl_{2}$\n",
    "\n",
    "Which would mean that \n",
    "\n",
    "$V_{c}gl_{1}=V_{b}gl_{2}$\n",
    "\n",
    "which can only be true if $\\rho_{c}=\\rho_{b}$. If the scale tips the densities are not equal and the fraud is exposed!"
   ]
  },
  {
   "cell_type": "markdown",
   "id": "01fcbe65",
   "metadata": {},
   "source": [
    "### Sinking and Floating\n",
    "\n",
    "For objects less dense than water Archimedes' principle also applies.\n",
    "\n",
    "An object floats when the gravitational force balances the buoyant force\n",
    "\n",
    "$F_{B}=mg$\n",
    "\n",
    "$\\rho_{F}V_{displ}g=\\rho_{O}V_{O}g$\n",
    "\n",
    "$\\frac{V_{displ}}{V_{0}}=\\frac{\\rho_{O}}{\\rho_{f}}$\n",
    "\n",
    "The fraction of the volume which is displaced, or equivalently, the fraction of the object which is submerged, is determined by ratio of the object's density to that of the fluid.\n",
    "\n",
    "![im.png](images/floating.png)"
   ]
  },
  {
   "cell_type": "markdown",
   "id": "9462b771",
   "metadata": {},
   "source": [
    "### Helium Balloon\n",
    "\n",
    "As long a balloon is free to expand the pressure will be the same on the outside and inside of the balloon, and so the density of the helium balloon will remain less than the surrounding atmosphere as long as the composition doesn't change to lighter elements. Of course at some point the balloon will stop expanding and so the while the density of the gas inside will remain the same the density outside will be decreasing as the balloon continues to ascend, until the density inside and outside is the same and the balloon reaches float altitude. So if you want to go to the edge of space you need a [really big balloon](https://www.redbull.com/int-en/stratos-space-jump-key-facts-numbers).\n",
    "\n",
    "This would be a good time to [jump!](https://www.redbull.com/us-en/projects/red-bull-stratos) \n"
   ]
  },
  {
   "cell_type": "code",
   "execution_count": null,
   "id": "7e522a80",
   "metadata": {},
   "outputs": [],
   "source": []
  }
 ],
 "metadata": {
  "kernelspec": {
   "display_name": "Python 3 (ipykernel)",
   "language": "python",
   "name": "python3"
  },
  "language_info": {
   "codemirror_mode": {
    "name": "ipython",
    "version": 3
   },
   "file_extension": ".py",
   "mimetype": "text/x-python",
   "name": "python",
   "nbconvert_exporter": "python",
   "pygments_lexer": "ipython3",
   "version": "3.9.10"
  }
 },
 "nbformat": 4,
 "nbformat_minor": 5
}
