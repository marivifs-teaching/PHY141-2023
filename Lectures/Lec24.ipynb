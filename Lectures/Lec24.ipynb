{
 "cells": [
  {
   "cell_type": "markdown",
   "id": "96cc1415",
   "metadata": {},
   "source": [
    "# Lecture 24 - Simple Harmonic Motion\n",
    "\n",
    "We will now begin to consider oscillatory motion, beginning with the simplest example, <a href=\"http://en.wikipedia.org/wiki/Simple_harmonic_motion\" class=\"urlextern\" title=\"http://en.wikipedia.org/wiki/Simple_harmonic_motion\">simple harmonic motion</a>.\n"
   ]
  },
  {
   "cell_type": "markdown",
   "id": "feb35346",
   "metadata": {},
   "source": [
    "### Restoring force of a spring\n",
    "\n",
    "![im.png](images/springforceshm.png)"
   ]
  },
  {
   "cell_type": "markdown",
   "id": "57409d98",
   "metadata": {},
   "source": [
    "### A vertical spring\n",
    "\n",
    "A vertical spring will also execute simple harmonic motion, though it&#039;s mean position will be modified by the balance of the gravitational force and the spring force.\n",
    "\n",
    "![im.png](images/shmvspring.png)"
   ]
  },
  {
   "cell_type": "markdown",
   "id": "61f2cbe2",
   "metadata": {},
   "source": [
    "### SHM as a function of time\n",
    "\n",
    "These <a href=\"http://www.animations.physics.unsw.edu.au//jw/SHM.htm\" class=\"urlextern\" title=\"http://www.animations.physics.unsw.edu.au//jw/SHM.htm\">animations</a> from physclips show the form of displacement, velocity and acceleration of an object in SHM as a function of time.\n",
    "\n"
   ]
  },
  {
   "cell_type": "markdown",
   "id": "0faf0f46",
   "metadata": {},
   "source": [
    "### Equations of motion for SHM\n",
    "\n",
    "Starting from Newton's 2nd Law\n",
    "\n",
    "$ma=\\Sigma F$\n",
    "\n",
    "$m\\frac{d^{2}x}{dt^{2}}=-kx$\n",
    "\n",
    "Based on our previous observations we might guess that the displacement will be able to be expressed as trigonometric function of time.\n",
    "\n",
    "$x=A\\cos(\\omega t+\\phi)$\n",
    "\n",
    "$A$ is the amplitude, $\\omega=\\frac{2\\pi}{T}=2\\pi f$ and $\\phi$ allows us to change the starting point of the motion.\n",
    "\n",
    "$\\frac{dx}{dt}=v=-\\omega A\\sin(\\omega t+\\phi)$\n",
    "\n",
    "$\\frac{d^{2}x}{dt^{2}}=a=-\\omega^{2}A\\cos(\\omega t+\\phi)$\n",
    "\n",
    "$-m\\omega^{2}A\\cos(\\omega t+\\phi)=-kA\\cos(\\omega t+\\phi)$\n",
    "\n",
    "which is true if \n",
    "\n",
    "$\\omega^{2}=\\frac{k}{m}$\n",
    "\n",
    "$T=2\\pi\\sqrt{\\frac{m}{k}}$\n"
   ]
  },
  {
   "cell_type": "markdown",
   "id": "13902ce7",
   "metadata": {},
   "source": [
    "### Energy in SHM\n",
    "\n",
    "![im.png](images/shmspringenergy.png)\n",
    "\n",
    "$\\frac{1}{2}kA^{2}=\\frac{1}{2}kx^{2}+\\frac{1}{2}mv^{2}$\n",
    "\n",
    "\n",
    "$v=\\pm\\sqrt{\\frac{k}{m}(A^{2}-x^{2})}$"
   ]
  },
  {
   "cell_type": "markdown",
   "id": "97a3c036",
   "metadata": {},
   "source": [
    "### Simple harmonic motion with multiple springs\n",
    "\n",
    "There is a wikipedia page on <a href=\"https://en.wikipedia.org/wiki/Series_and_parallel_springs\" class=\"interwiki iw_wp\" title=\"https://en.wikipedia.org/wiki/Series_and_parallel_springs\">multiple springs</a> which has a detailed explanation of the effective spring constants of springs in series and parallel.\n",
    "The key result is that for springs in parallel\n",
    "\n",
    "$k_{eq}=k_{1}+k_{2}$\n",
    "\n",
    "and for springs in series\n",
    "\n",
    "$\\frac{1}{k_{eq}}=\\frac{1}{k_{1}}+\\frac{1}{k_{2}}$\n"
   ]
  },
  {
   "cell_type": "markdown",
   "id": "222efc75",
   "metadata": {},
   "source": [
    "### Simple Pendulum\n",
    "\n",
    "![im.png](images/simplependulum.png)\n",
    "\n",
    "The restoring force above is $F=-mg\\sin\\theta$\n",
    "\n",
    "For small angles $\\sin\\theta=\\theta$ so $F\\approx-mg\\theta$\n",
    "\n",
    "and using the relation $s=l\\theta$ gives $F\\approx-\\frac{mg}{L}s$\n",
    "\n",
    "This is essentially the same as $F=-kx$ with $k=\\frac{mg}{L}$\n",
    "\n",
    "So $\\omega=\\sqrt{\\frac{k}{m}}$ → $\\omega=\\sqrt{\\frac{g}{l}}$\n",
    "\n",
    "$f=\\frac{\\omega}{2\\pi}=\\frac{1}{2\\pi}\\sqrt{\\frac{g}{l}}$\n",
    "\n",
    "$T=\\frac{1}{f}=2\\pi\\sqrt{\\frac{l}{g}}$\n",
    "\n"
   ]
  },
  {
   "cell_type": "markdown",
   "id": "831430de",
   "metadata": {},
   "source": [
    "### Coming Up\n",
    "\n",
    "* Physical Pendulum\n",
    "* Torsional Pendulum\n",
    "* Damped Harmonic Motion\n",
    "* Forced Harmonic Motion\n",
    "\n"
   ]
  },
  {
   "cell_type": "code",
   "execution_count": 3,
   "id": "01e5d910",
   "metadata": {},
   "outputs": [
    {
     "data": {
      "text/plain": [
       "0.12085229878884929"
      ]
     },
     "execution_count": 3,
     "metadata": {},
     "output_type": "execute_result"
    }
   ],
   "source": [
    "import numpy as np\n",
    "4*np.pi**2*.15/49"
   ]
  },
  {
   "cell_type": "code",
   "execution_count": null,
   "id": "5b416224",
   "metadata": {},
   "outputs": [],
   "source": []
  }
 ],
 "metadata": {
  "kernelspec": {
   "display_name": "Python 3 (ipykernel)",
   "language": "python",
   "name": "python3"
  },
  "language_info": {
   "codemirror_mode": {
    "name": "ipython",
    "version": 3
   },
   "file_extension": ".py",
   "mimetype": "text/x-python",
   "name": "python",
   "nbconvert_exporter": "python",
   "pygments_lexer": "ipython3",
   "version": "3.9.10"
  }
 },
 "nbformat": 4,
 "nbformat_minor": 5
}
