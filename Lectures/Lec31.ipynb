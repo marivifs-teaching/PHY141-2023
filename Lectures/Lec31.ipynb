{
 "cells": [
  {
   "cell_type": "markdown",
   "id": "aa423f19",
   "metadata": {},
   "source": [
    "# Lecture 31 Heat"
   ]
  },
  {
   "cell_type": "markdown",
   "id": "bfbac16c",
   "metadata": {},
   "source": [
    "### What is heat?\n",
    "\n",
    "<a href=\"https://en.wikipedia.org/wiki/Heat\" class=\"interwiki iw_wp\" title=\"https://en.wikipedia.org/wiki/Heat\">Heat</a> should not be confused with temperature.\n",
    "\n",
    "Heat is the energy transferred from one body to another due to thermal contact when the bodies are at different temperatures.\n",
    "\n",
    "An early theory of heat was the <a href=\"https://en.wikipedia.org/wiki/Caloric_theory\" class=\"interwiki iw_wp\" title=\"https://en.wikipedia.org/wiki/Caloric_theory\">caloric theory</a>, which suggested that there was a fluid called caloric that was transferred from a hot to a cold body. The idea that there was a particular substance associated with heat would imply conservation of heat.\n",
    "\n",
    "A key player in overturning the caloric theory was <a href=\"https://en.wikipedia.org/wiki/James_Prescott_Joule\" class=\"interwiki iw_wp\" title=\"https://en.wikipedia.org/wiki/James_Prescott_Joule\">James Prescott Joule</a>. Through number of experiments, initially motivated by his interest in using electric motors to power his brewery he was able to show the relationship between energy and heat, i.e. heat is the transfer of energy that occurs between two systems at different temperatures.\n"
   ]
  },
  {
   "cell_type": "markdown",
   "id": "c244be86",
   "metadata": {},
   "source": [
    "### Units of heat\n",
    "\n",
    "As heat is a form of energy it can be measured in Joules (which is the SI unit for heat). \n",
    "\n",
    "However its is very common to measure it in calories\n",
    "\n",
    "$1 \\mathrm{cal}=4.186 \\mathrm{J}$\n",
    "\n",
    "A  calorie $(\\mathrm{cal})$ is the amount of heat necessary to raise the temperature of 1 gram of water by 1 $\\mathrm{^{o}C}$.\n",
    "\n",
    "Energy in food is often measured in kilocalories $(\\mathrm{kcal})$, which, somewhat confusingly, are refereed to as Calories.\n",
    "\n",
    "Another unit of heat, ironically most commonly used in the United States, is the <a href=\"https://en.wikipedia.org/wiki/British_thermal_unit\" class=\"interwiki iw_wp\" title=\"https://en.wikipedia.org/wiki/British_thermal_unit\">British thermal units</a> or BTU. The exact value of a BTU depends on where you are and how warm it is…but we can take it to be 1054.8 J."
   ]
  },
  {
   "cell_type": "markdown",
   "id": "0766768f",
   "metadata": {},
   "source": [
    "### Heat transfer\n",
    "\n",
    "<a href=\"https://en.wikipedia.org/wiki/Heat_transfer\" class=\"interwiki iw_wp\" title=\"https://en.wikipedia.org/wiki/Heat_transfer\">Heat transfer</a> occurs by several different mechanisms.\n",
    "\n",
    "- Conduction-Primary mechanism for solids in thermal contact with each other.\n",
    "- Convection-Movements of molecules in a gas or liquid.\n",
    "- Radiation-Electromagnetic transmission of heat, does not require a medium."
   ]
  },
  {
   "cell_type": "markdown",
   "id": "af859e55",
   "metadata": {},
   "source": [
    "### Conduction\n",
    "\n",
    "Conduction occurs by neighboring particles transferring energy from one to another. The ability of a material to conduct heat is measured by a parameter called the <a href=\"https://en.wikipedia.org/wiki/Thermal_conductivity\" class=\"interwiki iw_wp\" title=\"https://en.wikipedia.org/wiki/Thermal_conductivity\">thermal conductivity</a>, $k$. In the case of metal much of the conduction occurs through the free electrons which are also responsible for the electronic conduction. Non-metallic solids can also be good conductors of heat, lattice vibrations can also be an extremely effective way of transferring energy from one part of a material to another. \n",
    "\n",
    "The heat flow $\\Delta Q$ during a time interval $\\Delta t$ in a conductor of length $l$ and area $A$ which connects two object&#039;s which have temperature $T_{1}$ and $T_{2}$ is\n",
    "\n",
    "$\\frac{\\Delta Q}{\\Delta t}=kA\\frac{T_{1}-T_{2}}{l}$\n",
    "\n",
    "which in differential form is\n",
    "\n",
    "$\\frac{dQ}{dt}=-kA\\frac{dT}{dx}$\n",
    "\n",
    "When dealing with practical situations the thermal conduction properties of a specific piece of building material will often be given as a thermal resistance $R$ where \n",
    "\n",
    "$R=\\frac{l}{k}$\n",
    "\n",
    "and $l$ is the thickness of the piece of the material.\n"
   ]
  },
  {
   "cell_type": "markdown",
   "id": "16414a19",
   "metadata": {},
   "source": [
    "### Convection\n",
    "\n",
    "<a href=\"https://en.wikipedia.org/wiki/Convective_heat_transfer\" class=\"interwiki iw_wp\" title=\"https://en.wikipedia.org/wiki/Convective_heat_transfer\">Convective heat transfer</a> is heat transfer by the bulk motion of fluid.\n",
    "\n",
    "Natural convection currents can occur due to changes in density as the temperature of a fluid changes. \n",
    "\n",
    "![conv](images/convection.png)\n",
    "\n",
    "Convection can also be forced, by the use of fans, stirrers or pumps."
   ]
  },
  {
   "cell_type": "markdown",
   "id": "ead16fe0",
   "metadata": {},
   "source": [
    "### Radiation\n",
    "\n",
    "Thermal energy within a material is converted in to electromagnetic radiation.\n",
    "\n",
    "The rate of radiation leaving the surface of a material with area A is given by the <a href=\"https://en.wikipedia.org/wiki/Stefan%25E2%2580%2593Boltzmann_law\" class=\"interwiki iw_wp\" title=\"https://en.wikipedia.org/wiki/Stefan%25E2%2580%2593Boltzmann_law\">Stefan-Boltzmann equation</a>.\n",
    "\n",
    "$\\frac{\\Delta W}{\\Delta t}=\\epsilon\\sigma A T^{4}$\n",
    "\n",
    "A body also absorbs radiation from it's surroundings with temperature $T_{s}$ according to\n",
    "\n",
    "$\\frac{\\Delta W}{\\Delta t}=\\epsilon\\sigma A T_{s}^{4}$\n",
    "\n",
    "$\\sigma$ is the Stefan-Boltzmann constant\n",
    "\n",
    "$\\sigma=5.67\\times10^{-8}W/m^{2}K^4$ and $\\epsilon$ is the emissivity of the surface, a perfect surface for emission or asborption (a black surface) has an emissivity of 1, whereas a shiny surface that neither absorbs or transmits would have an emissivity of zero. Most materials are somewhere in between these two limits.\n",
    "\n",
    "If the body is in thermal equilibrium with it's surroundings, then $T=T_{s}$, the rate of emission equals the rate of absorption and the rate of heat flow is zero."
   ]
  },
  {
   "cell_type": "markdown",
   "id": "dfa28298",
   "metadata": {},
   "source": [
    "### Specific Heat Capacity\n",
    "\n",
    "A quantity of heat, $Q$, flowing into an object leads to a change in the temperature of the object, $\\Delta T$, which is proportional to it's mass $m$ and a characteristic quantity of the material, it's specific heat, $c$\n",
    "\n",
    "$Q=mc\\Delta T$\n",
    "\n",
    "We can see that heat flowing in to an object is positive $\\Delta T>0$ and heat flowing out is negative $\\Delta T < 0$\n",
    "\n",
    "The specific heat is the <a href=\"https://en.wikipedia.org/wiki/Heat_capacity\" class=\"interwiki iw_wp\" title=\"https://en.wikipedia.org/wiki/Heat_capacity\">heat capacity</a> per a unit of mass, in SI the units of specific heat are $\\mathrm{\\frac{J}{kg.K}}$.\n",
    "\n",
    "The specific heat of a material can depend on the conditions, for example the table in your textbook gives specific heats for materials at a fixed pressure per unit mass, the <a href=\"https://en.wikipedia.org/wiki/Heat_capacity\" class=\"interwiki iw_wp\" title=\"https://en.wikipedia.org/wiki/Heat_capacity\">table in wikipedia</a> gives these and also molar specific heats at constant pressure/constant volume. We will look at the effect of changes in volume on heat capacity by using the first law of thermodynamics in our next lecture. "
   ]
  },
  {
   "cell_type": "markdown",
   "id": "2e4316bd",
   "metadata": {},
   "source": [
    "### Systems\n",
    "\n",
    "When considering a set objects in a calorimetry problem we need to consider the boundary conditions on the system.\n",
    "\n",
    "If a system has constant mass, with none either being lost or added, then we can say it is a closed system. This does not necessarily mean that energy cannot enter of leave. A system in which the total amount of energy is conserved is called an isolated system. A system in which both mass and energy can enter or leave is called an open system.\n",
    "\n",
    "The assumption of an isolated system is very useful in problem solving as it says that the sum of the heat transfers in the system must be zero.\n",
    "\n",
    "$\\Sigma Q = 0$\n",
    "\n",
    "In a system where the different objects start at different temperatures, but eventually come to an equilibrium temperature $T$\n",
    "\n",
    "$\\Sigma Q = m_{1}c_{1}(T-T_{i1})+m_{2}c_{2}(T-T_{i2})+..$\n"
   ]
  },
  {
   "cell_type": "markdown",
   "id": "f7a74b4c",
   "metadata": {},
   "source": [
    "### Latent Heat\n",
    "\n",
    "To this point we have considered systems where the constituents all stay in the same phase. Phase changes from a low temperature phases to a high temperature phase require a certain amount of heat, called the <a href=\"https://en.wikipedia.org/wiki/Latent_heat\" class=\"interwiki iw_wp\" title=\"https://en.wikipedia.org/wiki/Latent_heat\">latent heat</a>.\n",
    "\n",
    "The latent heat of of fusion, $L_{f}$, refers to a change from solid to liquid and the latent heat of vaporization, $L_{v}$, refers to a change from liquid to gas. The heat required to change a mass $m$ of a substance from one phase to another is \n",
    "\n",
    "$Q=mL$\n",
    "\n",
    "During a change from one phase to another the temperature of the system remains constant. A good example we know from our everyday experience involves <a href=\"http://hyperphysics.phy-astr.gsu.edu/hbase/thermo/phase.html\" class=\"urlextern\" title=\"http://hyperphysics.phy-astr.gsu.edu/hbase/thermo/phase.html\">heating water from ice</a>. By adding ice to water we quickly have the temperature of the solution equilibrate to $0\\mathrm{^{o}C}$ and stay there as long as some ice remains."
   ]
  },
  {
   "cell_type": "markdown",
   "id": "6edbc241",
   "metadata": {},
   "source": [
    "### First Law of Thermodynamics\n",
    "\n",
    "The <a href=\"https://en.wikipedia.org/wiki/First_law_of_thermodynamics\" class=\"interwiki iw_wp\" title=\"https://en.wikipedia.org/wiki/First_law_of_thermodynamics\">first law of thermodynamics</a>, dictates how internal energy, heat and work are related to each other. For a closed system the first law states that the change in the internal energy of a system, $\\Delta E_{int}$, is the sum of the heat added <strong>to</strong> the system $Q$ and the net work done <strong>by</strong> the system $W$.\n",
    "\n",
    "$\\Delta E_{int}=Q-W$\n",
    "\n",
    "The first law is a powerful statement of the conservation of energy, indeed conservation of energy can only be understood once we understand that heat is a transfer of energy.\n",
    "\n",
    "In our next lecture we will apply the first law to several cases and take a more careful look at the specific heat of gases."
   ]
  },
  {
   "cell_type": "code",
   "execution_count": null,
   "id": "5eb2656f",
   "metadata": {},
   "outputs": [],
   "source": []
  },
  {
   "cell_type": "code",
   "execution_count": null,
   "id": "d7055328",
   "metadata": {},
   "outputs": [],
   "source": []
  }
 ],
 "metadata": {
  "kernelspec": {
   "display_name": "Python 3 (ipykernel)",
   "language": "python",
   "name": "python3"
  },
  "language_info": {
   "codemirror_mode": {
    "name": "ipython",
    "version": 3
   },
   "file_extension": ".py",
   "mimetype": "text/x-python",
   "name": "python",
   "nbconvert_exporter": "python",
   "pygments_lexer": "ipython3",
   "version": "3.9.10"
  }
 },
 "nbformat": 4,
 "nbformat_minor": 5
}
