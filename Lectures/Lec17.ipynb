{
 "cells": [
  {
   "cell_type": "markdown",
   "id": "16aed108",
   "metadata": {},
   "source": [
    "# Lecture 17 - Rotational Dynamics"
   ]
  },
  {
   "cell_type": "markdown",
   "id": "5d974a83",
   "metadata": {},
   "source": [
    "### Torque\n",
    "\n",
    "\n",
    "In the same way as a force causes linear acceleration, $\\vec{F}=m\\vec{a}$, there must be an analogous quantity and equation related to angular acceleration. From experience, for example when we <a href=\"http://www.usna.edu/MathDept/website/courses/calc_labs/wrench/TorqueWrench.html\" class=\"urlextern\" title=\"http://www.usna.edu/MathDept/website/courses/calc_labs/wrench/TorqueWrench.html\">use a wrench</a> (or a spanner) we can expect that the angular equivalent of Force, which is called <a href=\"https://en.wikipedia.org/wiki/Torque\" class=\"interwiki iw_wp\" title=\"https://en.wikipedia.org/wiki/Torque\">Torque</a>, will depend on the amount of Force applied, the distance at which it is applied and the direction of its application.\n",
    "\n",
    "![im.png](images/torque.png)\n",
    "\n",
    "We define the torque due to a force $F$ applied at a distance $R$ from a pivot point as either\n",
    "\n",
    "$\\tau\\equiv RF_{\\perp}$ or $\\tau\\equiv R_{\\perp}F$\n",
    "\n",
    "and we can calculate the magnitude of the torque using\n",
    "\n",
    "$\\tau=RF\\sin\\theta$\n",
    "\n",
    "The units of torque are $\\mathrm{Nm}$\n"
   ]
  },
  {
   "cell_type": "markdown",
   "id": "b144070f",
   "metadata": {},
   "source": [
    "### Producion of Torque in and engine\n",
    "\n",
    "You have probably heard of the word torque mostly in the context of car engines.\n",
    "\n",
    "See in [Wikipedia](https://en.wikipedia.org/wiki/Crankshaft) how the torque on the crankshaft is produced in a <a href=\"https://en.wikipedia.org/wiki/Four-stroke_engine\" class=\"interwiki iw_wp\" title=\"https://en.wikipedia.org/wiki/Four-stroke_engine\">4 stroke engine</a>. \n"
   ]
  },
  {
   "cell_type": "markdown",
   "id": "d706345e",
   "metadata": {},
   "source": [
    "### Acceleration Due to Torque\n",
    "\n",
    "\n",
    "\n",
    "We now want to look at the relationship between the torque which is applied and the angular acceleration it generates. Let&#039;s look at the case of a force $F$ applied at 90 degrees to an object of mass $m$ attached to a pivot point at distance $R$\n",
    "\n",
    "\n",
    "![im.png](images/leverarmi.png)\n",
    "\n",
    "Newton's second law tells us that\n",
    "\n",
    "$F=ma$\n",
    "\n",
    "If we multiply both sides by R we get\n",
    "\n",
    "$FR=maR$\n",
    "\n",
    "and by remembering that $a=\\alpha R$ we get \n",
    "\n",
    "$\\tau=mR^{2}\\alpha$\n"
   ]
  },
  {
   "cell_type": "markdown",
   "id": "e5ed3976",
   "metadata": {},
   "source": [
    "### Moment of Inertia\n",
    "\n",
    "In an object with a common angular acceleration which consists of many masses at various distances from the center of rotation, each of which may be subject to a torque we can say that\n",
    "\n",
    "$\\sum\\limits_{i}\\tau_{i}=(\\sum\\limits_{i} m_{i}R_{i}^{2})\\alpha$\n",
    "\n",
    "As we discussed for forces, different masses can exert internal torques one each, but when summed over all the masses these cancel due to Newton&#039;s Third Law, meaning that our sum over all the torques on the masses $\\sum\\limits_{i}\\tau_{i}$ becomes the sum of the external torques $\\sum\\tau$. We call the quantity $\\sum\\limits_{i} m_{i}R_{i}^{2}$ the moment of inertia $I$ and write the rotational equivalent of Newton&#039;s Second Law as\n",
    "\n",
    "$\\sum \\tau=I\\alpha$\n",
    "\n",
    "This equation is valid for a rigid object around a fixed axis (ie. for this to be valid the masses can't move around with respect to the object during the motion as they would if the object was flexible, and the axis must stay in the same position with respect to the masses rotating around it).\n",
    "\n",
    "We should note that the distance $R$ is the distance of each mass with respect to the axis of rotation, which need not be the center of mass, and is not an intrinsic property of an object! \n",
    "\n"
   ]
  },
  {
   "cell_type": "markdown",
   "id": "7aa3aeac",
   "metadata": {},
   "source": [
    "### Two Weights on a Thin Bar\n",
    "\n",
    "![im.png](images/2wonab.png)\n",
    "\n",
    "The moment of inertia of two point weights $m_{1}$ and $m_{2}$ on a bar at distance $R_{1}$ and $R_{2}$ from the axis of rotation is\n",
    "\n",
    "$I=m_{1}R_{1}^{2}+m_{2}R_{2}^2$\n",
    "\n",
    "The axis of rotation coincides with the center of mass only if $m_{1}R_{1}=m_{2}R_{2}$\n"
   ]
  },
  {
   "cell_type": "markdown",
   "id": "59805f0c",
   "metadata": {},
   "source": [
    "### Moment of Inertia for Extended Objects\n",
    "\n",
    "\n",
    "So far our definition of moment of inertia is really only practical for systems comprised of one or more point like objects at a distance from an axis of rotation.\n",
    "\n",
    "For extended objects we are much better served by considering an object as being made up of infinitesimally small mass elements, each a distance $R$ from the axis of rotation, and integrating over these mass elements to find the moment of inertia.\n",
    "\n",
    "$I= \\Sigma_{i} m_{i}R_{i}^{2}$ → $I=\\int R^2\\,dm$\n"
   ]
  },
  {
   "cell_type": "markdown",
   "id": "c0dec45c",
   "metadata": {},
   "source": [
    "### Hoop, thin walled cylinder and solid cylinder\n",
    "\n",
    "![im.png](images/hoopcyl.png)\n",
    "\n",
    "Considering rotation axis through the center of the circle\n",
    "\n",
    "$I=\\int R^2\\,dm$\n",
    "\n",
    "Hoop\n",
    "\n",
    "$I=\\frac{MR^2}{2\\pi}\\int_{0}^{2\\pi}\\,d\\theta=MR^2$\n",
    "\n",
    "Thin walled cylinder\n",
    "\n",
    "$I=\\frac{MR^2}{2\\pi h}\\int_{0}^{h}\\int_{0}^{2\\pi}\\,d\\theta\\,dz=MR^2$\n",
    "\n",
    "Solid Cylinder\n",
    "\n",
    "$I=\\frac{M}{\\pi h R_{C}^2}\\int_{0}^{R_{C}}\\int_{0}^{h}\\int_{0}^{2\\pi}R^3\\,d\\theta\\,dz\\,dR=\\frac{M}{\\pi h R_{C}^2}\\frac{ 2\\pi h R_{C}^4}{4}=\\frac{1}{2}MR_{C}^{2}$\n"
   ]
  },
  {
   "cell_type": "markdown",
   "id": "245a357f",
   "metadata": {},
   "source": [
    "### Parallel Axis Theorem\n",
    "\n",
    "<p>\n",
    "Usually a rotation axis that passes through the center of mass of an object will be one of the easiest to find the moment of inertia for, because as we saw in the last lecture the center of mass usually reflects the symmetry of the object. More moments of inertia on <a href=\"http://en.wikipedia.org/wiki/List_of_moments_of_inertia\" class=\"urlextern\" title=\"http://en.wikipedia.org/wiki/List_of_moments_of_inertia\">wikipedia</a>.\n",
    "</p>\n",
    "\n",
    "<p>\n",
    "If we know the moment of inertia of an object around an axis that passes through it&#039;s center of mass there is a theorem that can help us find the moment of inertia around a different axis parallel to the axis through the COM.\n",
    "</p>\n",
    "\n",
    "<p>\n",
    "If the axis of rotation is a distance $h$ from the axis through the COM then\n",
    "</p>\n",
    "\n",
    "<p>\n",
    "$I=I_{COM}+Mh^{2}$\n",
    "</p>\n",
    "\n",
    "<p>\n",
    "where M is the total mass of the object.\n",
    "</p>\n",
    "<div class=\"table sectionedit11\"><table class=\"inline\">\n",
    "\t<tr class=\"row0\">\n",
    "\t\t<td class=\"col0\"> <a href=\"images/spherearoundpole.png\" class=\"media\" title=\"phy141:lectures:spherearoundpole.png\"><img src=\"images/spherearoundpole.png\" class=\"media\" alt=\"\" /></a> </td><td class=\"col1\"> As an example, a solid sphere stuck to a turning pole will have moment of inertia<br/>\n",
    "$I=\\frac{2}{5}MR^{2}+MR^2=\\frac{7}{5}MR^2$ </td>\n",
    "\t</tr>\n",
    "</table></div>\n",
    "\n",
    "</div>"
   ]
  },
  {
   "cell_type": "markdown",
   "id": "d84f873f",
   "metadata": {},
   "source": [
    "### When can we approximate a mass as a point?\n",
    "\n",
    "![im.png](images/pointmassmi.png)\n",
    "\n",
    "Frequently we will want to approximate a mass at some distance from it's center of rotation as a point mass. i.e we would like to simply write \n",
    "\n",
    "$I=mR_{1}^{2}$\n",
    "\n",
    "The parallel axis theorem tells us that in fact (if the mass is spherical and solid)\n",
    "\n",
    "$I=mR_{1}^{2}+\\frac{2}{5}mR_{2}^{2}$\n",
    "\n",
    "The fractional error introduced by the above approximation is \n",
    "\n",
    "$\\frac{(I_{exact}-I_{approx})}{I_{exact}}=\\frac{\\frac{2}{5}mR_{2}^{2}}{mR_{1}^{2}+\\frac{2}{5}mR_{2}^{2}}=\\frac{\\frac{2}{5}}{\\frac{R_{1}^{2}}{R_{2}^2}+\\frac{2}{5}}$\n",
    "\n",
    "If we want to be accurate to say 1% we only need $\\frac{R_{1}}{R_{2}}\\approx\\sqrt{40}\\approx 6$"
   ]
  },
  {
   "cell_type": "markdown",
   "id": "b39966a0",
   "metadata": {},
   "source": [
    "### Atwood machine with rotation\n",
    "\n",
    "</h2>\n",
    "<div class=\"level2\">\n",
    "<div class=\"table sectionedit14\"><table class=\"inline\">\n",
    "\t<tr class=\"row0\">\n",
    "\t\t<td class=\"col0\"> <a href=\"images/atwoodwithr.png\" class=\"media\" title=\"phy141:lectures:atwoodwithr.png\"><img src=\"images/atwoodwithr.png\" class=\"media\" alt=\"\" /></a> </td><td class=\"col1\"> We can apply our new knowledge about moment of inertia to our old friend the Atwood machine.If we take in to account the mass $M$ and radius $R$ of the pulley the tensions in the ropes on either side of the pulley need not be the same. </td>\n",
    "\t</tr>\n",
    "</table></div>\n",
    "\n",
    "<p>\n",
    "The sum of the torques on the pulley will be given by\n",
    "</p>\n",
    "\n",
    "<p>\n",
    "$\\Sigma \\tau =(T_{2}-T_{1})R$\n",
    "</p>\n",
    "\n",
    "<p>\n",
    "and as we saw that the moment of inertia for solid cylinder is $I=\\frac{1}{2}MR^2$ we can find the angular acceleration of the pulley\n",
    "</p>\n",
    "\n",
    "<p>\n",
    "$\\large \\alpha=\\frac{\\Sigma \\tau}{I}=\\frac{2(T_{2}-T_{1})}{MR}$\n",
    "</p>\n",
    "\n",
    "<p>\n",
    "This can be related to the tangential acceleration of a point on the edge of the pulley by multiplying by R as $a=\\alpha R$\n",
    "</p>\n",
    "\n",
    "<p>\n",
    "$\\large a=\\frac{R\\Sigma \\tau}{I}=\\frac{2(T_{2}-T_{1})}{M}$\n",
    "</p>\n",
    "\n",
    "<p>\n",
    "As we did before when we neglected rotation we should write Newton&#039;s Second Law for the two weights\n",
    "</p>\n",
    "\n",
    "<p>\n",
    "$m_{2}a=m_{2}g-T_{2}$ → $T_{2}=m_{2}g-m_{2}a$<br/>\n",
    "\n",
    "$m_{1}a=T_{1}-m_{1}g$ → $ T_{1}=m_{1}g+m_{1}a$<br/>\n",
    "<br/>\n",
    "\n",
    "</p>\n",
    "\n",
    "<p>\n",
    "$T_{2}-T_{1}=m_{2}g-m_{2}a-m_{1}g-m_{1}a$\n",
    "</p>\n",
    "\n",
    "<p>\n",
    "$\\frac{1}{2}Ma=m_{2}g-m_{2}a-m_{1}g-m_{1}a$\n",
    "</p>\n",
    "\n",
    "<p>\n",
    "$\\large a=g\\frac{m_{2}-m_{1}}{\\frac{1}{2}M+m_{1}+m_{2}}$\n",
    "</p>\n"
   ]
  },
  {
   "cell_type": "markdown",
   "id": "c708d9c5",
   "metadata": {},
   "source": [
    "### Rotational Kinetic Energy\n",
    "\n",
    "Each piece of mass in a rotation problem that has velocity $v$ should have kinetic energy\n",
    "\n",
    "$K=\\frac{1}{2}mv^2$\n",
    "\n",
    "In terms of the angular velocity this is \n",
    "\n",
    "$K=\\frac{1}{2}m\\omega^2R^2$\n",
    "\n",
    "and if we sum over all the masses\n",
    "\n",
    "$K=\\frac{1}{2}(\\Sigma m_{i}R_{i}^2)\\omega^{2}=\\frac{1}{2}I\\omega^2$"
   ]
  },
  {
   "cell_type": "markdown",
   "id": "f6591fa3",
   "metadata": {},
   "source": [
    "### Conservation of energy with rotation\n",
    "\n",
    "Recall from the last lecture that for a rolling object $v=\\omega r$\n",
    "\n",
    "The kinetic energy of a rolling object is therefore\n",
    "\n",
    "$\\large K=\\frac{1}{2}mv^{2}+\\frac{1}{2}I\\omega^{2}=\\frac{1}{2}mv^{2}+\\frac{1}{2}I\\frac{v^{2}}{r^2}$\n",
    "\n",
    "The kinetic energy thus depends on the moment of inertia of the object.\n",
    "\n",
    "Suppose we release a hoop and disk from the top of a slope. They begin with the same potential energy, which one gets to the bottom of the slope first?\n",
    "\n",
    "![im.png](images/hoopdisk.png)"
   ]
  },
  {
   "cell_type": "markdown",
   "id": "78e391b1",
   "metadata": {},
   "source": [
    "### Hoop and disk solution\n",
    "\n",
    "Hoop\n",
    "\n",
    "$\\large K=\\frac{1}{2}mv^{2}+\\frac{1}{2}I\\omega^{2}=\\frac{1}{2}mv^{2}+\\frac{1}{2}mr^{2}\\frac{v^{2}}{r^2}=mv^{2}$\n",
    "\n",
    "$mgh=mv^{2}$\n",
    "\n",
    "$v=\\sqrt{gh}$\n",
    "\n",
    "Disk\n",
    "\n",
    "$\\large K=\\frac{1}{2}mv^{2}+\\frac{1}{2}I\\omega^{2}=\\frac{1}{2}mv^{2}+\\frac{1}{2}\\frac{1}{2}mr^{2}\\frac{v^{2}}{r^2}=\\frac{3}{4}mv^{2}$\n",
    "\n",
    "$mgh=\\frac{3}{4}mv^{2}$\n",
    "\n",
    "$v=\\sqrt{\\frac{4}{3}gh}$\n",
    "\n",
    "Recall that for a sliding object (without friction) $v=\\sqrt{2gh}$\n",
    "\n",
    "Solid sphere $I=\\frac{2}{5}mr^{2}$<br/>\n",
    "\n",
    "Hollow sphere $I=\\frac{2}{3}mr^{2}$"
   ]
  },
  {
   "cell_type": "markdown",
   "id": "db163d78",
   "metadata": {},
   "source": [
    "### Work energy theorem for rotation\n",
    "\n",
    "$W=\\int \\vec{F}\\cdot\\,d\\vec{l}=\\int F_{\\perp}R\\,d\\theta=\\int_{\\theta_{1}}^{\\theta_{2}}\\tau\\,d\\theta$\n",
    "\n",
    "$\\tau=I\\alpha=I\\frac{d\\omega}{dt}=I\\frac{d\\omega}{d\\theta}\\frac{d\\theta}{dt}=I\\omega\\frac{d\\omega}{d\\theta}$\n",
    "\n",
    "$W=\\int_{\\omega_{1}}^{\\omega_{2}}I\\omega\\,d\\omega=\\frac{1}{2}I\\omega_{2}^2-\\frac{1}{2}I\\omega_{1}^2$\n",
    "\n",
    "Therefore the work done in rotating an object through an angle $\\theta_{2}-\\theta_{1}$ is equal to the change in the rotational kinetic energy of the object."
   ]
  },
  {
   "cell_type": "markdown",
   "id": "835d897e",
   "metadata": {},
   "source": [
    "### Power and Torque\n",
    "\n",
    "$W=\\int_{\\theta_{1}}^{\\theta_{2}}\\tau\\,d\\theta$\n",
    "\n",
    "$P=\\frac{dW}{dt}=\\tau\\frac{d\\theta}{dt}=\\tau\\omega$\n",
    "\n",
    "This equation can help us understand the two “figures of merit” often given for a car engine, horsepower and torque.\n",
    "\n",
    "See [this page](https://www.thedrive.com/cars-101/36995/horsepower-vs-torque) for more details.\n"
   ]
  },
  {
   "cell_type": "markdown",
   "id": "eca2db94",
   "metadata": {},
   "source": [
    "### Next\n",
    "\n",
    "* Next Lecture - Angular momentum\n",
    "* Next Next Lecture - Advanced (and interesting!) rotational motion examples"
   ]
  },
  {
   "cell_type": "code",
   "execution_count": null,
   "id": "6eeab5b8",
   "metadata": {},
   "outputs": [],
   "source": []
  },
  {
   "cell_type": "code",
   "execution_count": null,
   "id": "69f7db5a",
   "metadata": {},
   "outputs": [],
   "source": []
  }
 ],
 "metadata": {
  "kernelspec": {
   "display_name": "Python 3 (ipykernel)",
   "language": "python",
   "name": "python3"
  },
  "language_info": {
   "codemirror_mode": {
    "name": "ipython",
    "version": 3
   },
   "file_extension": ".py",
   "mimetype": "text/x-python",
   "name": "python",
   "nbconvert_exporter": "python",
   "pygments_lexer": "ipython3",
   "version": "3.9.10"
  }
 },
 "nbformat": 4,
 "nbformat_minor": 5
}
