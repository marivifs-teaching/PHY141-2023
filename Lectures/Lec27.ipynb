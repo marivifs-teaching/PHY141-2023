{
 "cells": [
  {
   "cell_type": "markdown",
   "id": "84fcbe30",
   "metadata": {},
   "source": [
    "# Lecture 27 - Wave effects\n",
    "\n",
    "Lot's of Java applets for visualizing waves can be found at <a href=\"http://www.falstad.com/mathphysics.html\" class=\"urlextern\" title=\"http://www.falstad.com/mathphysics.html\">http://www.falstad.com/mathphysics.html</a>. I'll be using them today and you may find them fun to play with yourself!"
   ]
  },
  {
   "cell_type": "markdown",
   "id": "b90514b6",
   "metadata": {},
   "source": [
    "### Energy in a wave\n",
    "\n",
    "Waves transport energy. How much?\n",
    "\n",
    "We can consider each particle in a wave to be undergoing simple harmonic motion with **total** energy given by $E=\\frac{1}{2}kA^{2}$ where $k$ is the effective spring constant and $A$ is the amplitude of the wave. The frequency equation for SHM $f=\\frac{1}{2\\pi}\\sqrt{\\frac{k}{m}}$ tell us that $k=4\\pi^{2}mf^{2}$ and we can rewrite the energy as \n",
    "\n",
    "$E=2\\pi^{2}mf^{2}A^{2}$\n",
    "\n",
    "The mass in this equation can be written as $m=\\rho V$, where $\\rho$ is the density of the medium and $V$ is the volume through which the wave passes. If we are looking at  3 dimensional wave that traveling outwards from a point, we can say it travels a distance $l=vt$ in a time interval $t$. This lets us define our volume as $V=Sl$ where S is the cross-sectional area through which the wave passes. Combining all this, $m=\\rho V=\\rho Sl=\\rho Svt$ and the energy transported through a surface $S$ in time $t$ is\n",
    "\n",
    "$E=2\\pi^{2}\\rho Svtf^{2}A^{2}$\n",
    "\n",
    "and the average power\n",
    "\n",
    "$\\bar{P}=\\frac{E}{t}=2\\pi^{2}\\rho Svf^{2}A^{2}$\n",
    "\n",
    "The intensity is the average power per unit area\n",
    "\n",
    "$I=\\frac{\\bar{P}}{S}=2\\pi^{2}\\rho vf^{2}A^{2}$\n",
    "\n",
    "As a 3 dimensional wave propagates from a point the area through which the wave passes increases. When the power output is constant, the intensity decreases as $\\frac{1}{r^{2}}$, so the ratio of the intensity at $r_{1}$, $I_{1}$, to the intensity at $r_{2}$, $I_{2}$ is\n",
    "\n",
    "$\\frac{I_{2}}{I_{1}}=\\frac{\\bar{P}/4\\pi r_{2}^{2}}{\\bar{P}/4\\pi r_{1}^{2}}=\\frac{r_{1}^2}{r_{2}^{2}}$\n",
    "\n",
    "In order for the power output to be constant the amplitude must also decrease with $S_{1}A_{1}^2=S_{2}A_{2}^2$ implying $A\\propto\\frac{1}{r}$\n"
   ]
  },
  {
   "attachments": {},
   "cell_type": "markdown",
   "id": "3f679d18",
   "metadata": {},
   "source": [
    "### Reflection and transmission\n",
    "\n",
    "A one dimensional pulse on a string which reaches the end of string will be reflected. The direction of the pulses displacement depends on the boundary condition where the reflection takes place, ie. whether the string is fixed or free. \n",
    "\n",
    "This can be demonstrated on the Shive wave machine or on a [spring](https://www.youtube.com/watch?v=ocLGb28_8UQ).\n",
    "\n",
    "![image.png](images/Wavemachine.gif)\n",
    "\n",
    "When a wave encounters a change in medium there will be some partial reflection.\n",
    "\n",
    "We can also look at reflection in 2 dimensions, in a <a href=\"http://www.falstad.com/ripple/\" class=\"urlextern\" title=\"http://www.falstad.com/ripple/\">virtual ripple tank.\n",
    "\n",
    "Here we find that the angle of reflection is equal to the angle of incidence.\n"
   ]
  },
  {
   "cell_type": "markdown",
   "id": "55a0d2d7",
   "metadata": {},
   "source": [
    "### Principle of Superposition\n",
    "\n",
    "When more than one wave passes through a region in space at the same time the displacement is the sum of the separate displacements. This may be a vector sum!\n",
    "\n",
    "Related to this principle is <a href=\"http://en.wikipedia.org/wiki/Fourier_series\" class=\"urlextern\" title=\"http://en.wikipedia.org/wiki/Fourier_series\">Fourier&#039;s theorem</a>, which states that any complex wave can be considered to be composed of the sum of many simple sinusoidal waves, termed a Fourier Series.\n",
    "\n",
    "<a href=\"http://www.falstad.com/fourier/\" class=\"urlextern\" title=\"http://www.falstad.com/fourier/\">Fourier Applet</a>\n"
   ]
  },
  {
   "cell_type": "markdown",
   "id": "13dbc14c",
   "metadata": {},
   "source": [
    "### Dispersion\n",
    "\n",
    "It should be noted that it is not always true that the velocity of a wave is independent of it's wavelength. If there is a dependence of velocity on wavelength, the individual components that make up a complex wave exhibit <a href=\"http://en.wikipedia.org/wiki/Dispersion_relation\" class=\"urlextern\" title=\"http://en.wikipedia.org/wiki/Dispersion_relation\">dispersion</a>.\n",
    "\n",
    "The dispersion relation gives the velocity as a function of wavelength\n",
    "\n",
    "$v(\\lambda)=\\lambda f(\\lambda)$\n",
    "\n",
    "This is more normally written in terms of angular frequency $\\omega$ and wavenumber $k$ (Recall $k=\\frac{2\\pi}{\\lambda}$ and $\\omega=2\\pi f$)\n",
    "\n",
    "$\\omega(k)=v(k)k$\n",
    "\n",
    "The phase velocity we have talked about so far, the velocity at which the wave progresses is \n",
    "\n",
    "$v(k)=\\frac{\\omega(k)}{k}$\n",
    "\n",
    "A different kind of velocity is the <a href=\"https://en.wikipedia.org/wiki/Group_velocity\" class=\"interwiki iw_wp\" title=\"https://en.wikipedia.org/wiki/Group_velocity\">group velocity</a> $\\frac{\\partial \\omega}{\\partial k}$ which is the velocity at which the shape of the wave progresses.\n",
    "\n",
    "If the velocity $v$ is directly proportional to $k$ then these two velocities are the same and no dispersion occurs.\n",
    "\n",
    "<a href=\"http://www.falstad.com/dispersion/e-index.html\" class=\"urlextern\" title=\"http://www.falstad.com/dispersion/e-index.html\">Dispersion Applet</a>\n"
   ]
  },
  {
   "cell_type": "markdown",
   "id": "c323beca",
   "metadata": {},
   "source": [
    "### Interference\n",
    "\n",
    "We saw a lot of interference when we looked at reflection in the virtual wave tank.\n",
    "\n",
    "We can also look at interference between waves from more than one source in the ripple tank.\n"
   ]
  },
  {
   "cell_type": "markdown",
   "id": "2a867847",
   "metadata": {},
   "source": [
    "### Standing Waves - Both ends fixed\n",
    "\n",
    "When we have two waves traveling in opposite directions on path of fixed length and both ends are fixed\n",
    "\n",
    "$D_{1}=A\\sin(kx-\\omega t)$ and $D_{2}=A\\sin(kx+\\omega t)$\n",
    "\n",
    "their sum can produce a standing wave\n",
    "\n",
    "$D=D_{1}+D_{2}=A\\sin(kx-\\omega t)+A\\sin(kx+\\omega t)$\n",
    "\n",
    "Using $\\sin\\theta_{1}+\\sin\\theta_{2}=2\\sin\\frac{1}{2}(\\theta_{1}+\\theta_{2})\\cos\\frac{1}{2}(\\theta_{1}-\\theta_{2})$\n",
    "\n",
    "$D=2A\\sin kx\\cos \\omega t$\n",
    "\n",
    "Recall $k=\\frac{2\\pi}{\\lambda}$ and $\\omega=2\\pi f$\n",
    "\n",
    "If the boundary condition is that both ends are fixed then $D$ must be zero at $l$ which means that\n",
    "\n",
    "$kl=\\frac{2\\pi l}{\\lambda}=\\pi,2\\pi,3\\pi,4\\pi..$ etc.\n",
    "\n",
    "or $\\lambda=2l,l,2/3l,l/2,..$ etc.\n",
    "\n",
    "$f=\\frac{v}{\\lambda}=\\frac{v}{2l},\\frac{v}{l},\\frac{3v}{2l},\\frac{2v}{l},..$ etc.\n",
    "\n",
    "or if we number the overtones $n=1,2,3,4,..$\n",
    "\n",
    "$\\lambda=\\frac{2l}{n}$ and $f=v\\frac{n}{2l}$\n",
    "\n",
    "![im.png](images/standingwaves.png)\n",
    "\n",
    "Recall that for waves on a string $v=\\sqrt{\\frac{F_{T}}{\\mu}}$ so if you take a string and stretch it further you need to take in to account both changes in $l$ and $v$.\n"
   ]
  },
  {
   "cell_type": "markdown",
   "id": "b7cdff70",
   "metadata": {},
   "source": [
    "### Refraction and Diffraction\n",
    "\n",
    "Here we will only look at refraction and diffraction briefly (we will take a look at them in the ripple tank!), they will be covered in more detail in PHY142 when we look at optics.\n",
    "\n",
    "Refraction occurs when 2 or 3 dimensional waves pass into a medium where they have a different velocity, when they do this they change their direction.\n",
    "\n",
    "$\\frac{\\sin\\theta_{2}}{\\sin\\theta_{1}}=\\frac{v_{2}}{v_{1}}$\n",
    "\n",
    "We can see extensive diffraction in the ripple tank around various objects and we can note that the angular spread of waves $\\theta$  around an object is \n",
    "\n",
    "$\\theta\\approx\\frac{\\lambda}{l}$\n",
    "\n",
    "where $\\lambda$ is the wavelength of the waves and $l$ is the width of the opening or object about which diffraction occurs.\n"
   ]
  },
  {
   "cell_type": "code",
   "execution_count": null,
   "id": "6bacfd4d",
   "metadata": {},
   "outputs": [],
   "source": []
  }
 ],
 "metadata": {
  "kernelspec": {
   "display_name": "Python 3 (ipykernel)",
   "language": "python",
   "name": "python3"
  },
  "language_info": {
   "codemirror_mode": {
    "name": "ipython",
    "version": 3
   },
   "file_extension": ".py",
   "mimetype": "text/x-python",
   "name": "python",
   "nbconvert_exporter": "python",
   "pygments_lexer": "ipython3",
   "version": "3.9.10"
  }
 },
 "nbformat": 4,
 "nbformat_minor": 5
}
