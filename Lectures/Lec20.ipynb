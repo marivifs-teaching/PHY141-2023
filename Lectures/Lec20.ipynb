{
 "cells": [
  {
   "cell_type": "markdown",
   "id": "ac156fec",
   "metadata": {},
   "source": [
    "# Lecture 20 - Static Equilibrium\n",
    "Equilibrium describes a state where both the linear acceleration and angular acceleration of an object or system are zero. This means the object is either at rest or moving with constant velocity.\n",
    "\n",
    "Here we will focus on situations where the system is a rest, so called static equilibrium, as opposed to dynamic equilibrium, where the system has constant velocity.\n"
   ]
  },
  {
   "cell_type": "markdown",
   "id": "e463935c",
   "metadata": {},
   "source": [
    "### Conditions for Equilibrium\n",
    "For an object to have no translational acceleration\n",
    "\n",
    "$\\Sigma \\vec{F}=0$\n",
    "\n",
    "and for this to be true the sum of **each component** of the forces must be zero.\n",
    "\n",
    "An object may have no net force on it, but be able to turn, which means for an object to be in equilibrium\n",
    "\n",
    "$\\Sigma \\tau = 0 $\n",
    "\n",
    "Where the torques can be calculated around any axis. Some axes are more sensible than others, a good idea is to choose an axis at place where a force is acting (as the torque due to that force around that axis will be zero.)\n"
   ]
  },
  {
   "cell_type": "markdown",
   "id": "149e773f",
   "metadata": {},
   "source": [
    "### 2 Balls on a rod\n",
    "\n",
    "![im.png](images/2ballsonarod.png)\n",
    "\n",
    "In the above example we calculate the torques around the pivot point. This is a sensible choice, but we could have also chosen, for example, an axis that goes through the second mass $m_{2}$.\n",
    "\n",
    "\n",
    "In this case\n",
    "\n",
    "\n",
    "$\\Sigma \\tau=m_{1}g4L-({m_{1}+m_{2}})g3L=0$\n",
    "\n",
    "\n",
    "$m_{1}gL=m_{2}g3L$\n",
    "\n",
    "\n",
    "$\\large m_{2}=\\frac{m_{1}}{3}$"
   ]
  },
  {
   "cell_type": "markdown",
   "id": "6f37bf6c",
   "metadata": {},
   "source": [
    "### masless crane boom with arm at 90 degrees\n",
    "![im.png](images/boomarm90.png)\n",
    "\n",
    "There are three forces which act on the arm (for now we will neglect the weight of the arm). Forces do not need to be directed along the arm as it is a rigid object. On the other hand, the force due to tension  **must** be directed along the rope (otherwise it would change it's shape).\n",
    "\n",
    "Sum of forces on arm\n",
    "\n",
    "$F_{hx}=F_{Tx}$\n",
    "\n",
    "$mg=F_{Ty}+F_{hy}$\n",
    "\n",
    "Sum of torques on arm around hinge\n",
    "\n",
    "$F_{Ty}l=F_{T}l\\sin\\theta=mgl$ → $F_{T}\\sin\\theta=mg$\n",
    "\n",
    "$F_{T}=\\frac{mg}{\\sin\\theta}$\n",
    "\n",
    "Compressive force on arm is $F_{hx}=F_{Tx}=mg\\frac{{\\cos\\theta}}{\\sin\\theta}=\\frac{mg}{\\tan\\theta}$"
   ]
  },
  {
   "cell_type": "markdown",
   "id": "ad6804bd",
   "metadata": {},
   "source": [
    "### Center of gravity\n",
    "\n",
    "In the previous example we neglected the mass of the arm. If we do want to take it in to account we could have treated the weight of the rod as if it acted through the center of mass of the object, which we will approximate as being halfway along the arm.\n",
    "\n",
    "\n",
    "![im.png](images/boomarmwitharmweigt.png)\n",
    "\n",
    "Sum of forces on arm\n",
    "\n",
    "$F_{hx}=F_{Tx}$\n",
    "\n",
    "$mg+m_{a}g=F_{Ty}+F_{hy}$\n",
    "\n",
    "Sum of torques on arm around hinge\n",
    "\n",
    "$F_{Ty}l=F_{T}l\\sin\\theta=mgl+m_{a}g\\frac{l}{2}$ → $F_{T}\\sin\\theta=mg+\\frac{1}{2}m_{a}g$\n",
    "\n",
    "$F_{T}=\\frac{mg+\\frac{1}{2}m_{a}g}{\\sin\\theta}$\n",
    "\n",
    "Compressive force on arm is $F_{hx}=F_{Tx}=(mg+\\frac{1}{2}m_{a}g)\\frac{{\\cos\\theta}}{\\sin\\theta}=\\frac{mg+\\frac{1}{2}m_{a}g}{\\tan\\theta}$\n",
    "\n"
   ]
  },
  {
   "cell_type": "markdown",
   "id": "be7223ea",
   "metadata": {},
   "source": [
    "### Crane boom with rope at 90 degrees\n",
    "\n",
    "![im.png](images/boomarmrope90.png)\n",
    "\n",
    "Forces on arm\n",
    "\n",
    "$F_{hy}=mg+m_{a}g$\n",
    "\n",
    "$F_{hx}=F_{Tx}$\n",
    "\n",
    "Torques on arm\n",
    "\n",
    "$F_{T}l\\sin\\phi=(mgl+m_{a}g\\frac{l}{2})\\sin(90^{o}-\\phi)=(mg+\\frac{1}{2}m_{a}{g})l\\cos\\phi$\n",
    "\n",
    "$F_{T}=F_{Tx}=F_{hx}=\\frac{mg+\\frac{1}{2}m_{a}{g}}{\\tan\\phi}$\n",
    "\n",
    "Compressive force on spring\n",
    "\n",
    "$\\frac{F_{hx}}{\\cos\\phi}=\\frac{mg+\\frac{1}{2}m_{a}{g}}{\\sin\\phi}$\n"
   ]
  },
  {
   "cell_type": "markdown",
   "id": "44d55648",
   "metadata": {},
   "source": [
    "### Crane boom with arm and rope at angle\n",
    "\n",
    "![im.png](images/boomarmgeneral.png)\n",
    "\n",
    "Forces on arm\n",
    "\n",
    "$F_{hy}+F_{Ty}=F_{hy}+F_{T}\\sin\\theta=mg+m_{a}g$\n",
    "\n",
    "$F_{hx}=F_{Tx}=F_{T}\\cos\\theta$\n",
    "\n",
    "Torques on arm\n",
    "\n",
    "$F_{T}l\\sin(\\phi+\\theta)=(mgl+m_{a}g\\frac{l}{2})\\sin(90^{o}-\\phi)=(mg+\\frac{1}{2}m_{a}{g})l\\cos\\phi$\n",
    "\n",
    "$F_{T}=\\frac{(mg+\\frac{1}{2}m_{a}{g})\\cos\\phi}{\\sin(\\phi+\\theta)}$\n",
    "\n",
    "$F_{Tx}=\\frac{(mg+\\frac{1}{2}m_{a}{g})\\cos\\phi\\cos\\theta}{\\sin(\\phi+\\theta)}=F_{hx}$\n",
    "\n",
    "Compressive force on arm\n",
    "\n",
    "$\\frac{F_{hx}}{\\cos\\phi}=\\frac{(mg+\\frac{1}{2}m_{a}{g})\\cos\\theta}{\\sin(\\phi+\\theta)}$\n"
   ]
  },
  {
   "cell_type": "markdown",
   "id": "13405bd7",
   "metadata": {},
   "source": [
    "### Stable and Unstable equilibrium\n",
    "An object in static equilibrium will not move from it's equilibrium position unless it is disturbed by an additional force. The question of stability concerns what happens when equilibrium is **slightly** disturbed. If the equilibrium is stable the system will return to it's equilibrium position, but if it instead moves away from the equilibrium then we say the equilibrium is unstable. If the small perturbation moves the system to a new equilibrium we can say the equilibrium is **neutral**.\n",
    "\n",
    "We can demonstrate the different kinds of equilibrium with the two balls on a stick we looked at earlier."
   ]
  },
  {
   "cell_type": "markdown",
   "id": "853d4fa7",
   "metadata": {},
   "source": [
    "### Lowering the Center of Gravity\n",
    "\n",
    "An object whose center of gravity is below it's point of support will be in stable equilibrium so <a href=\"http://www.youtube.com/watch?v=FKMTRsOSKQU&amp;feature=player_embedded\" class=\"urlextern\" title=\"http://www.youtube.com/watch?v=FKMTRsOSKQU&amp;feature=player_embedded\">riding a unicycle on a high wire</a> is easy if there is weight suspended from it like the one at <a href=\"http://www.cosi.org/\" class=\"urlextern\" title=\"http://www.cosi.org/\">COSI</a>.\n",
    "\n",
    "This is also the reason that <a href=\"http://en.wikipedia.org/wiki/File:Maria_Spelterini_at_Suspension_Bridge.jpg\" class=\"urlextern\" title=\"http://en.wikipedia.org/wiki/File:Maria_Spelterini_at_Suspension_Bridge.jpg\">tightrope artists</a> will sometimes hold a heavy pole that bends down at the ends, to lower their center of gravity and increase their stability.\n"
   ]
  }
 ],
 "metadata": {
  "kernelspec": {
   "display_name": "Python 3 (ipykernel)",
   "language": "python",
   "name": "python3"
  },
  "language_info": {
   "codemirror_mode": {
    "name": "ipython",
    "version": 3
   },
   "file_extension": ".py",
   "mimetype": "text/x-python",
   "name": "python",
   "nbconvert_exporter": "python",
   "pygments_lexer": "ipython3",
   "version": "3.9.10"
  }
 },
 "nbformat": 4,
 "nbformat_minor": 5
}
