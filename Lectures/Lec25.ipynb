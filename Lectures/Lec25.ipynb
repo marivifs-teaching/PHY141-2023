{
 "cells": [
  {
   "cell_type": "markdown",
   "id": "1fe020b1",
   "metadata": {},
   "source": [
    "# Lecture 25 - Not so simple harmonic motion"
   ]
  },
  {
   "cell_type": "markdown",
   "id": "663b0818",
   "metadata": {},
   "source": [
    "### Equations of motion for SHM\n",
    "\n",
    "Starting from Newton's 2nd Law\n",
    "\n",
    "$ma=\\Sigma F$\n",
    "\n",
    "$m\\frac{d^{2}x}{dt^{2}}=-kx$\n",
    "\n",
    "Based on our previous observations we might guess that the displacement will be able to be expressed as trigonometric function of time.\n",
    "\n",
    "$x=A\\cos(\\omega t+\\phi)$\n",
    "\n",
    "$A$ is the amplitude, $\\omega=\\frac{2\\pi}{T}=2\\pi f$ and $\\phi$ allows us to change the starting point of the motion.\n",
    "\n",
    "$\\frac{dx}{dt}=v=-\\omega A\\sin(\\omega t+\\phi)$\n",
    "\n",
    "$\\frac{d^{2}x}{dt^{2}}=a=-\\omega^{2}A\\cos(\\omega t+\\phi)$\n",
    "\n",
    "$-m\\omega^{2}A\\cos(\\omega t+\\phi)=-kA\\cos(\\omega t+\\phi)$\n",
    "\n",
    "which is true if \n",
    "\n",
    "$\\omega^{2}=\\frac{k}{m}$\n",
    "\n",
    "$T=2\\pi\\sqrt{\\frac{m}{k}}$\n",
    "\n"
   ]
  },
  {
   "cell_type": "markdown",
   "id": "7696a372",
   "metadata": {},
   "source": [
    "### The Physical pendulum\n",
    "\n",
    "**Any** object attached at a point which is not at it's center of gravity can act like a pendulum.\n",
    "\n",
    "\n",
    "![im.png](images/physicalpendulum.png)\n",
    "    \n",
    "$\\tau=-mgh\\sin\\theta$\n",
    "\n",
    "$\\Sigma \\tau=I\\alpha=I\\frac{d^{2}\\theta}{dt^{2}}$\n",
    "\n",
    "$I\\frac{d^{2}\\theta}{dt^{2}}=-mgh\\sin\\theta$\n",
    "\n",
    "For a small angle $\\sin\\theta\\approx\\theta$\n",
    "\n",
    "$\\frac{d^{2}\\theta}{dt^{2}}=-\\frac{mgh}{I}\\theta$\n",
    "\n",
    "Which is of the form required for simple harmonic motion with\n",
    "\n",
    "$\\theta=\\theta_{max}\\cos(\\omega t+\\phi)$\n",
    "\n",
    "and as $\\frac{mgh}{I}$ is the equivalent of $\\frac{k}{m}$\n",
    "\n",
    "$T=2\\pi\\sqrt{\\frac{I}{mgh}}$\n"
   ]
  },
  {
   "cell_type": "markdown",
   "id": "9a771f99",
   "metadata": {},
   "source": [
    "### The Torsion pendulum\n",
    "\n",
    "A torsion pendulum has a restoring force provided by a <a href=\"http://en.wikipedia.org/wiki/Torsion_spring\" class=\"urlextern\" title=\"http://en.wikipedia.org/wiki/Torsion_spring\">torsion spring</a>.You might remember that such a device was used to <a href=\"http://upload.wikimedia.org/wikipedia/commons/9/91/Cavendish_Torsion_Balance_Diagram.svg\" class=\"urlextern\" title=\"http://upload.wikimedia.org/wikipedia/commons/9/91/Cavendish_Torsion_Balance_Diagram.svg\">measure the gravitational constant</a>.\n",
    "\n",
    "The torque provided by the spring is \n",
    "\n",
    "$\\tau=-K\\theta$\n",
    "\n",
    "$I\\frac{d^{2}\\theta}{dt^{2}}=-K\\theta$\n",
    "\n",
    "so a torsion pendulum can execute simple harmonic motion \n",
    "$\\theta=\\theta_{max}\\cos(\\omega t+\\phi)$ with $\\omega=\\sqrt{\\frac{K}{I}}$\n"
   ]
  },
  {
   "cell_type": "markdown",
   "id": "313cb75e",
   "metadata": {},
   "source": [
    "### Damping\n",
    "\n",
    "Real oscillations do not continue for ever but decrease their amplitude over time, this is due to <a href=\"https://en.wikipedia.org/wiki/Damping\" class=\"interwiki iw_wp\" title=\"https://en.wikipedia.org/wiki/Damping\">damping</a>, where energy is lost during the oscillation, usually due to air resistance or friction.\n",
    "\n",
    "The damping force opposes the motion and can sometimes be approximated as proportional to the speed \n",
    "\n",
    "$F_{damping}=-bv$\n",
    "\n",
    "Newton's second law gives us \n",
    "\n",
    "$ma=-kx-bv$\n",
    "\n",
    "or \n",
    "\n",
    "$m\\frac{d^{2}x}{dt^{2}}+b\\frac{dx}{dt}+kx=0$\n",
    "\n",
    "The solution to this equation is of the form\n",
    "\n",
    "$x=Ae^{-\\gamma t}\\cos(\\omega' t)$\n",
    "\n",
    "where \n",
    "\n",
    "$\\gamma=\\frac{b}{2m}$  and $\\omega'=\\sqrt{\\frac{k}{m}-\\frac{b^{2}}{4m^{2}}}$\n",
    "\n",
    "Depending on the ratio between the damping coefficient and restoring force, a system will display either <a href=\"http://upload.wikimedia.org/wikipedia/commons/f/fd/Damping_1.svg\" class=\"urlextern\" title=\"http://upload.wikimedia.org/wikipedia/commons/f/fd/Damping_1.svg\">underdamping, overdamping or critical damping</a>.\n",
    "\n",
    "Damping can be introduced in a metallic pendulum by electromagnetic induction"
   ]
  },
  {
   "cell_type": "code",
   "execution_count": 9,
   "id": "377cff0b",
   "metadata": {},
   "outputs": [
    {
     "data": {
      "text/plain": [
       "Text(0, 0.5, 'Height (m)')"
      ]
     },
     "execution_count": 9,
     "metadata": {},
     "output_type": "execute_result"
    },
    {
     "data": {
      "image/png": "[encoded data removed]",
      "text/plain": [
       "<Figure size 432x288 with 1 Axes>"
      ]
     },
     "metadata": {
      "needs_background": "light"
     },
     "output_type": "display_data"
    }
   ],
   "source": [
    "import numpy as np\n",
    "import matplotlib.pyplot as plt\n",
    "t = np.arange(0,1000,0.1) # time discretization, 0-1.5 s in 0.1 s steps\n",
    "# SI units\n",
    "A = 1\n",
    "b = 0.1\n",
    "m = 1\n",
    "k = 1\n",
    "gamma = b/(2*m)\n",
    "w = np.sqrt((k/m)-gamma**2)\n",
    "x = A*np.exp(-gamma*t)*np.cos(w*t)\n",
    "plt.plot(t,x,'-')\n",
    "plt.xlabel(\"time (s)\")\n",
    "plt.ylabel(\"Height (m)\")\n"
   ]
  },
  {
   "cell_type": "markdown",
   "id": "026e3917",
   "metadata": {},
   "source": [
    "### Driven harmonic motion\n",
    "\n",
    "If we subject an oscillator to an oscillatory force\n",
    "\n",
    "$F_{ext}=F_{0}\\cos\\omega t$\n",
    "\n",
    "the equation of motion is\n",
    "\n",
    "$ma=-kx-bv+F_{0}\\cos\\omega t$\n",
    "\n",
    "or\n",
    "\n",
    "$m\\frac{d^{2}x}{dt^{2}}+b\\frac{dx}{dt}+kx=F_{0}\\cos\\omega t$\n",
    "\n",
    "A solution to this equation is \n",
    "\n",
    "$x=A_{0}\\sin(\\omega t+\\phi)$\n",
    "\n",
    "where \n",
    "\n",
    "$A_{0}=\\frac{F_{0}}{m\\sqrt{(\\omega-\\omega_{0})^{2}+b^{2}\\omega^{2}/m^{2}}}$\n",
    "\n",
    "$\\phi_{0}=\\tan^{-1}\\frac{\\omega_{0}^2-\\omega^{2}}{\\omega(b/m)}$\n",
    "\n",
    "This is the steady state solution, there is also transient term which decays to zero with time.\n",
    "\n",
    "When the driving frequency is close to the natural frequency of the oscillator the system is in <a href=\"http://en.wikipedia.org/wiki/Resonance\" class=\"urlextern\" title=\"http://en.wikipedia.org/wiki/Resonance\">resonance</a>. Damping is important in determining the <a href=\"http://upload.wikimedia.org/wikipedia/commons/0/07/Resonance.PNG\" class=\"urlextern\" title=\"http://upload.wikimedia.org/wikipedia/commons/0/07/Resonance.PNG\">maximum amplitude of a driven oscillator</a>. \n"
   ]
  },
  {
   "cell_type": "markdown",
   "id": "918bc103",
   "metadata": {},
   "source": [
    "### Examples of resonance\n",
    "\n",
    "<a href=\"http://www.youtube.com/watch?v=kODOL-QBzSM\" class=\"urlextern\" title=\"http://www.youtube.com/watch?v=kODOL-QBzSM\">Barton&#039;s Pendulum</a>\n",
    "\n",
    "<a href=\"http://www.youtube.com/watch?v=17tqXgvCN0E\" class=\"urlextern\" title=\"http://www.youtube.com/watch?v=17tqXgvCN0E\">Breaking a glass with sound</a>\n",
    "\n",
    "<a href=\"http://www.youtube.com/watch?v=eAXVa__XWZ8\" class=\"urlextern\" title=\"http://www.youtube.com/watch?v=eAXVa__XWZ8\">Millenium Bridge</a>\n",
    "\n",
    "<a href=\"http://www.youtube.com/watch?v=j-zczJXSxnw&amp;NR=1&amp;feature=fvwp\" class=\"urlextern\" title=\"http://www.youtube.com/watch?v=j-zczJXSxnw&amp;NR=1&amp;feature=fvwp\">Tahoma Narrows Bridge</a>\n"
   ]
  },
  {
   "cell_type": "markdown",
   "id": "4c9bf43d",
   "metadata": {},
   "source": [
    "### Coupled Oscillators\n",
    "\n",
    "When two oscillators have resonant frequencies close to each other and are coupled they can transfer energy backwards and forwards between each other.\n",
    "\n",
    "We can say that the oscillation at any time is a superposition of the <a href=\"http://en.wikipedia.org/wiki/Normal_mode\" class=\"urlextern\" title=\"http://en.wikipedia.org/wiki/Normal_mode\">normal modes</a> of the system. In the case of two coupled oscillators the two normal modes are out of phase and in phase oscillation.\n",
    "\n",
    "We'll come back to normal modes and superposition several times when we look at standing waves and sound in the next few lectures."
   ]
  },
  {
   "cell_type": "code",
   "execution_count": null,
   "id": "07190936",
   "metadata": {},
   "outputs": [],
   "source": []
  }
 ],
 "metadata": {
  "kernelspec": {
   "display_name": "Python 3 (ipykernel)",
   "language": "python",
   "name": "python3"
  },
  "language_info": {
   "codemirror_mode": {
    "name": "ipython",
    "version": 3
   },
   "file_extension": ".py",
   "mimetype": "text/x-python",
   "name": "python",
   "nbconvert_exporter": "python",
   "pygments_lexer": "ipython3",
   "version": "3.9.10"
  }
 },
 "nbformat": 4,
 "nbformat_minor": 5
}
