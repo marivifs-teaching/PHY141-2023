{
 "cells": [
  {
   "cell_type": "markdown",
   "id": "e9c8bf9d",
   "metadata": {},
   "source": [
    "# Lecture 32 Fisrt Law of thermodynamics"
   ]
  },
  {
   "cell_type": "markdown",
   "id": "03a1cc7b",
   "metadata": {},
   "source": [
    "### First Law of Thermodynamics\n",
    "\n",
    "The <a href=\"https://en.wikipedia.org/wiki/First_law_of_thermodynamics\" class=\"interwiki iw_wp\" title=\"https://en.wikipedia.org/wiki/First_law_of_thermodynamics\">first law of thermodynamics</a>, dictates how internal energy, heat and work are related to each other. For a closed system the first law states that the change in the internal energy of a system, $\\Delta E_{int}$, is the sum of the heat added **to** the system $Q$ and the net work done **by** the system $W$.\n",
    "\n",
    "$\\Delta E_{int}=Q-W$\n",
    "\n",
    "The first law is a powerful statement of the conservation of energy, indeed conservation of energy can only be understood once we understand that heat is a transfer of energy.\n"
   ]
  },
  {
   "cell_type": "markdown",
   "id": "3c0a63c7",
   "metadata": {},
   "source": [
    "### Isothermal Processes\n",
    "\n",
    "An <a href=\"https://en.wikipedia.org/wiki/Isothermal_process\" class=\"interwiki iw_wp\" title=\"https://en.wikipedia.org/wiki/Isothermal_process\">isothermal process</a> is one which occurs at a constant temperature. In order for such a process to occur there should be a <a href=\"https://en.wikipedia.org/wiki/Heat_reservoir\" class=\"interwiki iw_wp\" title=\"https://en.wikipedia.org/wiki/Heat_reservoir\">heat reservoir</a>, a large body in thermal contact with the system which has a temperature that will not significantly change as heat is exchanged with it. We will consider a <a href=\"https://en.wikipedia.org/wiki/Quasistatic_process\" class=\"interwiki iw_wp\" title=\"https://en.wikipedia.org/wiki/Quasistatic_process\">quasistatic process</a>, which means it occurs slowly enough that the system can be considered to be in equilibrium at any given time. \n",
    "\n",
    "From the viewpoint of the first law\n",
    "\n",
    "$\\Delta E_{int}=Q-W$\n",
    "\n",
    "$\\Delta E_{int}=\\frac{3}{2}nR\\Delta T = 0$\n",
    "\n",
    "Which implies that the work done is equal to the heat added\n",
    "\n",
    "$W=Q$"
   ]
  },
  {
   "cell_type": "markdown",
   "id": "3470ca82",
   "metadata": {},
   "source": [
    "### Adiabatic Process\n",
    "\n",
    "In an adiabatic process no heat is allowed to flow in to or out of a system so $Q=0$. This can either be achieved by very good thermal insulation or in a process which occurs very quickly, so that there is no time for heat flow to occur.\n",
    "\n",
    "In this case\n",
    "\n",
    "$\\Delta E_{int}=-W$\n",
    "\n",
    "Remember that $W$ is the work done by the system, so when a gas expands it does work and the internal energy, and hence the temperature of the gas decreases. When a gas is compressed, work is done on it so it's temperature increases."
   ]
  },
  {
   "cell_type": "markdown",
   "id": "7fc1654e",
   "metadata": {},
   "source": [
    "### Isobaric and Isovolumetric processes\n",
    "\n",
    "We can also consider processes that occur at constant pressure, referred to as isobaric processes, and those which occur at constant volume, referred to as isovolumetric."
   ]
  },
  {
   "cell_type": "markdown",
   "id": "e0b36400",
   "metadata": {},
   "source": [
    "### Work done in changing the volume of a gas\n",
    "\n",
    "![im.png](images/gasexpansionwork.png)\n",
    "\n",
    "In order to apply the First Law to gases we should consider the amount of work done when a gas changes it's volume.\n",
    "\n",
    "If we consider a piston full of gas at pressure $P$ the force on the piston head of area $A$ is $F=PA$. The work done in moving the head through an infinitesimal displacement $dl$ is\n",
    "\n",
    "$dW=F\\,dl=PA\\,dl=P\\,dV$\n",
    "\n",
    "Where $dV$ is the change in volume\n",
    "\n",
    "So the work done in going from one volume to another is \n",
    "\n",
    "$W=\\int dW=\\int_{V_{A}}^{V_{B}}P\\,dV$\n",
    "    \n",
    "The work done therefore depends on how the pressure varies during the change in the volume of the gas."
   ]
  },
  {
   "cell_type": "markdown",
   "id": "19df051e",
   "metadata": {},
   "source": [
    "### Path dependence of the work\n",
    "\n",
    "For an ideal gas $P=\\frac{nRT}{V}$, so for an **isothermal process**\n",
    "\n",
    "$W=\\int_{V_{A}}^{V_{B}}P\\,dV=nRT\\int_{V_{A}}^{V_{B}}\\frac{dV}{V}=nRT\\ln\\frac{V_{B}}{V_{A}}$\n",
    "\n",
    "In an **isobaric process** the pressure is constant so the work is \n",
    "\n",
    "$W=\\int_{V_{A}}^{V_{B}}P\\,dV=P(V_{B}-V_{A})=P\\Delta V$\n",
    "\n",
    "and if the system is an ideal gas\n",
    "\n",
    "$W=P(V_{B}-V_{A})=nRT_{B}(1-\\frac{V_{A}}{V_{B}})=nRT_{A}(\\frac{V_{B}}{V_{A}}-1)$\n",
    "\n",
    "In an **isovolumetric process** the work done is zero\n",
    "\n",
    "$W=0$\n",
    "\n",
    "Graphically the work done can be seen as the area under the PV curve for a given process, and we can also see that depending on the path taken to get from one point on the diagram to another the amount of work done will different.\n",
    "\n",
    "![im.png](images/pathdependenetwork.png)"
   ]
  },
  {
   "cell_type": "markdown",
   "id": "e0786269",
   "metadata": {},
   "source": [
    "### First law for simple thermodynamic processes\n",
    "\n",
    "$\\Delta E_{int}=Q-W$\n",
    "\n",
    "The table shows some of the results that apply to a particular kind of thermal process\n",
    "\n",
    "<div class=\"table sectionedit10\"><table class=\"inline\">\n",
    "\t<thead>\n",
    "\t<tr class=\"row0\">\n",
    "\t\t<th class=\"col0\">Process</th><th class=\"col1\">Constant</th><th class=\"col2\">ΔE<sub>int</sub></th><th class=\"col3\">Q</th><th class=\"col4\">W</th>\n",
    "\t</tr>\n",
    "\t</thead>\n",
    "\t<tr class=\"row1\">\n",
    "\t\t<td class=\"col0\"> Isothermal </td><td class=\"col1\"> T </td><td class=\"col2\"> 0 </td><td class=\"col3\"> Q=W </td><td class=\"col4\"> W=Q </td>\n",
    "\t</tr>\n",
    "\t<tr class=\"row2\">\n",
    "\t\t<td class=\"col0\"> Isobaric </td><td class=\"col1\"> P </td><td class=\"col2\"> Q-PΔV&nbsp;&nbsp;&nbsp;&nbsp; </td><td class=\"col3\"> ΔE<sub>int</sub>+PΔV </td><td class=\"col4\"> PΔV </td>\n",
    "\t</tr>\n",
    "\t<tr class=\"row3\">\n",
    "\t\t<td class=\"col0\"> Isovolumetric </td><td class=\"col1\"> V </td><td class=\"col2\"> Q </td><td class=\"col3\"> ΔE<sub>int</sub> </td><td class=\"col4\"> 0 </td>\n",
    "\t</tr>\n",
    "\t<tr class=\"row4\">\n",
    "\t\t<td class=\"col0\"> Adiabatic </td><td class=\"col2\">  </td><td class=\"col2\"> -W </td><td class=\"col3\"> 0 </td><td class=\"col4\"> -ΔE<sub>int</sub> </td>\n",
    "\t</tr>\n",
    "</table></div>\n"
   ]
  },
  {
   "cell_type": "markdown",
   "id": "c51be850",
   "metadata": {},
   "source": [
    "### Free expansion\n",
    "\n",
    "When we looked at the example of the gas expanding pushing the piston to derive the amount of work done in a volume change we considered work done by the gas against the piston. \n",
    "\n",
    "If nothing opposes the expansion of the gas then no work is done by the gas when it expands. If the system is also insulated from heat then $Q=W=0$ and the internal energy $E_{int}$ does not change, meaning the temperature does not change, if the gas is ideal. Real gases do show a small decrease in temperature under free expansion, in real gases the internal energy depends a little on pressure and volume as well as temperature.\n",
    "\n",
    "This situation is called <a href=\"https://en.wikipedia.org/wiki/Free_expansion\" class=\"interwiki iw_wp\" title=\"https://en.wikipedia.org/wiki/Free_expansion\">free expansion</a>."
   ]
  },
  {
   "cell_type": "markdown",
   "id": "d891fd47",
   "metadata": {},
   "source": [
    "### Molar Specific Heat for Gases\n",
    "\n",
    "In our last lecture we introduced the specific heat <a href=\"https://en.wikipedia.org/wiki/Heat_capacity\" class=\"interwiki iw_wp\" title=\"https://en.wikipedia.org/wiki/Heat_capacity\">heat capacity</a> heat capacity of a material per unit mass. Here we will use molar specific heats for gases at constant pressure $c_{P,m}$ and constant volume $c_{V,m}$ and explain the difference between these on the basis of the first law of thermodynamics.\n",
    "\n",
    "If we increase the temperature of a gas by $\\Delta T$ at constant volume $Q_{V}$ then the first law tells us that \n",
    "\n",
    "$Q_{V}=\\Delta E_{int}$\n",
    "\n",
    "which means that all the heat applied to the system goes in to raising the temperature.\n",
    "\n",
    "If we change the temperature the same amount at constant pressure work will be done as the gas expands so\n",
    "\n",
    "$Q_{P}=\\Delta E_{int}+P\\Delta V$\n",
    "\n",
    "The temperature change is the same so $\\Delta E_{int}$ is the same, so the difference between the heat in the two cases is then\n",
    "\n",
    "$Q_{P}-Q_{V}=nc_{P,m}\\Delta T-nc_{V,m}\\Delta T=P\\Delta V$\n",
    "\n",
    "For an ideal gas $V=\\frac{nRT}{P}$ means that $\\Delta V=\\frac{nR\\Delta T}{P}$ so\n",
    "\n",
    "$nc_{P,m}\\Delta T-nc_{V,m}\\Delta T=P(\\frac{nR\\Delta T}{P})$ → $c_{P,m}-c_{V,m}=R$\n",
    "\n",
    "Let's recall that $R=8.314\\,\\mathrm{J/mol.K}$ and compare this to the <a href=\"https://en.wikipedia.org/wiki/Table_of_specific_heat_capacities\" class=\"interwiki iw_wp\" title=\"https://en.wikipedia.org/wiki/Table_of_specific_heat_capacities\">table of specific heats</a> on Wikipedia."
   ]
  },
  {
   "cell_type": "markdown",
   "id": "80ea48ca",
   "metadata": {},
   "source": [
    "### Constant volume molar heat capacity for an ideal gas\n",
    "\n",
    "At constant volume all the heat added to the system goes in to raising the internal energy.\n",
    "\n",
    "From the kinetic theory for an ideal monatomic gas the internal energy $E_{int}$ is given by\n",
    "\n",
    "$E_{int}=\\frac{3}{2}nRT$\n",
    "\n",
    "so using the first law\n",
    "\n",
    "$\\Delta E_{int}=\\frac{3}{2}nR\\Delta T=nc_{V,m}\\Delta T$ → $c_{V,m}=\\frac{3}{2}R=12.471\\,\\mathrm{J/mol.K}$\n",
    "\n",
    "We can also compare this to the <a href=\"https://en.wikipedia.org/wiki/Table_of_specific_heat_capacities\" title=\"https://en.wikipedia.org/wiki/Table_of_specific_heat_capacities\">table of specific heats</a> on Wikipedia.\n",
    "\n",
    "This prediction is very good for ideal monatomic gases, but gives values too low for more complicated molecules."
   ]
  },
  {
   "cell_type": "markdown",
   "id": "383b408f",
   "metadata": {},
   "source": [
    "### Equipartition of energy\n",
    "The <a href=\"https://en.wikipedia.org/wiki/Equipartition_theorem\" class=\"interwiki iw_wp\" title=\"https://en.wikipedia.org/wiki/Equipartition_theorem\">equipartition theorem</a> can be used to explain the higher heat capacity of more complicated gases. The equipartition theorem states that energy is equally shared between the different degrees of freedom the molecules in the gas have.\n",
    "\n",
    "<a href=\"/~mdawber/_detail/phy141:lectures:degreesoffreedom.png?id=phy141%3Alectures%3A36\" class=\"media\" title=\"phy141:lectures:degreesoffreedom.png\"><img src=\"/~mdawber/_media/phy141:lectures:degreesoffreedom.png\" class=\"media\" alt=\"\" /></a>\n",
    "\n",
    "Each degree of translational or rotational freedom contributes $\\frac{1}{2}R$ to the molar specific heat at constant volume.\n",
    "\n",
    "We can see that diatomic molecules should thus have $c_{V,m}=\\frac{5}{2}R=20.785\\mathrm{J/mol.K}$\n",
    "\n",
    "Based on this argument a bent molecule which has 3 degrees of rotational freedom might be expected to have $c_{V,m}=\\frac{6}{2}R=24.942\\mathrm{J/mol.K}$..but we can see they actually have a slightly higher specific heat than this."
   ]
  },
  {
   "cell_type": "markdown",
   "id": "19b14679",
   "metadata": {},
   "source": [
    "### Vibrational degrees of freedom\n",
    "\n",
    "As well as moving and rotating molecules can vibrate. However these modes are typically “frozen out” in simple molecules at room temperature. As molecules get more complicated the vibrational modes start to contribute to the specific heat. If we cool a gas down we can the rotational degrees of freedom in gas can also become frozen. Quantum theory is required to explain why the number of active modes is dependent on temperature!\n",
    "\n",
    "![im.png](images/diatomicspecheat1.png)"
   ]
  },
  {
   "cell_type": "markdown",
   "id": "4e570cad",
   "metadata": {},
   "source": [
    "### Quasistatic adiabatic expansion of a Gas\n",
    "\n",
    "\n",
    "If we consider a quasistatic adiabatic expansion we can derive a useful relationship between pressure and volume in terms of the molar heat capacities we just considered. As $dQ=0$\n",
    "\n",
    "$dE_{int}=dQ-dW=-dW=-PdV$\n",
    "\n",
    "\n",
    "So $nc_{V,m}dT+PdV=0$\n",
    "\n",
    "If we take the ideal gas law $PV=nRT$ and differentiate both sides with respect to $T$\n",
    "\n",
    "$P\\frac{dV}{dT}+V\\frac{dP}{dT}=nR$ → $P\\,dV+V\\,dP=nR\\,dT$\n",
    "\n",
    "Combining the two equations gives\n",
    "\n",
    "$(c_{V,m}+R)P\\,dV+c_{V,m}V\\,dP=0$\n",
    "\n",
    "$c_{P,m}P\\,dV+c_{V,m}V\\,dP=0$\n",
    "\n",
    "which gives\n",
    "\n",
    "$\\frac{c_{P,m}}{c_{V,m}}\\frac{dV}{V}+\\frac{dP}{P}=0$\n",
    "\n",
    "We define $\\gamma=\\frac{c_{P,m}}{c_{V,m}}$ and can integrate the previous equation to show that\n",
    "\n",
    "$\\ln P + \\gamma \\ln V = \\mathrm{constant}$\n",
    "\n",
    "which gives $PV^{\\gamma}=\\mathrm{constant}$"
   ]
  }
 ],
 "metadata": {
  "kernelspec": {
   "display_name": "Python 3 (ipykernel)",
   "language": "python",
   "name": "python3"
  },
  "language_info": {
   "codemirror_mode": {
    "name": "ipython",
    "version": 3
   },
   "file_extension": ".py",
   "mimetype": "text/x-python",
   "name": "python",
   "nbconvert_exporter": "python",
   "pygments_lexer": "ipython3",
   "version": "3.9.10"
  }
 },
 "nbformat": 4,
 "nbformat_minor": 5
}
