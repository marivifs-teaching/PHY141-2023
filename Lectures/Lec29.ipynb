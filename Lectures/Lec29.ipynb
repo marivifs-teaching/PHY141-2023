{
 "cells": [
  {
   "cell_type": "markdown",
   "id": "215a6291",
   "metadata": {},
   "source": [
    "# Lecture 29 Sound Effects"
   ]
  },
  {
   "cell_type": "markdown",
   "id": "6d796c14",
   "metadata": {},
   "source": [
    "### Spatial Interference\n",
    "\n",
    "The equation for a traveling wave\n",
    "\n",
    "$D(x,t)=A\\sin(\\frac{2\\pi}{\\lambda}x-\\frac{2\\pi t}{T})=A\\sin(kx-\\omega t)$\n",
    "\n",
    "tells us that if we are standing a distance $r_{1}(x)$ from a one dimensional wave the wave displacement at a time $t$ will be\n",
    "\n",
    "$D_{1}(x_1,t)=A\\sin(kx_1-\\omega t)$\n",
    "\n",
    "if a second identical source is a distance $r_{2}(x)$ away\n",
    "\n",
    "$D_{2}(x_2,t)=A\\sin(kx_2-\\omega t)$\n",
    "\n",
    "and the total wave displacement is\n",
    "\n",
    "$D_{1+2}(x,t)=A\\sin(kx_1-\\omega t)+A\\sin(kx_2-\\omega t)$\n",
    "\n",
    "Using $\\sin\\theta_{1}+\\sin\\theta_{2}=2\\sin\\frac{1}{2}(\\theta_{1}+\\theta_{2})\\cos\\frac{1}{2}(\\theta_{1}-\\theta_{2})$\n",
    "\n",
    "$D_{1+2}(x,t)=2A\\sin(\\frac{k}{2}(x_1+x_2)-\\omega t)\\cos(\\frac{k}{2}(x_1-x_2))$\n",
    "\n",
    "We thus hear a wave that has the same wavelength and frequency as that coming from the source, but the amplitude will depend on the distance between the sources, being maximum ($2A$) when $\\frac{k}{2}(x_1-x_2)$ is 0 or a whole number multiple of $\\pi$ which corresponds to the waves at that point being in phase. The amplitude is minimum ($0$) when $\\frac{k}{2}(x_1-x_2)$ is a multiple of $\\frac{\\pi}{2}$ which corresponds to the waves at that point being out of phase.\n",
    "Another way of saying this: destructive interference occurs at any point whose distance from one source is one-half wavelength greater than its distance from the other source.\n"
   ]
  },
  {
   "cell_type": "markdown",
   "id": "729bd8ff",
   "metadata": {},
   "source": [
    "### Interference between two speakers\n",
    "\n",
    "If the waves propagate from the source in all 3 dimensions then we need to take \n",
    "\n",
    "into account that  as we showed in lecture 27 , $A\\propto\\frac{1}{r}$. \n",
    "\n",
    "To determine $\\beta$ or perceived loudness we need to remember that it depends logarithmically on intensity. I have factored these considerations in the following calculations. The patterns are for two speakers separated by 1m.\n",
    "\n",
    "![im.png](images/speakerinteference.png)\n"
   ]
  },
  {
   "cell_type": "code",
   "execution_count": 31,
   "id": "c8cf7f6f",
   "metadata": {},
   "outputs": [
    {
     "name": "stdout",
     "output_type": "stream",
     "text": [
      "0.6938775510204082 m\n",
      "68.19859051364818\n"
     ]
    }
   ],
   "source": [
    "import numpy as np\n",
    "# Compute wavelength\n",
    "vs = 340 #m/s, sound velocity\n",
    "f = 490 #Hz=s^-1\n",
    "l = vs/f #wavelength\n",
    "print(l,'m')\n",
    "\n",
    "# Compute the angle for 490 Hz\n",
    "theta=np.arctan(5/2)\n",
    "print(theta*180/np.pi)"
   ]
  },
  {
   "cell_type": "markdown",
   "id": "aa18281f",
   "metadata": {},
   "source": [
    "### The Doppler effect\n",
    "<a href=\"https://en.wikipedia.org/wiki/Doppler_effect\" class=\"interwiki iw_wp\" title=\"https://en.wikipedia.org/wiki/Doppler_effect\">Doppler Effect</a>\n",
    "\n",
    "<a href=\"http://www.youtube.com/watch?feature=player_embedded&amp;v=Tn35SB1_NYI\" class=\"urlextern\" title=\"http://www.youtube.com/watch?feature=player_embedded&amp;v=Tn35SB1_NYI\">Sheldon Cooper explains</a>\n"
   ]
  },
  {
   "cell_type": "markdown",
   "id": "35fe40b7",
   "metadata": {},
   "source": [
    "### Doppler Effect with moving source\n",
    "\n",
    "When a source of sound moves a stationary observer hears an apparent shift in the frequency. The origin of this effect can be seen nicely in <a href=\"http://upload.wikimedia.org/wikipedia/commons/c/c9/Dopplereffectsourcemovingrightatmach0.7.gif\" class=\"urlextern\" title=\"http://upload.wikimedia.org/wikipedia/commons/c/c9/Dopplereffectsourcemovingrightatmach0.7.gif\">this animation</a> from Wikipedia.\n",
    "\n",
    "For a source moving **towards** an observer \n",
    "\n",
    "\n",
    "![im.png](images/dopplereffect.png)\n",
    "\n",
    "$\\lambda'=\\lambda-d=\\lambda-v_{source}T=\\lambda-v_{source}\\frac{\\lambda}{v_{sound}}=\\lambda(1-\\frac{v_{source}}{v_{sound}})$\n",
    "\n",
    "$f'=\\frac{v_{sound}}{\\lambda'}=\\frac{v_{sound}}{\\lambda(1-\\frac{v_{source}}{v_{sound}})}=\\frac{f}{(1-\\frac{v_{source}}{v_{sound}})}$\n",
    "\n",
    "If the source is moving <strong>away</strong> from the observer\n",
    "\n",
    "$\\lambda'=\\lambda(1+\\frac{v_{source}}{v_{sound}})$\n",
    "\n",
    "$f'=\\frac{f}{(1+\\frac{v_{source}}{v_{sound}})}$\n"
   ]
  },
  {
   "cell_type": "markdown",
   "id": "6d219c08",
   "metadata": {},
   "source": [
    "### Doppler effect with moving observer\n",
    "\n",
    "![im.png](images/dopplerobserver.png)\n",
    "\n",
    "A doppler effect also occurs when an observer moves towards a source, but here the wavelength does not change, instead it is the effective velocity that changes and leads to an apparent change in the frequency of the sound. When the observer moves <strong>towards</strong> the source of the sound\n",
    "\n",
    "$T'=\\frac{\\lambda}{v_{sound}+v_{obs}}$\n",
    "\n",
    "$f'=\\frac{v_{sound}+v_{obs}}{\\lambda}=\\frac{v_{sound}+v_{obs}}{v_{sound}}f$\n",
    "\n",
    "When the observer moves <strong>away</strong> from the source of the sound\n",
    "\n",
    "$f'=\\frac{v_{sound}-v_{obs}}{\\lambda}=\\frac{v_{sound}-v_{obs}}{v_{sound}}f$\n"
   ]
  },
  {
   "cell_type": "markdown",
   "id": "055e5391",
   "metadata": {},
   "source": [
    "### Doppler Effect with moving observer and source\n",
    "\n",
    "For an observer moving towards a source which is also moving towards it\n",
    "\n",
    "$f'=\\frac{v_{sound}+v_{obs}}{\\lambda'}=\\frac{v_{sound}+v_{obs}}{\\lambda(1-\\frac{v_{source}}{v_{sound}})}=\\frac{(v_{sound}+v_{obs})v_{sound}}{\\lambda(v_{sound}-v_{source})}=f\\frac{(v_{sound}+v_{obs})}{(v_{sound}-v_{source})}$\n",
    "\n",
    "A general formula for the doppler effect is\n",
    "\n",
    "$f'=f\\frac{(v_{sound}\\pm v_{obs})}{(v_{sound}\\mp v_{source})}$\n",
    "\n",
    "Top part of the $\\pm$ or $\\mp$ sign is for a source or observer moving towards each other, the bottom part is for motion away from each other.\n",
    "\n",
    "4 cases:\n",
    "\n",
    "- Source moves towards, observer moves towards\n",
    "\n",
    "$f'=f\\frac{(v_{sound}+ v_{obs})}{(v_{sound}- v_{source})}$\n",
    "\n",
    "- Source moves away, observer moves away\n",
    "\n",
    "$f'=f\\frac{(v_{sound}- v_{obs})}{(v_{sound}+ v_{source})}$\n",
    "\n",
    "- Source moves towards, observer moves away\n",
    "\n",
    "$f'=f\\frac{(v_{sound}- v_{obs})}{(v_{sound}- v_{source})}$\n",
    "\n",
    "\n",
    "- Source moves away, observer moves towards\n",
    "\n",
    "$f'=f\\frac{(v_{sound} + v_{obs})}{(v_{sound}+ v_{source})}$"
   ]
  },
  {
   "cell_type": "markdown",
   "id": "3ab7b89c",
   "metadata": {},
   "source": [
    "### Double Doppler effect when sound bounces off a moving object\n",
    "\n",
    "If we project sound at a moving object and wait for it to come back it's frequency is shifted by two doppler effects. In the first part of the process the source is stationary and the observer is moving, the moving object is hit by sound of frequency $f'$\n",
    "\n",
    "$f'=f\\frac{(v_{sound}\\pm v_{obs})}{(v_{sound})}$\n",
    "\n",
    "Now when the sound is returning to us it is a case of a moving source and stationary observer, we apply the formula for that on to the already shifted frequency $f'$ to get $f''$ the frequency we would hear\n",
    "\n",
    "$f''=f'\\frac{(v_{sound})}{(v_{sound}\\mp v_{source})}=f\\frac{(v_{sound})}{(v_{sound}\\mp v_{source})}\\frac{(v_{sound}\\pm v_{obs})}{(v_{sound})}$\n",
    "\n",
    "Of course in this case $v_{source}=v_{obs}=v_{object}$ so\n",
    "\n",
    "$f''=f\\frac{(v_{sound}\\pm v_{object})}{(v_{sound}\\mp v_{object})}$\n",
    "\n",
    "This double doppler effect, used with either sound (<a href=\"https://en.wikipedia.org/wiki/Sonar\" class=\"interwiki iw_wp\" title=\"https://en.wikipedia.org/wiki/Sonar\">sonar</a>) or radio waves (<a href=\"https://en.wikipedia.org/wiki/Radar\" class=\"interwiki iw_wp\" title=\"https://en.wikipedia.org/wiki/Radar\">radar</a>) can be used to detect the speed of an object from the frequency of the reflected waves.\n"
   ]
  },
  {
   "cell_type": "markdown",
   "id": "5b024398",
   "metadata": {},
   "source": [
    "### Sonic Boom\n",
    "\n",
    "When a moving object moves faster than the speed of sound <a href=\"http://upload.wikimedia.org/wikipedia/commons/d/d1/Dopplereffectsourcemovingrightatmach1.0.gif\" class=\"urlextern\" title=\"http://upload.wikimedia.org/wikipedia/commons/d/d1/Dopplereffectsourcemovingrightatmach1.0.gif\">the wavefronts pile up</a>, creating a shock wave, which is heard as a sonic boom.\n",
    "\n",
    "A video of a <a href=\"http://www.youtube.com/watch?v=SsDEfu8s1Lw\" class=\"urlextern\" title=\"http://www.youtube.com/watch?v=SsDEfu8s1Lw\">sonic boom</a>.\n",
    "\n",
    "More on sonic booms on <a href=\"http://en.wikipedia.org/wiki/Sonic_boom\" class=\"urlextern\" title=\"http://en.wikipedia.org/wiki/Sonic_boom\">wikipedia</a>.\n",
    "\n"
   ]
  },
  {
   "cell_type": "code",
   "execution_count": null,
   "id": "8a388d11",
   "metadata": {},
   "outputs": [],
   "source": []
  }
 ],
 "metadata": {
  "kernelspec": {
   "display_name": "Python 3 (ipykernel)",
   "language": "python",
   "name": "python3"
  },
  "language_info": {
   "codemirror_mode": {
    "name": "ipython",
    "version": 3
   },
   "file_extension": ".py",
   "mimetype": "text/x-python",
   "name": "python",
   "nbconvert_exporter": "python",
   "pygments_lexer": "ipython3",
   "version": "3.9.10"
  }
 },
 "nbformat": 4,
 "nbformat_minor": 5
}
