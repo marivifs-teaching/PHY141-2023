{
 "cells": [
  {
   "cell_type": "markdown",
   "id": "c96a5070",
   "metadata": {
    "slideshow": {
     "slide_type": "slide"
    }
   },
   "source": [
    "# Linear Momentum and one dimensional collisions"
   ]
  },
  {
   "cell_type": "markdown",
   "id": "a4f62bfd",
   "metadata": {
    "slideshow": {
     "slide_type": "slide"
    }
   },
   "source": [
    "### Momentum\n",
    "\n",
    "We can define momentum as the mass times the velocity\n",
    "\n",
    "$\\vec{p}=m\\vec{v}$\n",
    "\n",
    "Momentum has units $\\mathrm{kg\\,ms^{-1}}$\n",
    "\n",
    "Unlike kinetic energy momentum is a vector quantity.\n",
    "\n",
    "The most fundamental aspect of momentum is it's connection to force. We can express Newton's second law as \n",
    "\n",
    "$\\Sigma \\vec{F} = \\frac{d\\vec{p}}{dt}=m\\frac{d\\vec{v}}{dt}=m\\vec{a}$\n",
    "\n",
    "Over a change in momentum $\\Delta p$ from $mv_{1}$ to $mv_{2}$ in a time interval $\\Delta t$ during which the instanteous force may vary the average force can also be a useful quantity to consider\n",
    "\n",
    "$F_{ave}=\\frac{\\Delta p}{\\Delta t}=\\frac{mv_{2}-mv_{1}}{\\Delta t}$\n"
   ]
  },
  {
   "cell_type": "markdown",
   "id": "b9761672",
   "metadata": {
    "slideshow": {
     "slide_type": "slide"
    }
   },
   "source": [
    "### Conservation of Momentum\n",
    "\n",
    "\n",
    "In a collision in which no external force acts the total momentum of the system is a conserved quantity. This can be seen to be a consequence of Newton's third law.\n",
    "\n",
    "Consider a collision between two objects\n",
    "\n",
    "$m_{A}\\vec{v}_{A}+m_{B}\\vec{v}_{B}=m_{A}\\vec{v'}_{A}+m_{B}\\vec{v'}_{B}$\n",
    "\n",
    "The force exerted by object A on object B must be \n",
    "\n",
    "$\\vec{F}_{AB}=\\frac{d\\vec{p}_{B}}{dt}$\n",
    "\n",
    "And the force exerted by object B on object A must be \n",
    "\n",
    "$\\vec{F}_{BA}=\\frac{d\\vec{p}_{A}}{dt}$\n",
    "\n",
    "But we know from Newton&#039;s Third Law that \n",
    "\n",
    "$\\vec{F}_{AB}=-\\vec{F}_{BA}$\n",
    "\n",
    "so that \n",
    "\n",
    "$\\frac{d\\vec{p}_{A}}{dt}+\\frac{d\\vec{p}_{B}}{dt}=0$\n",
    "\n"
   ]
  },
  {
   "cell_type": "markdown",
   "id": "658f5f13",
   "metadata": {
    "slideshow": {
     "slide_type": "slide"
    }
   },
   "source": [
    "### Conservation of momentum for many objects\n",
    "\n",
    "More generally, the total momentum of a system\n",
    "\n",
    "$\\vec{P}=\\Sigma_{i} p_{i}=\\Sigma_{i} m_{i}v_{i}$\n",
    "\n",
    "The change of this quantity with time\n",
    "\n",
    "$\\frac{d\\vec{P}}{dt}=\\Sigma_{i}\\frac{d\\vec{p_{i}}}{dt}=\\Sigma_{i}F_{i}$\n",
    "\n",
    "$F_{i}$ represents the net force on the $i$th body. All internal force have equal and opposite reaction force on some other body within the system (Newton's 3rd Law) and cancel out in the sum.\n",
    "\n",
    "So\n",
    "\n",
    "$\\frac{d\\vec{P}}{dt}=\\Sigma_{i}F_{ext}$\n",
    "\n",
    "**In the absence of an external force the total momentum of a system is constant.**\n"
   ]
  },
  {
   "cell_type": "markdown",
   "id": "4a39016f",
   "metadata": {
    "slideshow": {
     "slide_type": "slide"
    }
   },
   "source": [
    "### Rockets\n",
    "\n",
    "![rocket1.jpeg](images/rocket1.jpeg)\n",
    "The key to rocket propulsion is that the momentum of the expelled gas is equal and opposite to the forward momentum of the rocket. This does not rely on any interaction with the external atmosphere."
   ]
  },
  {
   "cell_type": "markdown",
   "id": "876ae771",
   "metadata": {
    "slideshow": {
     "slide_type": "slide"
    }
   },
   "source": [
    "### Impulse\n",
    "\n",
    "During a collision we can say that the net force on an object $\\vec{F}$\n",
    "\n",
    "$\\vec{F}=\\frac{d\\vec{p}}{dt}$\n",
    "\n",
    "During an infinitesimal time interval $dt$ the change in momentum $d\\vec{p}$ is\n",
    "\n",
    "$d\\vec{p}=\\vec{F}dt$\n",
    "\n",
    "Integrating this over the change from the initial state $i$ to the final state $f$\n",
    "\n",
    "$\\int_{i}^{f}d\\vec{p}=\\vec{p_{f}}-\\vec{p_{i}}=\\int_{t_{i}}^{t_{f}}\\vec{F}dt$\n",
    "\n",
    "We define the integral over the force as the impulse $\\vec{J}$\n",
    "\n",
    "$\\vec{J}=\\int_{t_{i}}^{t_{f}}\\vec{F}dt$\n",
    "\n",
    "and we can see that the change of momentum of an object is equal to the impulse acting on it\n",
    "\n",
    "$\\Delta\\vec{p}=\\vec{J}=\\int_{t_{i}}^{t_{f}}\\vec{F}dt$\n"
   ]
  },
  {
   "cell_type": "markdown",
   "id": "93555871",
   "metadata": {
    "slideshow": {
     "slide_type": "slide"
    }
   },
   "source": [
    "### Impulse Example\n",
    "\n",
    "![image.png](images/tennisballwall.png)\n",
    "\n",
    "\n",
    "If we throw a tennis ball (mass 57g) so that it is incident and comes off at a 45<sup>o</sup> angle. If it’s velocity both before and after is 10ms<sup>-1</sup> what is magnitude of the change in\n",
    " * The x component of the momentum.\n",
    " * The y component of the momentum. \n",
    "\n"
   ]
  },
  {
   "cell_type": "markdown",
   "id": "64429aa4",
   "metadata": {
    "slideshow": {
     "slide_type": "subslide"
    }
   },
   "source": [
    "From here we can calculate what is the force that acts on the tennis ball if we know\n",
    "the interaction time:\n",
    "\n",
    "$\\vec{F}_{Ave}=\\frac{\\Delta\\vec{p}}{\\Delta t}$\n"
   ]
  },
  {
   "cell_type": "code",
   "execution_count": 2,
   "id": "55360160",
   "metadata": {},
   "outputs": [
    {
     "name": "stdout",
     "output_type": "stream",
     "text": [
      "-80.61017305526642 N\n"
     ]
    }
   ],
   "source": [
    "import numpy as np\n",
    "\n",
    "theta=45*np.pi/180\n",
    "m = 0.057 # kg\n",
    "v = 10 #m/s\n",
    "t = 0.01 #s\n",
    "\n",
    "vx= v*np.cos(theta)\n",
    "vy= v*np.sin(theta)\n",
    "vfx= -vx\n",
    "\n",
    "Fx = m*(vfx-vx)/t\n",
    "\n",
    "print(Fx, \"N\")"
   ]
  },
  {
   "cell_type": "markdown",
   "id": "c49451fe",
   "metadata": {
    "slideshow": {
     "slide_type": "slide"
    }
   },
   "source": [
    "### Conservation of energy in collisions\n",
    "\n",
    "\n",
    "The general law of conservation of energy tells us that the total energy (including all forms of energy) in a collision is conserved.\n",
    "\n",
    "However we saw before that this does necessarily mean that mechanical energy is conserved. Further, a collision usually takes place at a constant position with respect to potential energy. Therefore the most important question that we need to ask about a collision is: Is <strong>kinetic</strong> energy conserved?\n",
    "\n",
    "We call collisions that conserve kinetic energy <strong>elastic</strong>, and for these we can write that.\n",
    "\n",
    "$\\Sigma_{i}\\frac{1}{2}m_{i}v_{i}^2=\\Sigma_{i}\\frac{1}{2}m_{i}v`_i^{2}$\n",
    "\n",
    "In collisions where some of the energy is converted from kinetic energy to some other kind of energy, which we call <strong>inelastic</strong> collisions, we can only say that\n",
    "\n",
    "$\\Sigma_{i}\\frac{1}{2}m_{i}v_{i}^2=\\Sigma_{i}\\frac{1}{2}m_{i}v`_{i}^2+\\textrm{other forms of energy}$\n",
    "\n",
    "Which, unless we can quantify the other forms of energy, is a less useful equation.\n"
   ]
  },
  {
   "cell_type": "markdown",
   "id": "fca8978b",
   "metadata": {
    "slideshow": {
     "slide_type": "slide"
    }
   },
   "source": [
    "### Elastic Collisions in one dimension\n",
    "\n",
    "\n",
    "For a one dimensional elastic collision \n",
    "\n",
    "$m_{A}v_{A}+m_{B}v_{B}=m_{A}v`_{A}+m_{B}v`_{B}$\n",
    "\n",
    "**and**\n",
    "\n",
    "$\\frac{1}{2}m_{A}v_{A}^2+\\frac{1}{2}m_{B}v_{B}^2=\\frac{1}{2}m_{A}v`_{A}^2+\\frac{1}{2}m_{B}v`_{B}^2$\n"
   ]
  },
  {
   "cell_type": "markdown",
   "id": "42f008bb",
   "metadata": {
    "slideshow": {
     "slide_type": "slide"
    }
   },
   "source": [
    "### Change in velocity in an elastic collision\n",
    "\n",
    "\n",
    "Rewrite\n",
    "\n",
    "$m_{A}v_{A}+m_{B}v_{B}=m_{A}v`_{A}+m_{B}v`_{B}$ as  $m_{A}(v_{A}-v`_{A})=m_{B}(v`_{B}-v_{B})$\n",
    "\n",
    "and\n",
    "\n",
    "$\\frac{1}{2}m_{A}v_{A}^2+\\frac{1}{2}m_{B}v_{B}^2=\\frac{1}{2}m_{A}v`_{A}^2+\\frac{1}{2}m_{B}v`_{B}^2$\n",
    "\n",
    "as\n",
    "\n",
    "$m_{A}(v_{A}^2-v`_{A}^2)=m_{B}(v`_{B}^2-v_{B}^2)$\n",
    "\n",
    "$m_{A}(v_{A}-v`_{A})(v_{A}+v`_{A})=m_{B}(v`_{B}-v_{B})(v`_{B}+v_{B})$\n",
    "\n",
    "Divide the kinetic energy by the momentum equation\n",
    "\n",
    "$(v_{A}+v`_{A})=(v`_{B}+v_{B})$ or $(v_{A}-v_{B})=(v`_{B}-v`_{A})$ or $(v_{A}-v_{B})=-(v`_{A}-v`_{B})$\n",
    "\n",
    "**The relative speed of the objects before and after the collision have the same magnitude but different signs.**\n"
   ]
  },
  {
   "cell_type": "markdown",
   "id": "ba4ef65c",
   "metadata": {
    "slideshow": {
     "slide_type": "slide"
    }
   },
   "source": [
    "### Solving 1-D elastic collision problems\n",
    "\n",
    "\n",
    "Conservation of Momentum\n",
    "\n",
    "$m_{A}v_{A}+m_{B}v_{B}=m_{A}v`_{A}+m_{B}v`_{B}$\n",
    "\n",
    "Conservation of Energy\n",
    "\n",
    "$\\frac{1}{2}m_{A}v_{A}^2+\\frac{1}{2}m_{B}v_{B}^2=\\frac{1}{2}m_{A}v`_{A}^2+\\frac{1}{2}m_{B}v`_{B}^2$\n",
    "\n",
    "or\n",
    "\n",
    "$(v_{A}-v_{B})=-(v`_{A}-v`_{B})$\n"
   ]
  },
  {
   "cell_type": "markdown",
   "id": "a714464c",
   "metadata": {
    "slideshow": {
     "slide_type": "slide"
    }
   },
   "source": [
    "### collisions with only 1 body moving initially\n",
    "\n",
    "Consider collisions where $v_{B}=0$\n",
    "\n",
    "$m_{A}v_{A}=m_{A}v`_{A}+m_{B}v`_{B}$\n",
    "\n",
    "$(v_{A})=-(v`_{A}-v`_{B})$\n",
    "\n",
    "We want to know $v`_{A}$ and $v`_{B}$ given the masses of the objects and the initial velocity $v_{A}$\n",
    "\n",
    "$v`_{A}=-v_{A}+v`_{B}$<br/>\n",
    "$m_{A}v_{A}=-m_{A}v_{A}+m_{A}v`_{B}+m_{B}v`_{B}$<br/>\n",
    "$m_{A}v_{A}+m_{A}v_{A}=m_{A}v`_{B}+m_{B}v`_{B}$<br/>\n",
    "$v`_{B}=\\frac{2m_{A}}{m_{A}+m_{B}}v_{A}$\n",
    "\n",
    "$v`_{B}=v_{A}+v`_{A}$<br/>\n",
    "$m_{A}v_{A}= m_{A}v`_{A}+m_{B}v`_{A}+m_{B}v_{A}$<br/>\n",
    "$m_{A}v_{A}-m_{B}v_{A}=m_{A}v`_{A}+m_{B}v`_{A}$<br/>\n",
    "$v`_{A}=\\frac{m_{A}-m_{B}}{m_{A}+m_{B}}v_{A}$\n"
   ]
  },
  {
   "cell_type": "markdown",
   "id": "96a0daad",
   "metadata": {
    "slideshow": {
     "slide_type": "slide"
    }
   },
   "source": [
    "### Three cases\n",
    "\n",
    "\n",
    "$v`_{B}=\\frac{2m_{A}}{m_{A}+m_{B}}v_{A}$\n",
    "\n",
    "$v`_{A}=\\frac{m_{A}-m_{B}}{m_{A}+m_{B}}v_{A}$\n",
    "\n",
    "\n",
    "$m_{A}=m_{B}$\n",
    "![elastic1.gif](images/elastic1.gif)\n",
    "$m_{A}>m_{B}$\n",
    "![elastic2.gif](images/elastic2.gif)\n",
    "$m_{B}>m_{A}$\n",
    "![elastic3.gif](images/elastic3.gif)\n"
   ]
  }
 ],
 "metadata": {
  "celltoolbar": "Slideshow",
  "kernelspec": {
   "display_name": "Python 3 (ipykernel)",
   "language": "python",
   "name": "python3"
  },
  "language_info": {
   "codemirror_mode": {
    "name": "ipython",
    "version": 3
   },
   "file_extension": ".py",
   "mimetype": "text/x-python",
   "name": "python",
   "nbconvert_exporter": "python",
   "pygments_lexer": "ipython3",
   "version": "3.9.10"
  }
 },
 "nbformat": 4,
 "nbformat_minor": 5
}
