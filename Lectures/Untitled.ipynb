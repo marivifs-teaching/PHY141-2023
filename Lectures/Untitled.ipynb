{
 "cells": [
  {
   "cell_type": "code",
   "execution_count": 3,
   "id": "be096ac1",
   "metadata": {},
   "outputs": [
    {
     "data": {
      "text/plain": [
       "1.25e-10"
      ]
     },
     "execution_count": 3,
     "metadata": {},
     "output_type": "execute_result"
    }
   ],
   "source": [
    "import numpy as np\n",
    "\n",
    "g=10 # m/s^2\n",
    "L=40e6 #m\n",
    "rho = 3e3 #kg/m^3\n",
    "\n",
    "G = 6*g/(4*L*rho)\n",
    "G"
   ]
  },
  {
   "cell_type": "code",
   "execution_count": 10,
   "id": "e7e2a624",
   "metadata": {},
   "outputs": [
    {
     "data": {
      "text/plain": [
       "4920.469138719385"
      ]
     },
     "execution_count": 10,
     "metadata": {},
     "output_type": "execute_result"
    }
   ],
   "source": [
    "ra=8230e3\n",
    "db=14255e3\n",
    "rb=np.sqrt(ra**2+db**2)\n",
    "va=8526\n",
    "eka=.5*va**2\n",
    "G=6.67e-11\n",
    "M=5.982e24\n",
    "epa=-G*M/ra\n",
    "eka+epa\n",
    "epb=-G*M/rb\n",
    "ekb=eka+epa-epb\n",
    "vb=np.sqrt(2*ekb)\n",
    "vb"
   ]
  },
  {
   "cell_type": "code",
   "execution_count": 11,
   "id": "5eb0f7cc",
   "metadata": {},
   "outputs": [
    {
     "data": {
      "text/plain": [
       "1206718.3190403376"
      ]
     },
     "execution_count": 11,
     "metadata": {},
     "output_type": "execute_result"
    }
   ],
   "source": [
    "ME=5.982e24\n",
    "MS=1.99E30\n",
    "RS=6.96E8\n",
    "R=RS*np.sqrt(ME/MS)\n",
    "R"
   ]
  },
  {
   "cell_type": "code",
   "execution_count": 15,
   "id": "4cc04762",
   "metadata": {},
   "outputs": [
    {
     "data": {
      "text/plain": [
       "0.0621"
      ]
     },
     "execution_count": 15,
     "metadata": {},
     "output_type": "execute_result"
    }
   ],
   "source": [
    "0.0001*27*23"
   ]
  },
  {
   "cell_type": "code",
   "execution_count": 32,
   "id": "78af93a2",
   "metadata": {},
   "outputs": [
    {
     "name": "stdout",
     "output_type": "stream",
     "text": [
      "0.03374061003887501\n",
      "2.1992857142146094\n",
      "22.94056748951481 9.768624736213617 2.348392748108238\n"
     ]
    }
   ],
   "source": [
    "G=6.67e-11\n",
    "RE=6380e3\n",
    "ve=2*np.pi*RE/(24*3600)\n",
    "print(ve**2/RE)\n",
    "Tj=9*3600+55*60\n",
    "RJ=7.1e7\n",
    "MJ=1.9e27\n",
    "ME=5.982e24\n",
    "Gj=MJ*G/RJ**2- ((4*np.pi**2)*RJ)/(Tj**2)\n",
    "Ge=ME*G/RE**2 - (ve**2/RE)\n",
    "print(((4*np.pi**2)*RJ)/(Tj**2))\n",
    "print(Gj,Ge,Gj/Ge)\n"
   ]
  },
  {
   "cell_type": "code",
   "execution_count": 30,
   "id": "e338b09c",
   "metadata": {},
   "outputs": [
    {
     "data": {
      "text/plain": [
       "688.8000000000001"
      ]
     },
     "execution_count": 30,
     "metadata": {},
     "output_type": "execute_result"
    }
   ],
   "source": [
    "v=5 \n",
    "l=10\n",
    "g=9.8\n",
    "np.arccos(1-v**2/(2*l*g))*180/np.pi\n",
    "m=56\n",
    "T=m*g*(1-v**2/(2*l*g))\n",
    "Tmax=m*(g+v**2/l)\n",
    "Tmax"
   ]
  },
  {
   "cell_type": "code",
   "execution_count": null,
   "id": "d79d808a",
   "metadata": {},
   "outputs": [],
   "source": [
    "T="
   ]
  }
 ],
 "metadata": {
  "kernelspec": {
   "display_name": "Python 3 (ipykernel)",
   "language": "python",
   "name": "python3"
  },
  "language_info": {
   "codemirror_mode": {
    "name": "ipython",
    "version": 3
   },
   "file_extension": ".py",
   "mimetype": "text/x-python",
   "name": "python",
   "nbconvert_exporter": "python",
   "pygments_lexer": "ipython3",
   "version": "3.9.10"
  }
 },
 "nbformat": 4,
 "nbformat_minor": 5
}
