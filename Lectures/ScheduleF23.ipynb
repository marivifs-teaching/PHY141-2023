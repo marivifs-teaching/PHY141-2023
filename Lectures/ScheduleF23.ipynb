{
 "cells": [
  {
   "cell_type": "markdown",
   "id": "38f547ac",
   "metadata": {},
   "source": [
    "|Lecture | Topic | Date|\n",
    "|---|---|---|\n",
    "|Lecture 1| - Introduction, Units, Measurement and Error| Aug 28|\n",
    "|Lecture 2| - One Dimensional Kinematics| Aug 30|\n",
    "|Lecture 3| - 2 and 3 dimensional Kinematics| Sep 1|\n",
    "|Lecture 4| - Solving Kinematics Problems| Sep 6|\n",
    "|Lecture 5| - Newton's Laws of Motion| Sep 8|\n",
    "|Lecture 6| - Applications of Newton's Laws of Motion| Sep 11|\n",
    "|Lecture 7| - Friction, Drag and Terminal Velocity| Sep 13|\n",
    "|Lecture 8| - Circular Motion I| Sep 15|\n",
    "|Lecture 9| - Circular Motion II| Sep 18|\n",
    "|Lecture 10| - Gravitation| Sep 20|\n",
    "|Lecture 11| - Orbits| Sep 22|\n",
    "|Lecture 12| - Work and Energy | Sep 25 |\n",
    "|Lecture 13| - Conservation of Energy| Sep 27 |\n",
    "|Lecture 13b| - Gravitational Potential Energy and Power I| Sep 29|\n",
    "| Midterm I Review|   | Oct 2|\n",
    "| Midterm I Review|   | Oct 4|\n",
    "| Mt1 Exam | | Oct 6|\n",
    "|Fall Break| -  | Oct 9|\n",
    "|Lecture 14| - Linear Momentum and one dimensional collisions| Oct 11|\n",
    "|Lecture 15| - Linear Momentum in more than one dimension| Oct 13|\n",
    "|Lecture 16| - Rotational Kinematics| Oct 16|\n",
    "|Lecture 17| - Rotational Dynamics| Oct 18|\n",
    "|Lecture 18| - Angular Momentum| Oct 20|\n",
    "|Lecture 19| - Advanced Rotational Motion |Oct 23|\n",
    "|Lecture 20| - Static Equilibrium| Oct 25|\n",
    "|Lecture 21| - Some Physics of Materials| Oct 27|\n",
    "| Midterm II Review|   | Oct 30|\n",
    "| Midterm II Review|   | Nov 1|\n",
    "|Midterm II|  |  Nov 3|\n",
    "|Lecture 22| - Static Fluids| Nov 6|\n",
    "|Lecture 23| - Fluids in Motion| Nov 8 |\n",
    "|Lecture 24| - Simple Harmonic Motion| Nov 10|\n",
    "|Lecture 25| - Not So Simple Harmonic Motion| Nov 13|\n",
    "|Lecture 26| - Waves| Nov 15|\n",
    "|Lecture 27| - Wave Effects | Nov 17|\n",
    "|Lecture 28| - Sound| Nov 20|\n",
    "|Lecture 29| - Sound Effects| Nov 27|\n",
    "|Lecture 30| - Temperature and Ideal Gas Laws| Nov 29|\n",
    "|Lecture 31| - Heat| Dec 1|\n",
    "|Lecture 32| - First Law of Thermodynamics | Dec 4|\n",
    "|Lecture 33| - Second Law of Thermodynamics| Dec 6|\n",
    "|Lecture 34| - Entropy| Dec 8|\n",
    "|Final Review  | | Dec 11|\n",
    "|Final Review Virtual Sessions | | TBD|\n",
    "|Final Exam |  | Dec 13, 11:15am-13:45|"
   ]
  },
  {
   "cell_type": "markdown",
   "id": "ad86540e",
   "metadata": {},
   "source": [
    "### Project Ideas\n",
    "\n",
    "* COM of human body (or something else!)\n",
    "* Projectile motion and influence of Drag forces\n",
    "* Fluids \n",
    "* Sound\n",
    "* Conservation of Angular momentum: Gyroscope with a wheel\n",
    "* Rocket\n",
    "* Equilibrium: Build a Simple Bridge?\n",
    "* Atwood Machine and Pulleys\n",
    "* Billiards"
   ]
  },
  {
   "cell_type": "code",
   "execution_count": null,
   "id": "ee83069c",
   "metadata": {},
   "outputs": [],
   "source": []
  },
  {
   "cell_type": "code",
   "execution_count": null,
   "id": "e779398d",
   "metadata": {},
   "outputs": [],
   "source": []
  }
 ],
 "metadata": {
  "kernelspec": {
   "display_name": "Python 3 (ipykernel)",
   "language": "python",
   "name": "python3"
  },
  "language_info": {
   "codemirror_mode": {
    "name": "ipython",
    "version": 3
   },
   "file_extension": ".py",
   "mimetype": "text/x-python",
   "name": "python",
   "nbconvert_exporter": "python",
   "pygments_lexer": "ipython3",
   "version": "3.9.10"
  }
 },
 "nbformat": 4,
 "nbformat_minor": 5
}
