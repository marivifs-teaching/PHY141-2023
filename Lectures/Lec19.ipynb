{
 "cells": [
  {
   "cell_type": "markdown",
   "id": "6b438810",
   "metadata": {},
   "source": [
    "# Advanced Rotational Motion"
   ]
  },
  {
   "cell_type": "markdown",
   "id": "e440f3b7",
   "metadata": {},
   "source": [
    "### Spinning Top\n",
    "\n",
    "![im.png](images/spinningtop.png)\n",
    "\n",
    "The same Physics that we used to understand the motion\n",
    "of a bike wheel applies to an spinning top and a gyroscope.\n",
    "\n",
    "The main equation we have to use is :\n",
    "\n",
    "$ \\sum\\vec{\\tau}_{ext}=\\frac{\\partial \\vec{L}}{dt}$\n"
   ]
  },
  {
   "cell_type": "markdown",
   "id": "53768e16",
   "metadata": {},
   "source": [
    "A perfectly symmetrical conical top of mass M is spinning with angular velocity $\\omega_s$ around its symmetry axis. It is balanced on its tip at point O in an inertial reference frame.\n",
    "\n",
    "The moment the axis makes an angle $\\phi$ with the vertical a precession motion will occur.\n",
    "\n",
    "This is due to the torque produced by the force of gravity on its center of mass.\n",
    "\n",
    "$\\tau = \\vec{r}\\times M\\vec{g}$\n",
    "\n",
    "This torque is always perpendicular to $\\vec{L}_s$ (because $\\vec{L}$ and $\\vec{r}$ are parallel). \n",
    "\n",
    "A simple way to understand the direction of rotation is that the **spin** angular momentum $\\vec{L}_s$ will follow the external torque $\\tau_p$ caussing the precession to occur. \n",
    "The angular velocity of precession $\\Omega_p$ can be computed if we know the external torque and the spin angular momentum.\n",
    "\n",
    "$d\\vec{L_s} = L_s sin(\\phi) d\\theta$ (see figure above)\n",
    "\n",
    "$\\omega_p\\equiv \\Omega = \\frac{d\\theta}{dt}$\n",
    "\n",
    "$\\Omega = \\frac{dL_s}{L_s sin(\\phi)dt}=\\frac{\\tau}{L_s sin(\\phi)}=\\frac{Mgr}{L_s}$\n",
    "\n",
    "$\\Omega = \\frac{Mgr}{I_s\\omega_s}$\n",
    "\n",
    "Lets explore what this involves in different experiments\n"
   ]
  },
  {
   "cell_type": "markdown",
   "id": "99c20977",
   "metadata": {},
   "source": [
    "### The gyroscope\n",
    "\n",
    "![im.png](images/gyroscope.png)\n",
    "\n",
    "As we saw with a spinning bike wheel it takes a large torque to reorient a large angular momentum vector. If a spinning object is mounted so that it is free to orient itself in any direction, as it is in a <a href=\"https://en.wikipedia.org/wiki/Gyroscope\" class=\"interwiki iw_wp\" title=\"https://en.wikipedia.org/wiki/Gyroscope\">gyroscope</a> then the direction of it' angular momentum is constant and this can be used a useful reference, for example in an airplane or boat.\n",
    "</p>\n",
    "\n",
    "<p>\n",
    "In a gyroscope the freedom for the spinning wheel to orient is achieved by its suspension in pivoted supports called <a href=\"https://en.wikipedia.org/wiki/Gimbal\" class=\"interwiki iw_wp\" title=\"https://en.wikipedia.org/wiki/Gimbal\">gimbals</a>.\n",
    "</p>\n"
   ]
  },
  {
   "cell_type": "markdown",
   "id": "a8113251",
   "metadata": {},
   "source": [
    "### Gyroscope precession\n",
    "\n",
    "If we apply a torque to a gyroscope by hanging a weight from it's axis an initially surprising effect is observed. Rather than falling we see the gyroscope begins to undergo  <a href=\"http://en.wikipedia.org/wiki/Precession\" class=\"urlextern\" title=\"http://en.wikipedia.org/wiki/Precession\">precession</a>, i.e the direction of the axis of rotation begins to change. This result can be understood by looking at the direction of the torque that is generated.  \n",
    "\n",
    "![im.png](images/gyroprecession.png)\n",
    "\n",
    "<p>\n",
    "$\\vec{\\tau}=\\vec{r}\\times m\\vec{g}$\n",
    "</p>\n",
    "\n",
    "<p>\n",
    "By inspection we can see that independent of the orientation of the gyroscopes axis the torque will always be directed parallel to the surface of the Earth and perpendicular to the initial angular momentum vector. This torque acts to change the direction, but not the magnitude of the angular momentum vector. We'll consider this problem in the mathematically easiest situation which is when the axis of rotation is horizontal (a more general derivation is in your textbook). We define an angle $\\theta$ to describe the orientation of the angular momentum vector in the horizontal plane, and then express the \n",
    "</p>\n",
    "\n",
    "<p>\n",
    "$dL=L\\,d\\theta$\n",
    "</p>\n",
    "\n",
    "<p>\n",
    "If we define the angular velocity of the precession as $\\Omega=\\frac{d\\theta}{dt}$ then\n",
    "</p>\n",
    "\n",
    "<p>\n",
    "$\\Omega=\\frac{1}{L}\\frac{dL}{dt}=\\frac{\\tau}{L}=\\frac{mgr}{L}$\n",
    "</p>\n"
   ]
  },
  {
   "cell_type": "markdown",
   "id": "b7b5e3dc",
   "metadata": {},
   "source": [
    "### Gyroscope Nutation\n",
    "\n",
    "\n",
    "![im.png](images/gyronutation.png)\n",
    "\n",
    "If the precession above seems just a little too “magical” to you then you have good instincts! In actual fact to be able to precess the axis of the gyroscope actually has to drop a little, as there is an angular momentum associated with the precession. Without this drop it is impossible for the gyroscope to precess! Indeed, the axis of the gyroscope will actually drop beyond the equilibirum position and will be pulled back up, again overshooting and executing an oscillatory motion around the mean position of the plane of precession that we call <a href=\"https://en.wikipedia.org/wiki/Nutation\" class=\"interwiki iw_wp\" title=\"https://en.wikipedia.org/wiki/Nutation\">nutation</a>.\n",
    "</p>\n",
    "\n",
    "<p>\n",
    "When the angular momentum of the gyroscope is high this drop is barely noticeable, because the angular velocity of precession, which is inversely proportional to $L$ ($\\Omega=\\frac{mgr}{L}$), is quite small. Nutation at high angular velocities is therefore a barely noticeable shaking of the axis of rotation. At lower angular momentum the nutation is much more obvious.\n",
    "</p>\n",
    "\n",
    "<p>\n",
    "In the absence of friction the path that the tip of angular momentum vector would draw out is a <a href=\"https://en.wikipedia.org/wiki/Cycloid\" class=\"interwiki iw_wp\" title=\"https://en.wikipedia.org/wiki/Cycloid\">cycloid</a> (upside down), though as the gimbal bearings have quite a bit of friction the nutation oscillations are relatively quick to damp down leaving the smooth precession we discussed initially.\n",
    "</p>\n",
    "\n"
   ]
  },
  {
   "cell_type": "markdown",
   "id": "82c9f0c8",
   "metadata": {},
   "source": [
    "### Rolling Revisited\n",
    "\n",
    "<p>\n",
    "We looked at rolling before in the absence of slipping and showed that the angular velocity of a wheel was $\\omega=\\frac{v}{r}$ where $v$ is the tangential velocity of the wheel and $r$ is it&#039;s radius. The total velocity of a point on the wheels radius was the sum of the tangential motion around the center of the wheel and the tangential velocity of the center of the wheel and is a cycloid.\n",
    "</p>\n",
    "\n",
    "<p>\n",
    "For an object to roll without slipping there is a frictional requirement; it is actually not possible for an object to roll on a frictionless surface, it would instead slide. Note that the point in contact with the ground during rolling is actually motionless, so the relevant coefficient of friction is the static coefficient of friction, whereas for sliding the kinetic coefficient of friction is relevant. There is no work done by the frictional force as it is directed perpendicular to the displacement (shown by the small black arrows in the diagram). This is important, as if the frictional force did work we could not have applied conservation of mechanical energy to the hoop and disk problem in Lecture 17.\n",
    "</p>\n",
    "\n",
    "![im.png](images/rollingforces.png)\n",
    "\n"
   ]
  },
  {
   "cell_type": "markdown",
   "id": "c400a17f",
   "metadata": {},
   "source": [
    "### Bowling a straight bowl\n",
    "\n",
    "A ball on a surface with friction that begins with velocity higher than the maximum possible rolling velocity will slow down until it reaches the rolling velocity determined by the surface it is on. If we a consider a bowling ball of mass $M$ and radius $R$ which typically starts with purely sliding motion the sum of the forces affecting the translation of the object are\n",
    "</p>\n",
    "\n",
    "<p>\n",
    "$Ma=-F_{fr}=-\\mu_{k}F_{N}=-\\mu_{k}Mg$\n",
    "</p>\n",
    "\n",
    "<p>\n",
    "The velocity of the center of mass is thus\n",
    "</p>\n",
    "\n",
    "<p>\n",
    "$v_{CM}=v_{0}+at=v_{0}-\\mu_{k}gt$\n",
    "</p>\n",
    "\n",
    "<p>\n",
    "At the same time as the translational velocity slows down the rotational velocity speeds up as the frictional force is exerting a torque and $I_{CM}\\alpha_{CM}=\\Sigma \\tau_{CM}$\n",
    "</p>\n",
    "\n",
    "<p>\n",
    "$\\frac{2}{5}MR^2\\alpha_{cm}=F_{fr}R=\\mu_{k}MgR$\n",
    "</p>\n",
    "\n",
    "<p>\n",
    "and $\\alpha_{CM}=\\frac{5\\mu_{k}g}{2R}$\n",
    "</p>\n",
    "\n",
    "<p>\n",
    "The angular velocity of the ball is thus \n",
    "</p>\n",
    "\n",
    "<p>\n",
    "$\\omega_{CM}=\\frac{5\\mu_{k}g}{2R}t$\n",
    "</p>\n",
    "\n",
    "<p>\n",
    "At some time $t_{R}$ the angular velocity reaches the rolling condition $\\omega_{CM}=\\frac{v_{CM}}{R}$\n",
    "</p>\n",
    "\n",
    "<p>\n",
    "$v_{0}-\\mu_{k}gt_{R}=\\frac{5\\mu_{k}g}{2R}Rt_{R}$ → $t_{R}=\\frac{2v_{0}}{7\\mu_{k}g}$\n",
    "</p>\n",
    "\n",
    "<p>\n",
    "and after this the ball will then continue rolling with constant velocity\n",
    "</p>\n"
   ]
  },
  {
   "cell_type": "markdown",
   "id": "76756890",
   "metadata": {},
   "source": [
    "### Rolling with spin\n",
    "\n",
    "<p>\n",
    "<a href=\"/~mdawber/_detail/phy141:lectures:bowlinghook.png?id=phy141%3Alectures%3A19\" class=\"media\" title=\"phy141:lectures:bowlinghook.png\"><img src=\"/~mdawber/_media/phy141:lectures:bowlinghook.png\" class=\"media\" alt=\"\" /></a>\n",
    "</p>\n",
    "\n",
    "<p>\n",
    "Suppose in the previous example we had applied spin to the ball, so that it was rotating around the vertical axis. During the sliding phase this will have little effect on the ball, it will simply be spinning around it's axis while sliding forwards.\n",
    "</p>\n",
    "\n",
    "<p>\n",
    "However, as it begins to roll it will begin to develop a component of angular momentum directed towards the right (note, there is a torque applied, so total angular momentum is not conserved). In the absence of spin this would have no effect, but when there is spin it means that the angular momentum vector points at an angle between the vertical and the horizontal and the ball begins to precess around an increasing ring instead of a point contact, causing the ball to hook towards the end of the alley.\n",
    "</p>\n",
    "\n",
    "<p>\n",
    "This is a highly simplified explanation of the hook in ten pin bowling. In reality the internal weight distribution of the ball, it's coefficient of friction (resin vs. plastic) and the amount of oil on the alley (more at the start, less at the end) are typically arranged to allow for easier hooking. For a more complete explanation of the physics see <a href=\"http://www.real-world-physics-problems.com/physics-of-bowling.html\" class=\"urlextern\" title=\"http://www.real-world-physics-problems.com/physics-of-bowling.html\">this page</a> and <a href=\"http://www.wikihow.com/Hook-a-Bowling-Ball\" class=\"urlextern\" title=\"http://www.wikihow.com/Hook-a-Bowling-Ball\">this page</a> for a practical guide .\n",
    "</p>\n",
    "\n"
   ]
  },
  {
   "cell_type": "markdown",
   "id": "394eed22",
   "metadata": {},
   "source": [
    "### Rotating reference frames\n",
    "\n",
    "\n",
    "Newton's first law, the idea that an object has inertia and will only deviate from a path of straight line motion when a force is applied, is valid in <strong>inertial reference frames</strong>, which are frames which are not accelerating. Bear in mind that acceleration can mean change of direction as well as magnitude of velocity, so a rotating reference frame is <strong>not</strong> an inertial frame.\n",
    "\n",
    "An example from <a href=\"http://www.animations.physics.unsw.edu.au/jw/Newton.htm\" class=\"urlextern\" title=\"http://www.animations.physics.unsw.edu.au/jw/Newton.htm\">Physclips</a>.\n",
    "\n",
    "In the example with the merry go round and the ball, one way we could understand the motion of the ball in the rotating reference frame by inventing a fictitious sideways force on the ball. Such a force is dubbed the <a href=\"https://en.wikipedia.org/wiki/Coriolis_effect\" class=\"interwiki iw_wp\" title=\"https://en.wikipedia.org/wiki/Coriolis_effect\">Coriolis Force</a> and is described by the vector.\n",
    "\n",
    "$\\vec{a}_{Cor}=-\\vec{\\omega}\\times\\vec{v}$\n",
    "\n",
    "$\\vec{v}$ is the velocity of the object in the rotating reference frame and $\\vec{\\omega}$ is directed along the direction of the rotation axis.\n"
   ]
  },
  {
   "cell_type": "markdown",
   "id": "d1879a80",
   "metadata": {},
   "source": [
    "### Foucault Pendulum\n",
    "\n",
    "![im.png](images/foucaultpendulum.jpeg)\n",
    "\n",
    "In fact, although we usually treat it as one, the Earth is not an inertial reference frame, as it is rotating. The effect of the Earth&#039;s rotation on a moving object over time can be measured using a <a href=\"http://www.animations.physics.unsw.edu.au/jw/foucault_pendulum.html\" class=\"urlextern\" title=\"http://www.animations.physics.unsw.edu.au/jw/foucault_pendulum.html\">Foucalt Pendulum</a>\n",
    "</p>\n",
    "\n",
    "<p>\n",
    "The motion of the Foucault pendulum is most easily understood by considering it at one of the poles. For the North pole we can consider a <a href=\"http://upload.wikimedia.org/wikipedia/commons/6/65/Foucault_pendulum_at_north_pole_accurate.PNG\" class=\"urlextern\" title=\"http://upload.wikimedia.org/wikipedia/commons/6/65/Foucault_pendulum_at_north_pole_accurate.PNG\">hypothetical picture</a>, for the South, one has actually been <a href=\"https://www.southpolestation.com/trivia/00s/southpolefoucault.html\" class=\"urlextern\" title=\"https://www.southpolestation.com/trivia/00s/southpolefoucault.html\">built there</a>. (Here is a link to another <a href=\"http://icecube.wisc.edu/\" class=\"urlextern\" title=\"http://icecube.wisc.edu/\">experiment at the South Pole</a>, to detect Neturinos, which Stony Brook professor Joanna Kiryluk is involved in.) \n",
    "</p>\n",
    "\n",
    "<p>\n",
    "We can reason that at the poles it will take one day exactly for the pendulum plane to rotate back to its starting point, which is in fact the case.\n",
    "</p>\n",
    "\n",
    "<p>\n",
    "At other latitudes the rotation period is given by $T=\\frac{24\\,\\mathrm{hrs}}{\\sin\\phi}$ where $\\phi$ is the latitude. At the equator the effect will not be observed (the rotation period goes to infinity.) In New York (latitude $40.74^{o}$) we can expect the period to be $36.77\\,\\mathrm{hrs}$. \n",
    "</p>\n",
    "\n",
    "<p>\n",
    "In principle we should see the same effect with a gyroscope, though in practice friction of the gimbals can interfere with this. \n",
    "</p>\n"
   ]
  },
  {
   "cell_type": "markdown",
   "id": "fe5b2a22",
   "metadata": {},
   "source": [
    "### Coriolis Effect\n",
    "\n",
    "\n",
    "Having seen that the earth is a rotating non-inertial reference frame, are there any substantial consequences? In every day experience, we can approximate the Earth as an inertial reference frame, but the fact that it isn't has some consequences that have a substantial effect on the way the world works.\n",
    "\n",
    "The Wikipedia article on the <a href=\"https://en.wikipedia.org/wiki/Coriolis_effect\" class=\"interwiki iw_wp\" title=\"https://en.wikipedia.org/wiki/Coriolis_effect\">Coriolis effect</a> explains nicely how the Coriolis effect applies to points on the Earth's surface. A summary of this is that in the Northern Hemisphere the Coriolis force is directed to the right of the velocity and in the Southern Hemisphere it is directed to the left.\n",
    "\n",
    "The Coriolis effect determines the <a href=\"http://upload.wikimedia.org/wikipedia/commons/f/fe/Coriolis_effect10.svg\" class=\"urlextern\" title=\"http://upload.wikimedia.org/wikipedia/commons/f/fe/Coriolis_effect10.svg\">direction of storm rotations</a>. Air flows towards a low pressure center, but is deflected by the Coriolis effect as it does so, producing anticlockwise cyclones in the Northern Hemisphere, and clockwise cyclones in the Southern  hemisphere.\n",
    "\n",
    "For ocean currents where the direction of rotation is determined only by the Coriolis effect (resulting in so called <a href=\"http://upload.wikimedia.org/wikipedia/commons/6/69/Coriolis_effect14.png\" class=\"urlextern\" title=\"http://upload.wikimedia.org/wikipedia/commons/6/69/Coriolis_effect14.png\">inertial circles</a>) the direction of rotation is actually opposite, currents flow clockwise in the Northern Hemisphere and counterclockwise in the Southern Hemisphere (see the currents <a href=\"http://upload.wikimedia.org/wikipedia/commons/0/06/Corrientes-oceanicas.gif\" class=\"urlextern\" title=\"http://upload.wikimedia.org/wikipedia/commons/0/06/Corrientes-oceanicas.gif\">here</a>).\n",
    "</p>\n",
    "\n",
    "\n"
   ]
  },
  {
   "cell_type": "markdown",
   "id": "1452a6f2",
   "metadata": {},
   "source": [
    "### Plugholes\n",
    "The Coriolis effect had virtually nothing to do with the direction that water turns as it flows down a plughole, which a reasonable inspection will show you can go in either direction in either hemisphere. The Coriolis force is a very weak force and only has a large impact on a large or long scale. Any asymmetry in your sink, even if very slight, will determine the direction of rotation around the plughole and completely dominate the Coriolis effect.\n"
   ]
  },
  {
   "cell_type": "code",
   "execution_count": null,
   "id": "f9ef2e79",
   "metadata": {},
   "outputs": [],
   "source": []
  }
 ],
 "metadata": {
  "kernelspec": {
   "display_name": "Python 3 (ipykernel)",
   "language": "python",
   "name": "python3"
  },
  "language_info": {
   "codemirror_mode": {
    "name": "ipython",
    "version": 3
   },
   "file_extension": ".py",
   "mimetype": "text/x-python",
   "name": "python",
   "nbconvert_exporter": "python",
   "pygments_lexer": "ipython3",
   "version": "3.9.10"
  }
 },
 "nbformat": 4,
 "nbformat_minor": 5
}
