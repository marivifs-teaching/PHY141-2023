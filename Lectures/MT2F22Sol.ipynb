{
 "cells": [
  {
   "cell_type": "markdown",
   "id": "30ed014c",
   "metadata": {},
   "source": [
    "### Problem 1\n",
    "\n",
    "* a) (5 points) The Moon orbits the Earth once every 27 days, 7 hours and 43 minutes. Calculate its orbital angular velocity.\n",
    "\n",
    "T = 27d*24h/d*3600s/h+ 7h*3600 s/h +43 m* 60s/m = 2360580 s\n",
    "\n",
    "$\\omega = 2\\pi/T$ = 2.7 *10 $^{-6}$ rad/s"
   ]
  },
  {
   "cell_type": "markdown",
   "id": "9d7b8514",
   "metadata": {},
   "source": [
    "* b) (10 points) Calculate the moon's orbital moment of inertia, first exactly, i.e. without approximations and second assuming it is a particle orbiting the earth. What is the error you make with this approximation? (Hint: write the error as a percentage with respect to the exact value\n",
    "    * Exactly: \n",
    "    $I=2/5MR_m^2 + M R_o^2$ = 1.0848874540233663e+40 kg*m^2\n",
    "    $I_a =M R_o^2$ =  1.08487858912e+40kg*m^2\n",
    "    Error = 0.00082 $\\%$"
   ]
  },
  {
   "cell_type": "markdown",
   "id": "a6a579ab",
   "metadata": {},
   "source": [
    "* c) (10 points) The Moon orbits the Earth such that the same side always faces the Earth. Determine the ratio of the Moon’s spin angular momentum (about its own axis) to its orbital angular momentum. \n",
    "\n",
    "The same face of the moon being exposed means that the moon spin has the same angular velocity as its orbit. So the angular momentum $L_{o} = I_ow$ and for spin $L_s=I_s*w$ and the ratio is 8.2e-6\n"
   ]
  },
  {
   "cell_type": "code",
   "execution_count": 13,
   "id": "1a9edc90",
   "metadata": {},
   "outputs": [
    {
     "name": "stdout",
     "output_type": "stream",
     "text": [
      "2.6617125059009167e-06\n"
     ]
    }
   ],
   "source": [
    "import numpy as np\n",
    "#1a\n",
    "w=2*np.pi/(27*24*3600+7*3600+43*60)\n",
    "print(w)"
   ]
  },
  {
   "cell_type": "code",
   "execution_count": 14,
   "id": "5c2a58b0",
   "metadata": {},
   "outputs": [
    {
     "name": "stdout",
     "output_type": "stream",
     "text": [
      "1.0848874540233663e+40 1.08487858912e+40\n",
      "0.0008171265446450736\n"
     ]
    }
   ],
   "source": [
    "#1b\n",
    "\n",
    "rm = 1737.4e3\n",
    "ro = 384400e3\n",
    "m = 7.342e22\n",
    "Ie=m*((2/5)*rm**2 + ro**2)\n",
    "Ia=m*ro**2\n",
    "print(Ie,Ia)\n",
    "print((Ie-Ia)*100/Ie)\n"
   ]
  },
  {
   "cell_type": "code",
   "execution_count": 15,
   "id": "5b8fff45",
   "metadata": {},
   "outputs": [
    {
     "name": "stdout",
     "output_type": "stream",
     "text": [
      "8.171332216592801e-06\n"
     ]
    }
   ],
   "source": [
    "#1c\n",
    "\n",
    "Is = m*(2/5)*rm**2\n",
    "Lo = Ia*w\n",
    "Ls= Is*w\n",
    "print(Ls/Lo)"
   ]
  },
  {
   "cell_type": "markdown",
   "id": "8f0f89e1",
   "metadata": {},
   "source": [
    "### Question 2\n",
    "\n",
    "I would like to use a fake skeleton arm in an overly elaborate and unnecessarily dangerous Halloween trick. The fake skeleton arm has mass 2kg and length 38cm. The wrist is rigid and the hand is not free to rotate around the wrist. The wrist is 30cm from the hinge. I have attached one end of the arm to a hinge and placed the arm over a toy gun which will be fired when someone puts their foot on a nearby switch.\n",
    "\n",
    "* (a) If we approximate the arm as uniform rod what is it's  moment of inertia for rotation around the hinge?\n",
    "\n",
    "    * $\\frac{1}{3}Ml^{2}=\\frac{1}{3}2\\times0.38^{2}=0.096\\mathrm{kgm^{2}}$\n",
    "\n",
    "* (b)  What would be the change in gravitational potential energy of the arm in going from the horizontal position it starts in to a vertical position. (Hint: First find the position of the center of mass of the arm).\n",
    "\n",
    "    * $mgh_{CM}=2\\times9.8\\times0.19=3.724\\mathrm{J}$\n",
    "\n",
    "* (c)  After the bullet is fired it makes a **perfectly inelastic** collision with the wrist of the arm. The arm (with the bullet in it) then rises up and comes to rest in the vertical position. What must the total kinetic energy of the arm and bullet be  immediately after the collision for this to occur?\n",
    "\n",
    "    * Previous potential energy gain plus potential energy needed to raise bullet by $30\\mathrm{cm}$ ($0.02\\times g\\times0.3=0.0588\\mathrm{J}$), which is $3.783 \\mathrm{J}$.\n",
    "</p>\n",
    "\n",
    "\n",
    "* (d)  What is the moment of inertia of the bullet for rotation around the hinge just before the bullet strikes the wrist?\n",
    "\n",
    "    *  $I_{B}=0.02\\times0.3^{2}=0.0018\\mathrm{kgm^{2}}$\n",
    "\n",
    "* (e)  If the mass of the bullet fired is 20g what must it's velocity be just before it hits the wrist.\n",
    "\n",
    "    * Conservation of angular momentum for collision\n",
    "\n",
    "    $0.0018\\omega=(0.096+0.0018)\\omega'$\n",
    "\n",
    "    * Conservation of mechanical energy for upswing of arm\n",
    "\n",
    "    $\\frac{1}{2}(0.096+0.0018)\\omega^{'2}=3.783$\n",
    "\n",
    "    $\\omega'=8.8 \\mathrm{rad/s}$\n",
    "\n",
    "    $\\omega=\\frac{0.096+0.0018}{0.0018}8.8$\n",
    "\n",
    "    $\\omega=478 \\mathrm{rad/s}$\n",
    "\n",
    "    $v=\\omega r=478\\times0.3=143.4 \\mathrm{ms^{-1}}$\n"
   ]
  },
  {
   "cell_type": "markdown",
   "id": "56f1f0f3",
   "metadata": {},
   "source": [
    "### Problem 3\n",
    "\n",
    "A pumpkin starts rolling down without slipping from the top of a ladder as shown in the picture. **The mass of the uniform ladder is 12.0 kg, and the mass of the (very heavy) pumpkin is 55.0 kg**.\n",
    "\n",
    "* a) (5 points) We can approximate a non-hollowed-out pumpkin of mass m as a uniform sphere of radius R which accounts for two thirds of the mass of the pumpkin and a thin spherical shell, also of radius R, which accounts for the other third of the mass of the pumpkin. **Write an expression for the moment of inertia of the pumpkin in terms of m and R**.\n",
    "\n",
    "$I=\\frac{2}{5}\\frac{2}{3}MR^2+\\frac{2}{3}\\frac{1}{3}MR^2=\\frac{22}{45}MR^2$\n",
    "\n",
    "* b) (5 points) **What is the direction of the angular momentum vector of the pumpkin while it is rolling down the ladder** (assume the ladder surface is like an incline plane, i.e. flat)? (ie. up, down, left, right, in to the page, out of the page, down the ladder, up the ladder, etc..)\n",
    "\n",
    "Out of the page\n",
    "\n",
    "* c) (10 points) The ladder begins to slip at its base when the pumpkin is 30$\\%$ of the way down the length of the ladder. Using conservation of energy, **calculate the magnitude of the pumpkin's center of mass' velocity when the ladder starts to slip**. For this question, assume the pumpkin is a solid sphere.\n",
    "\n",
    "The pumpkin rolls a down 30$\\%$ of the height, that is 1.2 m. Call this h.\n",
    "\n",
    "$mgh=\\frac{1}{2}mv^2+\\frac{2}{5}\\frac{1}{2}MR^2/R^2v^2 \\rightarrow v=\\sqrt{\\frac{gh10}{7}}=4.1m/s$\n",
    "\n",
    "* d) (10 points) **What is the acceleration of the center of mass of the pumpkin while it rolls down the ladder?** For this question, assume the pumpkin is a solid sphere. Note that you do not need to know the coefficient of static friction between the pumpkin and the ladder's surface to answer this question. \n",
    "\n",
    "Using the balance of the forces we have: $mgsin(\\theta)-F_{fr} =ma$\n",
    "Also from rolling without slipping we have: $F_{fr}=2/5ma$ \n",
    "\n",
    "So $a =5/6 gsin(\\theta)=5.6 m/s^2$\n",
    "\n",
    "* e) (10 points) Assume the vertical wall is frictionless. **What is the coefficient of static friction between the ladder and the floor?** (Note that you do not need to consider any rolling motion to answer this question, the rolling motion does not play a role on the slipping of the ladder, just the  weight and position of the pumpkin).\n",
    "\n",
    "\n",
    "Torque equation: $l/2m_lg cos(\\theta)+m_p(l-d)gcos(\\theta)=F_wlsin(\\theta)$\n",
    "\n",
    "Force equations:\n",
    "\n",
    "$F_{hy}=m_lg+m_pg$\n",
    "       \n",
    "$F_{hx}= \\mu N=F_w$\n",
    "       \n",
    "$\\mu = \\frac{F_w}{F_{hy}}=\\frac{(m_ll/2+m_p(l-d))ctg(\\theta)}{l(m_l+m_p)}=0.49 $"
   ]
  },
  {
   "cell_type": "code",
   "execution_count": null,
   "id": "0afa8fb2",
   "metadata": {},
   "outputs": [],
   "source": []
  },
  {
   "cell_type": "code",
   "execution_count": 21,
   "id": "512ffa87",
   "metadata": {},
   "outputs": [
    {
     "data": {
      "text/plain": [
       "0.498134328358209"
      ]
     },
     "execution_count": 21,
     "metadata": {},
     "output_type": "execute_result"
    }
   ],
   "source": [
    "3*(12*2.5+55*3.5)/5/(12+55)/4"
   ]
  },
  {
   "cell_type": "code",
   "execution_count": 17,
   "id": "0d2a5f10",
   "metadata": {},
   "outputs": [
    {
     "data": {
      "text/plain": [
       "4.09878030638384"
      ]
     },
     "execution_count": 17,
     "metadata": {},
     "output_type": "execute_result"
    }
   ],
   "source": [
    "np.sqrt(9.8*12/7)"
   ]
  },
  {
   "cell_type": "code",
   "execution_count": null,
   "id": "474f9ed0",
   "metadata": {},
   "outputs": [],
   "source": []
  }
 ],
 "metadata": {
  "kernelspec": {
   "display_name": "Python 3 (ipykernel)",
   "language": "python",
   "name": "python3"
  },
  "language_info": {
   "codemirror_mode": {
    "name": "ipython",
    "version": 3
   },
   "file_extension": ".py",
   "mimetype": "text/x-python",
   "name": "python",
   "nbconvert_exporter": "python",
   "pygments_lexer": "ipython3",
   "version": "3.9.10"
  }
 },
 "nbformat": 4,
 "nbformat_minor": 5
}
