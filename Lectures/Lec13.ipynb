{
 "cells": [
  {
   "cell_type": "markdown",
   "id": "91bb9bef",
   "metadata": {
    "slideshow": {
     "slide_type": "slide"
    }
   },
   "source": [
    "# Gravitational Energy and Power"
   ]
  },
  {
   "cell_type": "markdown",
   "id": "b1f7744f",
   "metadata": {
    "slideshow": {
     "slide_type": "slide"
    }
   },
   "source": [
    "### Total Energy Conservation\n",
    "\n",
    "Non conservative forces remove mechanical energy from the system, but it is not destroyed, it is simply converted to a different form of energy (frequently, but not always, heat).\n",
    "\n",
    "The total energy conservation law can also be useful, for example when a frictional force $\\vec{F}_{fr}$ is acting and an object travels a distance $d$ while it goes from a height $h_{1}$ to $h_{2}$, changing it's velocity from $v_{1}$ to $v_{2}$, conservation of total energy tells us\n",
    "\n",
    "$\\frac{1}{2}mv_{1}^2+mgh_{1}=\\frac{1}{2}mv_{2}^2+mgh_{2}+F_{fr}d$\n"
   ]
  },
  {
   "cell_type": "markdown",
   "id": "491e8723",
   "metadata": {
    "slideshow": {
     "slide_type": "slide"
    }
   },
   "source": [
    "\n",
    "![image.png](images/snowbike.png)\n",
    "If the cyclist starts from rest then what is his velocity at the bottom of the hill?\n",
    "\n",
    "How far will he travel down the road before coming to a stop?\n"
   ]
  },
  {
   "cell_type": "markdown",
   "id": "092c7cdb",
   "metadata": {
    "slideshow": {
     "slide_type": "slide"
    }
   },
   "source": [
    "### Gravitational Potential Energy Over Long distances\n",
    "\n",
    "As we saw previously the force due to gravity on an object of mass $m$  due to an object of mass $M$ at distance $r$ is $-\\frac{GmM}{r^2}\\hat{r}$\n",
    "\n",
    "If we raise an object from the surface of a planet to a distance $h$ above it the change on potential energy is\n",
    "\n",
    "$\\Delta U = \\int_{R_{E}}^{R_{E}+h}\\frac{GmM}{r^2}\\,dr=-\\frac{GmM}{R_{E}+h}+\\frac{GmM}{R_{E}}$\n",
    "\n",
    "We should consider where a suitable zero of potential energy is\n",
    "\n",
    "Choosing $r=\\infty$ as our reference position, i.e. where U=0. Then if the force is attractive then the potential energy change in bringing an object from infinity to a position $r$\n",
    "\n",
    "$\\Delta U = \\int_{\\infty}^{R}\\frac{GmM}{r^2}\\,dr=-\\frac{GmM}{R}$\n",
    "\n",
    "is the same as the potential energy, so generally we say the gravitational potential energy at point $r$ from the center of a mass $M$.\n",
    "\n",
    "$U = -\\frac{GmM}{r}$\n"
   ]
  },
  {
   "cell_type": "markdown",
   "id": "ebb4ca3d",
   "metadata": {
    "slideshow": {
     "slide_type": "slide"
    }
   },
   "source": [
    "### Escape velocity using potential energy\n",
    "\n",
    "$\\frac{dv}{dt}=\\frac{-GM_{E}}{(R_{E}+x)^{2}}$\n",
    "\n",
    "$\\frac{dv}{dx}\\frac{dx}{dt}=v\\frac{dv}{dx}=\\frac{-GM_{E}}{(R_{E}+x)^{2}}$\n",
    "\n",
    "$\\int^{v}_{v_{0}}v\\,dv=\\int^{x}_{0}\\frac{-GM_{E}}{(R_{E}+x)^{2}}\\,dx$\n",
    "\n",
    "$\\frac{1}{2}(v^{2}-v_{0}^2)=\\frac{GM_{E}}{R_{E}+x}-\\frac{GM_{E}}{R_{E}}$\n",
    "\n",
    "$v^{2}=v_{0}^2+2(\\frac{GM_{E}}{R_{E}+x}-\\frac{GM_{E}}{R_{E}})$\n",
    "\n",
    "as $x\\to\\infty$ the object will escape if\n",
    "\n",
    "$0\\geq v_{0}^{2}-\\frac{2GM_{E}}{R_{E}}$\n",
    "\n",
    "For the object to escape \n",
    "\n",
    "$v_{0}\\geq \\sqrt{\\frac{2GM_{E}}{R_{E}}}$\n",
    "\n"
   ]
  },
  {
   "cell_type": "markdown",
   "id": "724560ef",
   "metadata": {
    "slideshow": {
     "slide_type": "slide"
    }
   },
   "source": [
    "### Power\n",
    "\n",
    "Power is defined as the rate at which work is done.\n",
    "\n",
    "Average power is given by\n",
    "\n",
    "$\\bar{P}=\\frac{W}{t}$\n",
    "\n",
    "Instantaneous power is given by \n",
    "\n",
    "$P=\\frac{dW}{dt}$\n",
    "\n",
    "Recall that $dW=\\vec{F}\\cdot d\\vec{l}$, which means that \n",
    "\n",
    "$P=\\frac{dW}{dt}=\\vec{F}\\cdot \\frac{d\\vec{l}}{dt}=\\vec{F}\\cdot\\vec{v}$\n",
    "\n",
    "Units of Power are J/s or W (Watts).\n"
   ]
  },
  {
   "cell_type": "markdown",
   "id": "28a63dd8",
   "metadata": {
    "slideshow": {
     "slide_type": "slide"
    }
   },
   "source": [
    "### Power to drive up a slope\n",
    "![image.png](images/carupplanepower.png)\n",
    "\n",
    "\n",
    "How much power is required from the engine to drive a car up a plane (with friction) at a constant velocity?\n",
    "\n",
    "We can assume the the applied force from the engine is directed up the plane. It needs to be equal and opposite to the forces down the plane.\n",
    "\n",
    "$F_{A}=mg \\sin\\theta + \\mu mg \\cos \\theta$\n",
    "\n",
    "$P=(mg \\sin\\theta + \\mu mg \\cos \\theta)v$"
   ]
  },
  {
   "cell_type": "markdown",
   "id": "8ef34bc3",
   "metadata": {
    "slideshow": {
     "slide_type": "slide"
    }
   },
   "source": [
    "### Bicycles\n",
    "![image.png](images/bikegears.png)\n",
    "The amount of power required to do a certain amount of work in a certain amount of time is not adjustable. However a bicycle allows you to adjust the manner in which you produce the power. Our legs are not very good at moving at very high speed, because it is difficult for us to move them more than a certain number of times per minute and the stride length is obviously limited.\n",
    "\n",
    "Suppose the net force opposing your motion is $F_{opp}$. To move the wheel of a bike at a velocity $v_{w}$ you need to produce an amount of power $F_{opp}v_{W}$, this will be the same as the amount of power on the pedals $F_{P}v_{P}$.\n",
    "\n",
    "$F_{P}v_{P}=F_{opp}v_{W}$\n",
    "\n",
    "But because the pedals have a smaller radius than the wheel we can move them at a slower velocity with a larger force. The use of adjustable freewheels and chainwheels allow the rider to adjust the force and the velocity of their feet to suit their biomechanics.\n",
    "\n",
    "$F_{P}=F_{opp}\\frac{v_{W}}{v_{P}}=F_{opp}\\frac{r_{W}}{r_{FW}}\\frac{r_{CW}}{r_{P}}$\n",
    "\n",
    "Of course as you reduce the force using gears you also reduce the velocity of the wheel by the same factor, if you don't want to do this you need to increase either the force with which you push of the speed at which you turn the pedals.\n"
   ]
  },
  {
   "cell_type": "code",
   "execution_count": null,
   "id": "7f6df24d",
   "metadata": {},
   "outputs": [],
   "source": []
  }
 ],
 "metadata": {
  "celltoolbar": "Slideshow",
  "kernelspec": {
   "display_name": "Python 3 (ipykernel)",
   "language": "python",
   "name": "python3"
  },
  "language_info": {
   "codemirror_mode": {
    "name": "ipython",
    "version": 3
   },
   "file_extension": ".py",
   "mimetype": "text/x-python",
   "name": "python",
   "nbconvert_exporter": "python",
   "pygments_lexer": "ipython3",
   "version": "3.9.10"
  }
 },
 "nbformat": 4,
 "nbformat_minor": 5
}
