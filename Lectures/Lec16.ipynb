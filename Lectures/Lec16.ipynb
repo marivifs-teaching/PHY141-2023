{
 "cells": [
  {
   "cell_type": "markdown",
   "id": "a1a37500",
   "metadata": {},
   "source": [
    "# Lecture 16 - Rotational Kinematics\n",
    "\n",
    "So far most of our moving objects have been sliding. In the translational motion of a sliding object all points maintain a constant displacement from the center of mass of the object. But what about a point on a rolling object?\n",
    "\n",
    "![image.gif](images/Cycloid_f.gif)\n",
    "\n",
    "In our previous lecture we advanced the idea that we could treat the motion of an extended object, or set of objects, as the translational motion of the center of mass and rotation around that center of mass. In this lecture we will develop the set of kinematic equations we need to describe the rotational motion."
   ]
  },
  {
   "cell_type": "markdown",
   "id": "d63aff23",
   "metadata": {},
   "source": [
    "### Center of Mass\n",
    "\n",
    "\n",
    "Before we move to consider rotation around it let us spend a little more time with the concept of center of mass. \n",
    "\n",
    "For point like objects at given displacement the center of mass vector is\n",
    "\n",
    "$\\vec{r}_{CM}=\\frac{\\Sigma_{i}m_{i}\\vec{r_{i}}}{M}$\n",
    "\n",
    "For solid objects it is more useful to consider the center of mass in integral form.\n",
    "\n",
    "$\\vec{r}_{CM}=\\frac{1}{M}\\int \\vec{r}\\,dm$\n",
    "\n",
    "which we should recall is the same as having a set of equations for each of the components, ie.\n",
    "\n",
    "$x_{CM}=\\frac{1}{M}\\int x\\,dm$ , $y_{CM}=\\frac{1}{M}\\int y\\,dm$ , $z_{CM}=\\frac{1}{M}\\int z\\,dm$\n",
    "\n"
   ]
  },
  {
   "cell_type": "markdown",
   "id": "5d010d88",
   "metadata": {},
   "source": [
    "### Mass density\n",
    "\n",
    "\n",
    "For object's of uniform density we can express the mass element over which we integrate as a spatial element which in 3 dimensions is $dm=\\rho\\, dV$, in 2 dimensions is $dm=\\rho_{A}\\, dA$ in one dimension is $dm=\\lambda\\,dx$, where $\\rho$, $\\rho_{A}$ and $\\lambda$ are the density, areal density or linear density of the object we consider.\n",
    "\n",
    "In cases where we know the total mass and total size (either volume, area or length) of an object the density can be found by dividing the total mass by the total size.\n"
   ]
  },
  {
   "cell_type": "markdown",
   "id": "d1c8c9cc",
   "metadata": {},
   "source": [
    "### A uniform rod\n",
    "\n",
    "\n",
    "We can consider a uniform rod to be a one dimensional object.\n",
    "\n",
    "![image.png](images/comrod.png)\n",
    "\n",
    "\n",
    "If we want to find the COM we could place the origin of our coordinate system at the center of the rod and then\n",
    "\n",
    "$\\vec{r}_{CM}=\\frac{1}{M}\\int \\vec{r}\\,dm=\\frac{1}{M}\\int_{-l/2}^{l/2}\\lambda x\\,dx=\\frac{1}{M}\\frac{\\lambda}{2}((\\frac{l}{2})^2-(-\\frac{l}{2})^2)=0$\n",
    "\n",
    "On the other hand if we were to place the origin at the left end of the rod then we could show that \n",
    "\n",
    "$\\vec{r}_{CM}=\\frac{1}{M}\\int \\vec{r}\\,dm=\\frac{1}{M}\\int_{0}^{l}\\lambda x\\,dx=\\frac{1}{M}\\frac{\\lambda}{2}l^2$\n",
    "\n",
    "and as $M=\\lambda l$\n",
    "\n",
    "$\\vec{r}_{CM}=\\frac{l}{2}\\hat{i}$\n"
   ]
  },
  {
   "cell_type": "markdown",
   "id": "01eb9b55",
   "metadata": {},
   "source": [
    "### A thin uniform plate\n",
    "\n",
    "![im.png](images/complate.png)\n",
    "\n",
    "We now look at a 2 dimensional object, in this case a thin rectangular plate.\n",
    "\n",
    "The mass interval $dm=\\rho_{A}\\,dA=\\rho_{A}\\,dx\\,dy$\n",
    "\n",
    "The COM of the plate in the x direction is\n",
    "\n",
    "$\\vec{x}_{CM}=\\frac{1}{M}\\int x\\,dm=\\frac{1}{M}\\int_{-l/2}^{l/2}\\int_{-w/2}^{w/2}\\rho_{A}x\\,dy\\,dx=0$\n",
    "\n",
    "$\\vec{y}_{CM}=\\frac{1}{M}\\int y\\,dm=\\frac{1}{M}\\int_{-l/2}^{l/2}\\int_{-w/2}^{w/2}\\rho_{A}y\\,dy\\,dx=0$\n",
    "\n",
    "We can see that symmetry often enables us to identify the center of mass of an object, equally distributed mass on either side of the origin cancels out.\n",
    "\n",
    "$\\vec{x}_{CM}=\\frac{1}{M}\\int x\\,dm=\\frac{1}{M}\\int_{0}^{l}\\int_{0}^{w}\\rho_{A}x\\,dy\\,dx=\\frac{1}{M}\\frac{1}{2}\\rho_{A}l^{2}w=\\frac{l}{2}\\hat{i}$\n",
    "\n",
    "$\\vec{y}_{CM}=\\frac{1}{M}\\int y\\,dm=\\frac{1}{M}\\int_{0}^{l}\\int_{0}^{w}\\rho_{A}y\\,dy\\,dx=\\frac{1}{M}\\frac{w^2}{2}\\rho_{A}l=\\frac{w}{2}\\hat{j}$\n",
    "\n"
   ]
  },
  {
   "cell_type": "markdown",
   "id": "7790fa0e",
   "metadata": {},
   "source": [
    "### COM of the Human Body\n",
    "\n",
    "<p>\n",
    "How symmetric do you think the human body is? Here&#039;s an <a href=\"http://hypertextbook.com/facts/2006/centerofmass.shtml\" class=\"urlextern\" title=\"http://hypertextbook.com/facts/2006/centerofmass.shtml\">experiment to determine the center of mass of people</a>.\n",
    "</p>"
   ]
  },
  {
   "cell_type": "markdown",
   "id": "14a97f44",
   "metadata": {},
   "source": [
    "### Polar Coordinates\n",
    "\n",
    "![im.png](images/polarcoords.png)\n",
    "\n",
    "Our previous result suggests that we should as far as possible find coordinate systems that reflect the symmetry of our system. Thus for circular objects and rotational motion we will find <a href=\"https://en.wikipedia.org/wiki/Polar_coordinate_system\" class=\"interwiki iw_wp\" title=\"https://en.wikipedia.org/wiki/Polar_coordinate_system\">polar coordinates</a> to be advantageous.\n",
    "\n",
    "To transform from polar coordinates in to Cartesian coordinates\n",
    "\n",
    "$x=r\\cos\\theta$\n",
    "\n",
    "$y=r\\sin\\theta$\n",
    "\n",
    "and from Cartesian to polar\n",
    "\n",
    "$r=\\sqrt{x^{2}+y^{2}}$\n",
    "\n",
    "$\\large\\tan\\theta=\\frac{y}{x}$\n"
   ]
  },
  {
   "cell_type": "markdown",
   "id": "ad3c938b",
   "metadata": {},
   "source": [
    "### COM of a Uniform Disk\n",
    "\n",
    "![im.png](images/comdisk.png)\n",
    "$\\vec{r}_{CM}=\\frac{1}{M}\\int \\vec{r}\\,dm=\\frac{1}{M}\\int\\vec{r}\\rho_{A}\\,dA$\n",
    "\n",
    "$dm=\\rho_{A}\\,dA=\\rho_{A}r\\,dr\\,d\\theta$\n",
    "\n",
    "$x=r\\cos\\theta$\n",
    "\n",
    "$y=r\\sin\\theta$\n",
    "\n",
    "$x_{CM}=\\frac{1}{M}\\int x\\rho_{A} \\, dA=\\frac{\\rho_{A}}{M}\\int_0^{2\\pi}\\int_{0}^{R}r^2\\cos\\theta\\,dr\\,d\\theta=\\frac{\\rho_{A} R^3}{3M}\\int_0^{2\\pi}\\cos\\theta\\,d\\theta$\n",
    "$=\\frac{\\rho_{A} R^3}{3M}[\\sin(2\\pi)-\\sin(0)]=0$\n",
    "\n",
    "$y_{CM}=\\frac{1}{M}\\int y\\rho_{A} \\, dA=\\frac{\\rho_{A}}{M}\\int_0^{2\\pi}\\int_{0}^{R} r^2\\sin\\theta\\,dr\\,d\\theta=\\frac{\\rho_{A} R^3}{3M}\\int_0^{2\\pi}\\sin\\theta\\,d\\theta$\n",
    "$=\\frac{\\rho_{A} R^3}{3M}[-\\cos(2\\pi)+\\cos(0)]=0$\n"
   ]
  },
  {
   "cell_type": "markdown",
   "id": "d23b72e2",
   "metadata": {},
   "source": [
    "### COM of a Uniform Half Disk\n",
    "\n",
    "![im.png](images/comhalfdisk.png)\n",
    "\n",
    "\n",
    "$\\vec{r}_{CM}=\\frac{1}{M}\\int \\vec{r}\\,dm=\\frac{1}{M}\\int\\vec{r}\\rho_{A}\\,dA$\n",
    "\n",
    "$x_{CM}=\\frac{1}{M}\\int x\\rho_{A} \\, dA=\\frac{\\rho_{A}}{M}\\int_0^{\\pi}\\int_{0}^{R}r^2\\cos\\theta\\,dr\\,d\\theta=\\frac{\\rho_{A} R^3}{3M}\\int_0^{\\pi}\\cos\\theta\\,d\\theta$\n",
    "$=\\frac{\\rho_{A} R^3}{3M}[\\sin(\\pi)-\\sin(0)]=0$\n",
    "\n",
    "$y_{CM}=\\frac{1}{M}\\int y\\rho_{A} \\, dA=\\frac{\\rho_{A}}{M}\\int_0^{\\pi}\\int_{0}^{R}r^2\\sin\\theta\\,dr\\,d\\theta=\\frac{\\rho_{A} R^3}{3M}\\int_0^{\\pi}\\sin\\theta\\,d\\theta$\n",
    "$=\\frac{\\rho_{A}R^3}{3M}[-\\cos(\\pi)+\\cos(0)]=\\frac{2\\rho_{A}R^3}{3M}$\n",
    "\n",
    "We can convert this in to something more useful by considering that $M=\\rho_{A}\\frac{1}{2}\\pi R^{2}$\n",
    "\n",
    "which tells us that\n",
    "\n",
    "$y_{CM}=\\frac{4R}{3\\pi}$"
   ]
  },
  {
   "cell_type": "markdown",
   "id": "47228379",
   "metadata": {},
   "source": [
    "### Polar Coordinates for Rotational Motion\n",
    "\n",
    "![im.png](images/angulardisplacement.png)\n",
    "\n",
    "\n",
    "If we consider two points on a turning disc at distance $r_{1}$ and $r_{2}$ from the center of the disc we can make a number of observations.\n",
    "\n",
    "First the distance traveled by the points is quite different, points that are far from the center go through a greater distance.\n",
    "\n",
    "However, the angular displacement is the same for both points, suggesting that angular displacement is a good variable to describe the motion of the whole rotating object.\n",
    "\n",
    "We would like to be able to have a straight forward relationship between the actual distance traveled and the angular displacement, which we can have if we express our angular displacement in <a href=\"https://en.wikipedia.org/wiki/Radian\" class=\"interwiki iw_wp\" title=\"https://en.wikipedia.org/wiki/Radian\">radians</a>.\n",
    "\n",
    "As the relationship between the arc length on a circle and the angle which it subtends in radians is \n",
    "\n",
    "$l=r\\theta$\n",
    "\n",
    "a change in the angular displacement of $\\Delta\\theta$ results in a change in the displacement \n",
    "\n",
    "$\\Delta l=r\\Delta\\theta$\n"
   ]
  },
  {
   "cell_type": "markdown",
   "id": "05306c4d",
   "metadata": {},
   "source": [
    "### Angular Velocity\n",
    "\n",
    "\n",
    "For change in angular displacement $\\Delta \\theta$ in a time interval $\\Delta t$ we can define an average angular velocity\n",
    "\n",
    "$\\bar{\\omega}=\\frac{\\Delta \\theta}{\\Delta t}$\n",
    "\n",
    "As we are now accustomed, we can also define an instantaneous velocity\n",
    "\n",
    "$\\omega=\\lim_{\\Delta t\\to 0}\\frac{\\Delta \\theta}{\\Delta t}=\\frac{d\\theta}{dt}$\n",
    "\n",
    "The units of angular velocity can be expressed as either $\\mathrm{rad\\,s^{-1}}$ or $\\mathrm{s^{-1}}$"
   ]
  },
  {
   "cell_type": "markdown",
   "id": "1478ce1e",
   "metadata": {},
   "source": [
    "### Angular Acceleration\n",
    "\n",
    "\n",
    "Previously we only considered circular motion in which the angular velocity $\\omega$ remained constant with time, but of course we can also define an angular acceleration\n",
    "\n",
    "$\\bar{\\alpha}=\\frac{\\Delta \\omega}{\\Delta t}$\n",
    "\n",
    "$\\alpha=\\lim_{\\Delta t\\to 0}\\frac{\\Delta \\omega}{\\Delta t}=\\frac{d\\omega}{dt}$\n",
    "\n",
    "The units of angular acceleration can be expressed as either $\\mathrm{rad\\,s^{-2}}$ or $\\mathrm{s^{-2}}$\n"
   ]
  },
  {
   "cell_type": "markdown",
   "id": "91520fc8",
   "metadata": {},
   "source": [
    "### From angular to tangencial quantities\n",
    "\n",
    "\n",
    "A point at distance $r$ from the center of rotation will have at any time a tangential velocity of magnitude \n",
    "\n",
    "$v=\\omega r$\n",
    "\n",
    "and a tangential acceleration (not to be confused with the centripetal acceleration) of\n",
    "\n",
    "$a=\\alpha r$"
   ]
  },
  {
   "cell_type": "markdown",
   "id": "4000ecbe",
   "metadata": {},
   "source": [
    "### Useful relationships Concerning angular quantities\n",
    "\n",
    "\n",
    "Rotational motion, when not accelerated, can be considered to be a form of periodic motion, and so relationships between the angular velocity, frequency and period are useful.\n",
    "\n",
    "$T=\\frac{2\\pi}{\\omega}$\n",
    "\n",
    "$f=\\frac{\\omega}{2\\pi}$\n",
    "\n",
    "$\\omega=2\\pi f$\n",
    "\n",
    "We'd also like to be able to express the centripetal acceleration in terms of $\\omega$\n",
    "\n",
    "$a_{R}=\\frac{v^{2}}{r}=\\frac{(\\omega r)^{2}}{r}=\\omega^{2}r$\n",
    "\n"
   ]
  },
  {
   "cell_type": "markdown",
   "id": "e928bd51",
   "metadata": {},
   "source": [
    "### Radial and tangencial accelearation.\n",
    "\n",
    "![im.png](images/totalrotacc.png)\n",
    "\n",
    "The total acceleration of an object in accelerated rotational motion will be the vector sum of two perpendicular vectors, the tangential acceleration $\\vec{a}_{tang}$, and the radial acceleration $\\vec{a}_{R}$.\n",
    "\n",
    "The magnitude of the total acceleration is \n",
    "\n",
    "$\\vec{a}=\\sqrt{a_{tang}^2+a_{R}^2}=\\sqrt{\\alpha^2r^2+\\omega^{4}r^2}=r\\sqrt{\\alpha^2+\\omega^4}$\n",
    "\n",
    "and it is directed an angle\n",
    "\n",
    "$\\arctan\\frac{\\alpha}{\\omega^{2}}$ away from the radial direction.\n"
   ]
  },
  {
   "cell_type": "markdown",
   "id": "07d8635f",
   "metadata": {},
   "source": [
    "### Pseudovector representation\n",
    "\n",
    "\n",
    "As we know, translational velocity and acceleration are vector quantities. While we have defined angular velocity and acceleration we can see that they can represent points that are moving in directions that change with time, which would make them difficult to represent with vectors defined in cartesian coordinates.\n",
    "\n",
    "We can however consider an axial vector, ie. a vector that points in the direction about which rotation occurs as a good way of representing the direction of these rotational quantities.\n",
    "\n",
    "We give the direction of rotation around the axes according to a <a href=\"https://en.wikipedia.org/wiki/Right-hand_rule\" class=\"interwiki iw_wp\" title=\"https://en.wikipedia.org/wiki/Right-hand_rule\">right-hand rule</a>.\n",
    "\n",
    "\n",
    "![im.png](images/rhgriprule.png)"
   ]
  },
  {
   "cell_type": "markdown",
   "id": "ed47cb7c",
   "metadata": {},
   "source": [
    "### Kinematic eqations for rotational motion\n",
    "\n",
    "\n",
    "At the beginning of the course we derived, using calculus, a set of equations for motion under constant acceleration.\n",
    "\n",
    "$v= v_{0}+at$\n",
    "\n",
    "$x= x_{0}+v_{0}t+\\frac{1}{2}at^2$\n",
    "\n",
    "$v^{2}=v_{0}^2+2a(x-x_{0})$\n",
    "\n",
    "We can equally derive similar equations for our rotational quantities. Indeed as we can see that the relationships between the new rotational quantities we have now are exactly the same as those between the translational quantities we can simply rewrite the translational motion equations in terms of rotational variables.\n",
    "\n",
    "$\\omega= \\omega_{0}+\\alpha t$\n",
    "\n",
    "$\\theta= \\theta_{0}+\\omega_{0}t+\\frac{1}{2}\\alpha t^2$\n",
    "\n",
    "$\\omega^{2}=\\omega_{0}^2+2\\alpha(\\theta-\\theta_{0})$\n"
   ]
  },
  {
   "cell_type": "markdown",
   "id": "bb42f611",
   "metadata": {},
   "source": [
    "### Combining translational and rotational motion\n",
    "\n",
    "\n",
    "Let's return to the wheel that rolls without slipping:\n",
    "\n",
    "![image.gif](images/Cycloid_f.gif)\n",
    "\n",
    "The point around which the wheel turns, which is also it's center of mass, is seen to execute translational motion with velocity $\\vec{v}$\n",
    "\n",
    "In the reference frame of the ground a point on the edge of the wheel comes to rest when it is contact with the ground.  However from the perspective of the center of the wheel, the motion of the point of the edge of the wheel is purely rotational with $\\omega=\\frac{v}{r}$ or $v=\\omega r$.\n",
    "\n",
    "We can describe the displacement of a point on the edge of the wheel in the reference frame of the ground by adding the rotational motion of the point to the translational motion of the center of the wheel. This gives the equation\n",
    "\n",
    "$\\vec{r}=vt\\hat{i}+r\\cos(\\theta(t))\\hat{i}+(r\\sin(\\theta(t))+r)\\hat{j}$\n",
    "\n",
    "$\\to \\vec{r}=(r\\omega t+r\\cos(\\omega t))\\hat{i}+(r\\sin(\\omega t)+r)\\hat{j}$\n",
    "\n",
    "A path of this kind is called a <a href=\"https://en.wikipedia.org/wiki/Cycloid\" class=\"interwiki iw_wp\" title=\"https://en.wikipedia.org/wiki/Cycloid\">cycloid</a>\n",
    "\n",
    "Differentiating with respect to time give us the velocity\n",
    "\n",
    "$\\vec{v}=(r\\omega-r\\omega(\\sin(\\omega t)))\\hat{i}+r\\omega\\cos(\\omega t)\\hat{j}$\n",
    "\n",
    "More on wheels and rolling at <a href=\"http://www.animations.physics.unsw.edu.au/jw/rolling.htm\" class=\"urlextern\" title=\"http://www.animations.physics.unsw.edu.au/jw/rolling.htm\">Physclips</a>\n"
   ]
  },
  {
   "cell_type": "code",
   "execution_count": 7,
   "id": "db056218",
   "metadata": {},
   "outputs": [
    {
     "data": {
      "text/plain": [
       "[<matplotlib.lines.Line2D at 0x11d2385e0>]"
      ]
     },
     "execution_count": 7,
     "metadata": {},
     "output_type": "execute_result"
    },
    {
     "data": {
      "image/png": "[encoded data removed]",
      "text/plain": [
       "<Figure size 432x288 with 1 Axes>"
      ]
     },
     "metadata": {
      "needs_background": "light"
     },
     "output_type": "display_data"
    }
   ],
   "source": [
    "import numpy as np\n",
    "import matplotlib.pyplot as plt\n",
    "\n",
    "r = 0.5 #m \n",
    "w = 1 #rad/s\n",
    "v = w*r   #m/s\n",
    "t = np.arange(0,10,0.1)\n",
    "x = r*w*t + r*np.cos(w*t) \n",
    "y = r*np.sin(w*t) + r\n",
    "plt.plot(x,y)"
   ]
  },
  {
   "cell_type": "markdown",
   "id": "cb8367bf",
   "metadata": {},
   "source": [
    "### coming up next\n",
    "\n",
    "As we saw for translational motion we needed to introduce several important concepts to be able to understand not just the way in which motion occurs, but what causes it to occur.\n",
    "\n",
    "Over the course of this week we will introduce rotational equivalents for:\n",
    "\n",
    "\n",
    "* Force → Torque\n",
    "* Mass → Moment of Inertia\n",
    "* Kinetic Energy → Rotational Kinetic Energy\n",
    "* Momentum → Angular Momentum"
   ]
  },
  {
   "cell_type": "code",
   "execution_count": null,
   "id": "9ac8bf80",
   "metadata": {},
   "outputs": [],
   "source": []
  },
  {
   "cell_type": "code",
   "execution_count": null,
   "id": "37182801",
   "metadata": {},
   "outputs": [],
   "source": []
  }
 ],
 "metadata": {
  "kernelspec": {
   "display_name": "Python 3 (ipykernel)",
   "language": "python",
   "name": "python3"
  },
  "language_info": {
   "codemirror_mode": {
    "name": "ipython",
    "version": 3
   },
   "file_extension": ".py",
   "mimetype": "text/x-python",
   "name": "python",
   "nbconvert_exporter": "python",
   "pygments_lexer": "ipython3",
   "version": "3.9.10"
  }
 },
 "nbformat": 4,
 "nbformat_minor": 5
}
