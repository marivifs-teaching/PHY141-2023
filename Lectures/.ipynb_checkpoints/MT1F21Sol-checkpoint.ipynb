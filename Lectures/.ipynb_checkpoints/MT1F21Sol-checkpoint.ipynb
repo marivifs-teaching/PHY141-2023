{
 "cells": [
  {
   "cell_type": "markdown",
   "id": "13c0e949",
   "metadata": {},
   "source": []
  },
  {
   "cell_type": "code",
   "execution_count": 2,
   "id": "d2e62664",
   "metadata": {},
   "outputs": [],
   "source": [
    "import numpy as np"
   ]
  },
  {
   "cell_type": "markdown",
   "id": "d2ec6bb8",
   "metadata": {},
   "source": [
    "A spring of constant \\textbf{K}=1000 N/m  is compressed to a length \\textbf{l=2 m} in order to launch a rock of mass \\textbf{m=10 kg}.  The spring makes an angle with the horizontal, which you can easily determine. (See the diagram).\n",
    "At the moment the rock is released, a car starts driving towards the spring from a distance of \\textbf{100 m} at a constant speed of \\textbf{$v_c$}. The top of the car is at the same height as the end of the fully extended spring (see diagram) and the distance to the car is measured from the horizontal  end of the fully extended spring.\n",
    " \n",
    " \n",
    " \\textbf{A.} (5 points) What is the magnitude of the velocity of the rock right after the spring is released (i.e. fully extended)?\n",
    " \n",
    "\\textbf{B.} (5 points) Write  equations for both components ($x$ and $y$)  of the rock displacement as a  function of time, taking t=0s to be the time the spring reaches full extension after being released\n",
    "\n",
    "\\textbf{C.} (5 points) Write  equations for both components ($x$ and $y$) of the car's displacement as a  function of time.\n",
    "\n",
    "\\textbf{D.} (10 points)  What should be the value of the speed of the car \\textbf{$v_c$} for the rock to hit the car?\n",
    "\n",
    "\\textbf{E.} (5 points) How much work did gravity do on the rock while it was in the air?\n",
    "\n",
    "\\textbf{F.} (5 points) How much work did the spring do on the rock?\n"
   ]
  },
  {
   "cell_type": "markdown",
   "id": "54cadc49",
   "metadata": {},
   "source": [
    "### Q1\n",
    "A spring of constant $\\textbf{K}$=1000 N/m  is compressed to a length $\\textbf{l=2 m}$ in order to launch a rock of mass $\\textbf{m=10 kg}$.  The spring makes an angle with the horizontal, which you can easily determine. (See the diagram).\n",
    "At the moment the rock is released, a car starts driving towards the spring from a distance of $\\textbf{100 m}$ at a constant speed of $\\textbf{$v_c$}$. The top of the car is at the same height as the end of the fully extended spring (see diagram) and the distance to the car is measured from the horizontal  end of the fully extended spring.\n",
    "\n",
    " * A (5 points) What is the magnitude of the velocity of the rock right after the spring is released (i.e. fully extended)? **19.5 m/s**\n",
    " \n",
    " * B (5 points) Write  equations for both components ($x$ and $y$)  of the rock displacement as a  function of time, taking t=0s to be the time the spring reaches full extension after being released **vx=16.9 m/s, vy=9.8 m/s**\n",
    " \n",
    "      * xr = vx * t $\\hat{i}$ m\n",
    "  \n",
    "      * yr = vy * t - 1/2 gt$^2$ $\\hat{j}$ m\n",
    "\n",
    " * C (5 points) Write  equations for both components ($x$ and $y$) of the car's displacement as a  function of time.\n",
    " \n",
    " \n",
    "      * xc = D - vc * t $\\hat{i}$ m\n",
    "  \n",
    "      * yc = 0 $\\hat{j}$ m\n",
    "\n",
    " * D (10 points)  What should be the value of the speed of the car $\\textbf{$v_c$}$ for the rock to hit the car?**33.4 m/s**\n",
    "\n",
    " * E (5 points) How much work did gravity do on the rock while it was in the air?\n",
    " \n",
    "   *  **Wg = 0 J (because the up part of the motion cancels the down part of the motion)**\n",
    "\n",
    " * F (5 points) How much work did the spring do on the rock? **2000 J**\n"
   ]
  },
  {
   "cell_type": "code",
   "execution_count": 4,
   "id": "6f83b731",
   "metadata": {},
   "outputs": [
    {
     "name": "stdout",
     "output_type": "stream",
     "text": [
      "19.503845774615836 16.890825912311097 9.751922887307918\n",
      "33.355674768875865 33.61592485710209 1.9901883443485546\n",
      "2000.0\n"
     ]
    }
   ],
   "source": [
    "K =1000\n",
    "M=10\n",
    "g=9.8\n",
    "h=1\n",
    "l=2\n",
    "D=100\n",
    "s=np.sqrt(l**2-h**2)\n",
    "#a\n",
    "v0 = np.sqrt((K/M)*l**2-2*g*h)\n",
    "vx=v0*s/l\n",
    "vy=v0*h/l\n",
    "print(v0,vx,vy)\n",
    "t=2*vy/g\n",
    "vc=(D-vx*t)/t\n",
    "print(vc,vx*t,t)\n",
    "Ws= 0.5*K*l**2\n",
    "print(Ws)"
   ]
  },
  {
   "cell_type": "markdown",
   "id": "cac11698",
   "metadata": {},
   "source": [
    "### Q1 Statistics\n",
    "\n",
    "| | |\n",
    "|--|--|\n",
    "|Minimum Value\t|5.00|\n",
    "|Maximum Value\t|35.00|\n",
    "|Average|\t21.68421|\n",
    "|Median\t|22.00|\n",
    "|Standard Deviation|\t8.96808|"
   ]
  },
  {
   "cell_type": "markdown",
   "id": "080f7ec1",
   "metadata": {},
   "source": [
    "### Q2\n",
    "\n",
    "A binary star system is composed of two identical stars of mass M, radius R$_s$ and separated by distance D=100R$_s$ as measured from center to center of the stars. A planet is orbiting in a perfectly circular orbit in the plane perpendicular to the line that joins the two stars, in the exact middle point, as shown in the figure.\n",
    "\n",
    "   * A  What is the velocity of the planet along its orbit?\n",
    "   * B What would be the weight of a person located at point P on the surface of  the left star, on the line that connects the two planets? give your answer in units of g (i.e provide the ratio of the weight on the surface of the star over the weight on the surface of the earth, mg). Ignore the gravity of the planet in this question."
   ]
  },
  {
   "cell_type": "code",
   "execution_count": 85,
   "id": "731d1633",
   "metadata": {},
   "outputs": [
    {
     "name": "stdout",
     "output_type": "stream",
     "text": [
      "Rps =  6183935503.899826  m\n",
      "vp = 211698.3446002803 m/s\n",
      "w =  4083.2568105295372 g\n"
     ]
    }
   ],
   "source": [
    "T=30*3600 # Period in s\n",
    "R=1e8     # R star, m\n",
    "M=6e30    # M start kg\n",
    "G=6.67e-11 # G (m^3/kg/s^2)\n",
    "D=100*R    # m\n",
    "g=9.8      # m/s^2\n",
    "rps=(2*M*G*T**2/(4*np.pi**2))**(1/3) #m\n",
    "print(\"Rps = \", rps,\" m\")\n",
    "x=D/2\n",
    "r = np.sqrt(rps**2-x**2)\n",
    "#print(r/R,r/x)\n",
    "vp = (2*np.pi*r)/T #m/s\n",
    "print(\"vp =\", vp, \"m/s\")\n",
    "w= M*G*(1/R**2 - 1/(D-R)**2)/g\n",
    "print(\"w = \", w, \"g\")\n"
   ]
  },
  {
   "cell_type": "markdown",
   "id": "fe7f9277",
   "metadata": {},
   "source": [
    "### Q2 Statistics\n",
    "\n",
    "| | |\n",
    "|--|--|\n",
    "|Minimum Value\t|0.00|\n",
    "|Maximum Value\t|30.00|\n",
    "|Average\t|15.57894|\n",
    "|Median\t|18.00|\n",
    "|Standard Deviation\t|9.29808|"
   ]
  },
  {
   "cell_type": "markdown",
   "id": "1d6734e0",
   "metadata": {},
   "source": [
    "$\\textbf{Question 3.}$ (35 points) The system shown in the figure has M1 moving DOWN at constant velocity V. The pulley on M2 is attached to the top of the mass and moves with it.\n",
    "Assume there is no friction on the incline plane. \n",
    "\n",
    "$\\textbf{A.}$ (5 points) Draw  all the forces that act on the system (free body diagram)\n",
    "\n",
    "$\\textbf{B.}$ (5 points) Find an expression for  M2 as a function of M1 and $\\theta$\n",
    "\n",
    "M2=2M1/sin($\\theta$)\n",
    "\n",
    "$\\textbf{C.}$ (5 points) What is the magnitude of the normal force exerted by the inclined plane on M2?\n",
    "\n",
    "$N=M2gcos(\\theta)$\n",
    "\n",
    "$\\textbf{D.}$ (10 points) How much work does  gravity do on the total system in  time t?\n",
    "\n",
    "\n",
    "W=0J=W1+W2=M1gtv-M2gsin($\\theta$)tv/2=M1gtv-M1gtv=0J\n",
    "\n",
    "$\\textbf{E.}$ (10 points) What would be  the tension on the rope if  there is a friction coefficient $\\mu_k$ on the incline. Express your answer as a function of M2 and g?\n",
    "\n",
    "T =M2g(sin($\\theta$)+$\\mu$ cos($\\theta$))/2"
   ]
  },
  {
   "cell_type": "markdown",
   "id": "6289183d",
   "metadata": {},
   "source": [
    "### Q3 Statistics\n",
    "\n",
    "\n",
    "| | |\n",
    "|--|--|\n",
    "|Minimum Value\t|9.00|\n",
    "|Maximum Value\t|35.00|\n",
    "|Average|\t25.63157|\n",
    "|Median\t|29.00|\n",
    "|Standard Deviation|\t7.5687|"
   ]
  },
  {
   "cell_type": "markdown",
   "id": "721ce637",
   "metadata": {},
   "source": [
    "### MT1 Statistics\n",
    "||\t|\n",
    "|--|--|\n",
    "|Minimum Value|\t14.00%|\n",
    "|Maximum Value|\t95.00%|\n",
    "|Average|\t62.89473% |\n",
    "|Median|\t67.00%|\n",
    "|Standard Deviation|\t23.57048|\n"
   ]
  },
  {
   "cell_type": "code",
   "execution_count": null,
   "id": "a1737157",
   "metadata": {},
   "outputs": [],
   "source": []
  }
 ],
 "metadata": {
  "kernelspec": {
   "display_name": "Python 3 (ipykernel)",
   "language": "python",
   "name": "python3"
  },
  "language_info": {
   "codemirror_mode": {
    "name": "ipython",
    "version": 3
   },
   "file_extension": ".py",
   "mimetype": "text/x-python",
   "name": "python",
   "nbconvert_exporter": "python",
   "pygments_lexer": "ipython3",
   "version": "3.9.10"
  }
 },
 "nbformat": 4,
 "nbformat_minor": 5
}
