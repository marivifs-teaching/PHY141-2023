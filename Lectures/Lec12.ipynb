{
 "cells": [
  {
   "cell_type": "markdown",
   "id": "7b988a3a",
   "metadata": {
    "slideshow": {
     "slide_type": "slide"
    }
   },
   "source": [
    "# Lecture 12 - Conservation of Energy"
   ]
  },
  {
   "cell_type": "markdown",
   "id": "e2b9922c",
   "metadata": {
    "slideshow": {
     "slide_type": "slide"
    }
   },
   "source": [
    "### The Law of conservation of energy\n",
    "\n",
    "The law of conservation of energy states that within a closed system the total amount of energy is always conserved.\n",
    "\n",
    "Another way of this is saying this is that energy can be neither created of destroyed, it can only be converted from one form to another.\n",
    "\n",
    "There are, however, many different forms of energy.\n",
    "\n",
    "For mechanics problems it is useful to think about a more restricted law, which considers mechanical energy to be conserved.\n",
    "\n",
    "Conservation of mechanical energy can be assumed whenever the forces which apply to a system are entirely conservative.\n"
   ]
  },
  {
   "cell_type": "markdown",
   "id": "0c275860",
   "metadata": {
    "slideshow": {
     "slide_type": "slide"
    }
   },
   "source": [
    "### Conservative Forces\n",
    "\n",
    "A force can be considered to be conservative, if the work done on the object by the force depends only on the beginning and end point of the motion and is independent of the path taken."
   ]
  },
  {
   "cell_type": "markdown",
   "id": "1a0c6e77",
   "metadata": {
    "slideshow": {
     "slide_type": "slide"
    }
   },
   "source": [
    "### Gravity is a conservative Force\n",
    "\n",
    "![image.png](images/conservativegravity.png)\n",
    "\n",
    "\n",
    "$W_{G}=\\int_{1}^{2} \\vec{F}_{G}\\cdot d\\vec{l}$\n",
    "\n",
    "Now as $\\vec{F}_{G}=-mg\\hat{j}$ and $d\\vec{l}=dx\\hat{i}+dy\\hat{j}+dz\\hat{k}$\n",
    "\n",
    "$\\vec{F}_{G}\\cdot d\\vec{l}=-mg\\,dy$\n",
    "\n",
    "and\n",
    "\n",
    "$W_{G}=-\\int_{y_{1}}^{y_{2}}mg\\,dy=-mg(y_{2}-y_{1})$\n",
    "\n",
    "The work done depends only the change in height.\n"
   ]
  },
  {
   "cell_type": "markdown",
   "id": "c76fd33e",
   "metadata": {
    "slideshow": {
     "slide_type": "slide"
    }
   },
   "source": [
    "### Friction is a non conservative force\n",
    "\n",
    "\n",
    "A force can only be conservative if the net work done by the force on an object moving around any closed path is zero.\n",
    "\n",
    "This means that for an object moving from point 1 to point 2 under force the work must be equal and opposite for when it moves from point 2 to point 1.\n",
    "\n",
    "As we know, the friction force is always in the opposite direction to motion, if we push an object a distance against a frictional force $\\vec{F_{Fr}}$ then the work done by the friction on the object is $-F_{Fr}d$. (Note that the work done is negative, the frictional force reduces the kinetic energy.) If we push it back to it&#039;s original position the force is now in the opposite direction so the work done by the frictional force is again $-F_{Fr}d$. As the total work done is $-2F_{Fr}d$ we can see that friction is not a conservative force.\n"
   ]
  },
  {
   "cell_type": "markdown",
   "id": "c1f22cce",
   "metadata": {
    "slideshow": {
     "slide_type": "slide"
    }
   },
   "source": [
    "### Spring Force is conservative\n",
    "\n",
    "Forces that depend on position <strong>can</strong> be conservative.\n",
    "\n",
    "For example for a spring\n",
    "\n",
    "$\\int_{x_{1}}^{x_{2}}F_{s}\\,dx=-\\int_{x_{1}}^{x_{2}}kx\\,dx=\\frac{1}{2}k(x_{2}^2-x_{1}^2)$\n"
   ]
  },
  {
   "cell_type": "markdown",
   "id": "926577ed",
   "metadata": {
    "slideshow": {
     "slide_type": "slide"
    }
   },
   "source": [
    "### Potential Energy\n",
    "\n",
    "Work done against a conservative force is not lost. It is converted in to potential energy that can be converted back in to work.\n",
    "\n",
    "We use the symbol $U$ for potential energy.\n",
    "\n",
    "The change in potential energy $\\Delta U$ is the same as the work done against the force, which is  equal and opposite to the work done by the force.\n",
    "\n",
    "$\\Delta U = -\\int_{1}^{2}\\vec{F}_{G}\\cdot\\,d\\vec{l}$\n",
    "\n",
    "Although, the change in potential energy is well defined we have absolute freedom in determining the absolute value of potential energy, \n",
    "\n",
    "$U=\\Delta U +U_{0}$\n",
    "\n",
    "though usually some choices are more sensible than others.\n"
   ]
  },
  {
   "cell_type": "markdown",
   "id": "89a2839c",
   "metadata": {
    "slideshow": {
     "slide_type": "slide"
    }
   },
   "source": [
    "### Gravitational Potential Energy\n",
    "\n",
    "\n",
    "We've seen already that potential energy due to gravity should have the form $mg(y_{2}-y_{1})$. We can measure potential energy relative any position that makes sense to us, the most sensible place to measure from will depend on the problem. We can then say that the gravitational potential energy of an object is given by the height of that object above that reference point is $mgh$. Object below the reference point will have negative gravitational potential energy.\n",
    "\n",
    "![image.png](images/mgh.png)\n",
    "\n"
   ]
  },
  {
   "cell_type": "markdown",
   "id": "bb8be589",
   "metadata": {
    "slideshow": {
     "slide_type": "slide"
    }
   },
   "source": [
    "### Potential Energy and Force\n",
    "\n",
    "\n",
    "We arrived at the potential energy by integrating the force over displacement. \n",
    "\n",
    "$\\Delta U = -\\int_{1}^{2}\\vec{F}\\cdot\\,d\\vec{l}$\n",
    "\n",
    "We can go the other way and obtain the force from the potential. If we have a given potential that varies in space $U(x,y,z)$ then the force is the related to the spatial derivative of the potential.\n",
    "\n",
    "$\\vec{F}(x,y,z)=-\\hat{i}\\frac{\\partial U}{\\partial x}-\\hat{j}\\frac{\\partial U}{\\partial y}-\\hat{k}\\frac{\\partial U}{\\partial z}$\n",
    "\n",
    "![image.png](images/uxstableunstable.png)"
   ]
  },
  {
   "cell_type": "markdown",
   "id": "488dad9b",
   "metadata": {
    "slideshow": {
     "slide_type": "slide"
    }
   },
   "source": [
    "### Conservation of Mechanical Energy\n",
    "\n",
    "In the last lecture we discussed the work-energy theorem which says that the net work done on an object $W_{Net}$ is equal to it's change in kinetic energy $\\Delta K$\n",
    "\n",
    "$W_{Net}=\\Delta K$\n",
    "\n",
    "We also saw today that the change in potential energy <strong>if only conservative forces are active</strong> is\n",
    "\n",
    "$\\Delta U =  -\\int_{1}^{2}\\vec{F}\\cdot\\,d\\vec{l} = - W_{Net} $\n",
    "\n",
    "So we can see that when only conservative forces act that \n",
    "\n",
    "$\\Delta K + \\Delta U = 0 $\n",
    "\n",
    "We call the sum of the Kinetic Energy and Potential Energy the Total Mechanical Energy E\n",
    "\n",
    "$E=K+U$\n",
    "\n",
    "and we can see that under the condition of only conservative forces acting this is a conserved quantity.\n"
   ]
  },
  {
   "cell_type": "markdown",
   "id": "fcd1ada8",
   "metadata": {
    "slideshow": {
     "slide_type": "slide"
    }
   },
   "source": [
    "### Two Track Race\n",
    "\n",
    "![image.png](images/twotrackrace.png)\n",
    "\n",
    "Which track should give a ball a faster velocity at the end of the track?\n",
    "\n",
    "* A. Track A \n",
    "* B. Track B \n",
    "* C. Neither, the velocity should be the same.\n",
    "\n",
    "On which track should a ball arrive first if they are released simultaneously?\n",
    "\n",
    "* A. Track A \n",
    "* B. Track B \n",
    "* C. Neither, the time taken should be the same.\n",
    "\n"
   ]
  },
  {
   "cell_type": "markdown",
   "id": "4ce568eb",
   "metadata": {
    "slideshow": {
     "slide_type": "skip"
    }
   },
   "source": [
    "### Two Track Race Explained\n",
    "\n",
    "We can use the conservation of mechanical energy to know that if the change in height and therefore potential energy is the same in both cases, the kinetic energy gained should be the same in both cases, and thus the velocity at the end of both tracks should be the same.\n",
    "\n",
    "We can't, however, use this to tell the time taken, this depends on the path taken. We can understand the counter-intuitive result that the longer path takes less time based on the fact that throughout the middle section of the path the ball is always moving faster than it is on the straight path.\n",
    "\n",
    "In reality there is a limit to how far we can bend the path and still have the ball take less time. The fastest path is the one closest to the [Cycloid](https://en.wikipedia.org/wiki/Cycloid).\n",
    ".\n",
    "\n"
   ]
  },
  {
   "cell_type": "code",
   "execution_count": null,
   "id": "e9876dde",
   "metadata": {},
   "outputs": [],
   "source": []
  }
 ],
 "metadata": {
  "celltoolbar": "Slideshow",
  "kernelspec": {
   "display_name": "Python 3 (ipykernel)",
   "language": "python",
   "name": "python3"
  },
  "language_info": {
   "codemirror_mode": {
    "name": "ipython",
    "version": 3
   },
   "file_extension": ".py",
   "mimetype": "text/x-python",
   "name": "python",
   "nbconvert_exporter": "python",
   "pygments_lexer": "ipython3",
   "version": "3.9.10"
  }
 },
 "nbformat": 4,
 "nbformat_minor": 5
}
