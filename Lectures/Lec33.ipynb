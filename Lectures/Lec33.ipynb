{
 "cells": [
  {
   "cell_type": "markdown",
   "id": "682a645f",
   "metadata": {},
   "source": [
    "# Lecture 33 - Second Law of Thermodynamics"
   ]
  },
  {
   "cell_type": "markdown",
   "id": "94a3f497",
   "metadata": {},
   "source": [
    "### The second law of thermodynamics\n",
    "\n",
    "The first law relates heat energy, work and the internal thermal energy of a system, and is essentially a statement of conservation of energy.\n",
    "\n",
    "\n",
    "The <a href=\"https://en.wikipedia.org/wiki/Second_law_of_thermodynamics\" class=\"interwiki iw_wp\" title=\"https://en.wikipedia.org/wiki/Second_law_of_thermodynamics\">second law of thermodynamics</a> adds a restriction on the direction of thermodynamic processes.\n",
    "\n",
    "\n",
    "One of the earliest statements of the second law, due to <a href=\"https://en.wikipedia.org/wiki/Rudolf_Clausius\" class=\"interwiki iw_wp\" title=\"https://en.wikipedia.org/wiki/Rudolf_Clausius\">Rudolf Clausius</a> is that:\n",
    "\n",
    "\n",
    "**Heat cannot spontaneously flow from a cold object to a hot one, whereas the reverse, a spontaneous flow of heat from a hot object to a cold one, is possible.**\n",
    "\n",
    "We should note that the first law \n",
    "\n",
    "$\\Delta E_{int}=Q-W$\n",
    "\n",
    "would not prohibit such a process, so the second law adds something fundamentally new to our understanding of thermodynamics.\n"
   ]
  },
  {
   "cell_type": "markdown",
   "id": "e961f937",
   "metadata": {},
   "source": [
    "### Heat Engine\n",
    "\n",
    "A <a href=\"https://en.wikipedia.org/wiki/Heat_engine\" class=\"interwiki iw_wp\" title=\"https://en.wikipedia.org/wiki/Heat_engine\">heat engine</a> is a system for turning temperature gradient between two thermal reservoirs in to mechanical work. We will consider heat engines that operate with a continuous cycle, which means that the system always returns to its initial state at the end of the cycle and there is no change in the internal energy.\n",
    "\n",
    "The first law tells us that in the case\n",
    "\n",
    "$Q_{H}=W+Q_{L}$\n",
    "\n",
    "In writing this equation we have adopted a new sign convention, where all the heats and the work done are positive.\n",
    "\n",
    "\n",
    "![im.png](images/heatengine.png)\n"
   ]
  },
  {
   "cell_type": "markdown",
   "id": "efaf6cfc",
   "metadata": {},
   "source": [
    "### Steam Engines\n",
    "\n",
    "Some of the earliest engines were <a href=\"https://en.wikipedia.org/wiki/History_of_the_steam_engine\" class=\"interwiki iw_wp\" title=\"https://en.wikipedia.org/wiki/History_of_the_steam_engine\">steam engines</a>, though steam engines should not be thought of a historical relics, about 80% of the worlds electricity comes from <a href=\"https://en.wikipedia.org/wiki/Steam_turbine\" class=\"interwiki iw_wp\" title=\"https://en.wikipedia.org/wiki/Steam_turbine\">steam turbines</a>. The earliest “steam engine” the <a href=\"http://www.youtube.com/watch?v=RDABtbUXzYs&amp;feature=related\" class=\"urlextern\" title=\"http://www.youtube.com/watch?v=RDABtbUXzYs&amp;feature=related\">Aeolipile</a> does not do very much work. To get work out of an engine one needs to design an efficient heat engine cycle. \n"
   ]
  },
  {
   "cell_type": "markdown",
   "id": "ba7686ad",
   "metadata": {},
   "source": [
    "### Efficiency\n",
    "\n",
    "The efficiency, $e$, of an engine is defined as the ratio of the work we get from the engine $W$ to the input heat $Q_{H}$\n",
    "\n",
    "$e=\\frac{W}{Q_{H}}$\n",
    "\n",
    "As we know that\n",
    "\n",
    "$Q_{H}=W+Q_{L}$\n",
    "\n",
    "$e=\\frac{W}{Q_{H}}=\\frac{Q_{H}-Q_{L}}{Q_{H}}=1-\\frac{Q_{L}}{Q_{H}}$\n",
    "\n",
    "The lower the waste heat, the more efficient the engine, however the second law of thermodynamics prevents $Q_{L}$ being zero. Kelvin in fact stated the second law explicitly in those terms:\n",
    "\n",
    "**No device is possible whose sole effect is to transform a given amount of heat directly in to work.**"
   ]
  },
  {
   "cell_type": "markdown",
   "id": "fc08109e",
   "metadata": {},
   "source": [
    "### Carnot Cycle</h2>\n",
    "\n",
    "To find the hypothetical maximum efficiency of a heat engine we can consider a cycle called the Carnot Cycle first proposed by [Carnot](https://en.wikipedia.org/wiki/Nicolas_L%C3%A9onard_Sadi_Carnot)\n",
    "\n",
    "The Carnot cycle is based entirely on reversible processes, this is not achievable in reality, it would require each process to be executed infinitely slowly so that the process can be considered as a continuous progression through equilibrium states. We can however consider the Carnot cycle as a theoretical ideal which can be approached.\n",
    "\n",
    "There are 4 processes in the Carnot cycle, which we will consider as in terms of the expansion and compression of an ideal gas.\n",
    "\n",
    "- From A to B. An isothermal expansion, in which an amount of heat $Q_{H}$ is added to the gas.\n",
    "- From B to C. An adiabatic expansion, in which no heat is exchanged and the temperature of the gas is lowered.\n",
    "- From C to D. An isothermal compression, in which an amount of heat $Q_{L}$ is removed from the gas.\n",
    "- From D to A. An adiabatic compression, returning the system to it's original high temperature state. \n",
    "    \n",
    "![im.png](images/carnot.png)\n",
    "![im.png](images/carnot-engine-1824.png)"
   ]
  },
  {
   "cell_type": "markdown",
   "id": "fff69a05",
   "metadata": {},
   "source": [
    "### Efficiency of the Carnot Cycle\n",
    "\n",
    "The work done in the first isothermal process is \n",
    "\n",
    "$W_{AB}=nRT_{H}\\ln\\frac{V_{B}}{V_{A}}$\n",
    "\n",
    "and as the process is isothermal this means that the heat added is equal to the work done ($\\Delta E_{int} =0$).\n",
    "\n",
    "$Q_{H}=nRT_{H}\\ln\\frac{V_{B}}{V_{A}}$\n",
    "\n",
    "The heat lost in in the second isothermal process will be\n",
    "\n",
    "$Q_{L}=nRT_{L}\\ln\\frac{V_{C}}{V_{D}}$\n",
    "\n",
    "For the adiabatic processes\n",
    "\n",
    "$P_{B}V_{B}^{\\gamma}=P_{C}V_{C}^{\\gamma}$ and \n",
    "$P_{D}V_{D}^{\\gamma}=P_{A}V_{A}^{\\gamma}$\n",
    "\n",
    "and from the ideal gas law\n",
    "\n",
    "$\\frac{P_{B}V_{B}}{T_{H}}=\\frac{P_{C}V_{C}}{T_{L}}$ and \n",
    "$\\frac{P_{D}V_{D}}{T_{L}}=\\frac{P_{A}V_{A}}{T_{H}}$\n",
    "\n",
    "These equations can be used to eliminate the temperatures and show that \n",
    "\n",
    "$\\frac{V_{B}}{V_{A}}=\\frac{V_{C}}{V_{D}}$\n",
    "\n",
    "which can be used with the equations for the isothermal processes to show that \n",
    "\n",
    "$\\frac{Q_{L}}{Q_{H}}=\\frac{T_{L}}{T_{H}}$\n",
    "\n",
    "making the efficiency\n",
    "\n",
    "$e=1-\\frac{T_{L}}{T_{H}}$"
   ]
  },
  {
   "cell_type": "markdown",
   "id": "2abe089c",
   "metadata": {},
   "source": [
    "### Carnot's theorem\n",
    "\n",
    "Carnot's theorem generalizes the result we just derived by stating:\n",
    "\n",
    "All reversible engines operating between two constant temperatures $T_{H}$ and $T_{L}$ have the same efficiency. \n",
    "\n",
    "$e_{ideal}=1-\\frac{T_{L}}{T_{H}}$\n",
    "\n",
    "Any irreversible engine operating between the same two fixed temperatures will have a lower efficiency."
   ]
  },
  {
   "cell_type": "markdown",
   "id": "75add5be",
   "metadata": {},
   "source": [
    "### Otto Cycle\n",
    "\n",
    "A <a href=\"https://en.wikipedia.org/wiki/Four-stroke_engine\" class=\"interwiki iw_wp\" title=\"https://en.wikipedia.org/wiki/Four-stroke_engine\">four stroke car engine</a> runs on a cycle that can be approximated by the <a href=\"https://en.wikipedia.org/wiki/Otto_cycle\" class=\"interwiki iw_wp\" title=\"https://en.wikipedia.org/wiki/Otto_cycle\">Otto Cycle</a>\n",
    "\n",
    "\n",
    "![im.png](images/otto.png)\n",
    "\n",
    "In this cycle neither AB or CD are isothermal, but are rather adiabatic processes. BC and DA can be considered to be isovolumetric.\n",
    "\n",
    "As the heat input and exhaust cycles occur at constant volume $Q_{H}=nc_{V,m}(T_{C}-T_{B})$ and $Q_{L}=nc_{V,m}(T_{D}-T_{A})$\n",
    "\n",
    "and the efficiency of an Otto cycle is\n",
    "\n",
    "$e=1-\\frac{Q_{L}}{Q_{H}}=1-\\frac{T_{D}-T_{A}}{T_{C}-T_{B}}$\n",
    "\n",
    "Using the fact for an adiabatic process $PV^{\\gamma}=\\mathrm{constant}$ and for an ideal gas $P=\\frac{nrT}{V}$ it can be shown that\n",
    "\n",
    "$T_{A}V_{A}^{\\gamma - 1}=T_{B}V_{B}^{\\gamma - 1}$ and $T_{C}V_{C}^{\\gamma - 1}=T_{D}V_{D}^{\\gamma - 1}$\n",
    "\n",
    "which combined with the fact that $V_{C}=V_{B}$ and $V_{A}=V_{D}$ gives (after some manipulation!)\n",
    "\n",
    "$e=1-(\\frac{V_{A}}{V_{B}})^{1-\\gamma}$\n",
    "\n",
    "$e=1-(\\frac{V_{max}}{V_{min}})^{1-\\gamma}$"
   ]
  },
  {
   "cell_type": "markdown",
   "id": "f187dbf6",
   "metadata": {},
   "source": [
    "### Refrigerators\n",
    "We can produce <a href=\"https://en.wikipedia.org/wiki/Refrigeration\" class=\"interwiki iw_wp\" title=\"https://en.wikipedia.org/wiki/Refrigeration\">refrigeration</a> only by doing work, to do otherwise would violate the second law of thermodynamics. We can achieve refrigeration by going around one of the cycles we discussed earlier in the opposite direction.\n",
    "\n",
    "![im.png](images/refrigerator.png)\n",
    "\n",
    "The coefficient of performance, $COP$, of a refrigerator is defined as the heat removed $Q_{L}$ divided by the work done $W$. As before we apply the first law $Q_{L}+W=Q_{H}$ so \n",
    "\n",
    "$COP=\\frac{Q_{L}}{W}=\\frac{Q_{L}}{Q_{H}-Q_{L}}$\n",
    "\n",
    "As with a heat engine we can consider the Carnot cycle to be the ideal case, which means that for an ideal refrigerator\n",
    "\n",
    "$COP=\\frac{T_{L}}{T_{H}-T_{L}}$"
   ]
  },
  {
   "cell_type": "markdown",
   "id": "4d7fc930",
   "metadata": {},
   "source": [
    "### Methods of cooling\n",
    "\n",
    "Most household refrigerators run on a <a href=\"https://en.wikipedia.org/wiki/Vapor-compression_refrigeration\" class=\"interwiki iw_wp\" title=\"https://en.wikipedia.org/wiki/Vapor-compression_refrigeration\">vapor compression cycle</a>. Let's pretend that the steps in this process can be approximated as those in the Carnot cycle, and recall that we are going around the cycle in the reverse direction to when we use it to produce work. In this approximation the stages of the cycle in which heat transfer occurs are isothermal, but in fact this is very much not the case, for a refrigerator to work we actually rely on these stages to convert the refrigerant from liquid to vapor in the evaporator (due to the $Q_{L}$ added to the refrigerant) and from vapor to liquid in the condenser (due to the $Q_{H}$ removed from the refrigerant). In the compressor we do work on the gas, in the expansion valve the gas does work (but less than the compressor does).\n",
    "\n",
    "![im.png](images/fridgeac.png)\n",
    "\n",
    "The same cycle is the basis of air conditioning, though in this case the heat is removed from inside the house and dumped outside.\n",
    "\n"
   ]
  },
  {
   "cell_type": "markdown",
   "id": "1ba116e1",
   "metadata": {},
   "source": [
    "### Heat Pump\n",
    "\n",
    "A <a href=\"https://en.wikipedia.org/wiki/Geothermal_heat_pump\" class=\"interwiki iw_wp\" title=\"https://en.wikipedia.org/wiki/Geothermal_heat_pump\">geothermal heat pump</a> is an efficient way of both heating and cooling a house.\n",
    "\n",
    "In winter a heat pump will mechanically expand a refrigerant, lowering it&#039;s temperature to below that of a thermal reservoir (which will have a temperature around 10<sup>o</sup>C-15<sup>o</sup>C all year round) so that it can absorb heat $Q_{L}$ from the reservoir. It will then mechanically compress the refrigerant, increasing it&#039;s temperature so that it can dump heat $Q_{H}$ in to the house, before being expanded again and passed back to the reservoir.\n",
    "\n",
    "This is more efficient that direct heating, because the total heat supplied to the house $Q_{H}$ is equal to $Q_{L}+W$ and the $Q_{L}$ is supplied for free, only the $W$ needs to be produced electrically. Direct electric heating would require all the heat to be provided via electricity. In summer the pumping direction is reversed and the heat pump acts as an efficient air conditioner (efficient because the transfer to the thermal reservoir is generally more efficient than typical A/C heat transfer to the air)."
   ]
  },
  {
   "cell_type": "markdown",
   "id": "e7f47926",
   "metadata": {},
   "source": [
    "### Sample Final Problem\n",
    "\n",
    "![im.png](images/phy141f13finalq8.png)\n",
    "\n",
    "A Carnot engine and an Otto engine both have the same condition at point A, where an ideal\n",
    "monatomic gas inside a piston has a pressure of 30 atm, a temperature of 400$^o$C and a volume of 0.5 L.\n",
    "In the Carnot cycle the isothermal expansion from this state continues until the volume of the gas has doubled (A-B), after which it expands adiabatically until it reaches 5 times it’s original volume (B-C).\n",
    "\n",
    "In the Otto cycle, after the gas has expanded adiabatically to 5 times it’s initial volume (A-B), the pressure is reduced to half the value it has at B (B-C)."
   ]
  },
  {
   "cell_type": "markdown",
   "id": "7c2c321b",
   "metadata": {},
   "source": [
    "- (a) (4 points) What is the lowest gas pressure reached at any time in the Carnot engine?\n",
    "\n",
    "- (b) (4 points) What is the lowest gas  pressure reached at any time in the Otto engine?\n",
    "\n",
    "- (c) (4 points) What is the lowest gas temperature reached at any time in the Carnot engine?\n",
    "\n",
    "- (d) (4 points) What is the lowest gas  temperature reached at any time in the Otto engine?\n",
    "\n",
    "- (e) (3 points) What is the efficiency of the Carnot engine?\n",
    "\n",
    "- (f) (3 points) What is the efficiency of the Otto engine?\n",
    "\n",
    "- (g) (4 points) How much work is done by each cycle of the Carnot engine?\n",
    "\n",
    "- (h) (4 points) How much work is done by  each cycle of the Otto engine?\n"
   ]
  },
  {
   "cell_type": "code",
   "execution_count": null,
   "id": "3fe589f0",
   "metadata": {},
   "outputs": [],
   "source": []
  }
 ],
 "metadata": {
  "kernelspec": {
   "display_name": "Python 3 (ipykernel)",
   "language": "python",
   "name": "python3"
  },
  "language_info": {
   "codemirror_mode": {
    "name": "ipython",
    "version": 3
   },
   "file_extension": ".py",
   "mimetype": "text/x-python",
   "name": "python",
   "nbconvert_exporter": "python",
   "pygments_lexer": "ipython3",
   "version": "3.9.10"
  }
 },
 "nbformat": 4,
 "nbformat_minor": 5
}
