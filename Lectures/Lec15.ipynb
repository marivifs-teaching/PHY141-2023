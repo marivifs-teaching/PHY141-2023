{
 "cells": [
  {
   "cell_type": "markdown",
   "id": "a7eaa18e",
   "metadata": {
    "slideshow": {
     "slide_type": "slide"
    }
   },
   "source": [
    "# Linear momentum in more than one dimension"
   ]
  },
  {
   "cell_type": "markdown",
   "id": "29bb275c",
   "metadata": {
    "slideshow": {
     "slide_type": "slide"
    }
   },
   "source": [
    "### Inelastic collisions\n",
    "\n",
    "<p>\n",
    "<a href=\"http://www.youtube.com/watch?v=QfDoQwIAaXg&amp;feature=player_embedded\" class=\"urlextern\" title=\"http://www.youtube.com/watch?v=QfDoQwIAaXg&amp;feature=player_embedded\">A bullet hitting an object</a> is a good example of an <strong>inelastic</strong> collision.\n",
    "</p>\n"
   ]
  },
  {
   "cell_type": "markdown",
   "id": "82ff6c83",
   "metadata": {
    "slideshow": {
     "slide_type": "slide"
    }
   },
   "source": [
    "### Ballistic Pendulum \n",
    "<p>\n",
    "We can however use conservation of momentum for the collision and conservation of energy for the <strong>subsequent motion</strong> in a <a href=\"https://en.wikipedia.org/wiki/Ballistic_pendulum\" class=\"interwiki iw_wp\" title=\"https://en.wikipedia.org/wiki/Ballistic_pendulum\">ballistic pendulum</a> to find the velocity of a bullet fired in to a block from the height that the bullet and block rises to.\n",
    "</p>\n",
    "\n",
    "\n",
    "\n",
    "![image.png](images/ballistic.jpeg)\n",
    "\n",
    "\n",
    "$mv=(M+m)v'$\n",
    "\n",
    "$\\frac{1}{2}mv^2\\neq\\frac{1}{2}(M+m)v'^{2}$\n",
    "\n",
    "but $\\frac{1}{2}(M+m)v'^{2}=(M+m)gh$ → $\\frac{1}{2}v'^{2}=gh$\n",
    "\n",
    "so $v=\\frac{M+m}{m}\\sqrt{2gh}$"
   ]
  },
  {
   "cell_type": "markdown",
   "id": "fe25151e",
   "metadata": {
    "slideshow": {
     "slide_type": "slide"
    }
   },
   "source": [
    "### Multidimensional collisions\n",
    "\n",
    "\n",
    "The equation of conservation of momentum is a vector equation. \n",
    "\n",
    "$m_{A}\\vec{v}_{A}+m_{B}\\vec{v}_{B}=m_{A}\\vec{v'}_{A}+m_{B}\\vec{v'}_{B}$\n",
    "\n",
    "Therefore if we have a collision involving more than one dimension we need to consider conservation of each component of momentum, for example in 2 dimensions\n",
    "\n",
    "$m_{A}v_{Ax}+m_{B}v_{Bx}=m_{A}v'_{Ax}+m_{B}v'_{Bx}$\n",
    "\n",
    "$m_{A}v_{Ay}+m_{B}v_{By}=m_{A}v'_{Ay}+m_{B}v'_{By}$\n"
   ]
  },
  {
   "cell_type": "markdown",
   "id": "e98baa42",
   "metadata": {
    "slideshow": {
     "slide_type": "slide"
    }
   },
   "source": [
    "### Perfectly Elastic Collisions in 2 dimensions\n",
    "\n",
    "\n",
    "If a collision is perfectly elastic we can add a 3rd equation \n",
    "\n",
    "$m_{A}v_{Ax}+m_{B}v_{Bx}=m_{A}v'_{Ax}+m_{B}v'_{Bx}$\n",
    "\n",
    "$m_{A}v_{Ay}+m_{B}v_{By}=m_{A}v'_{Ay}+m_{B}v'_{By}$\n",
    "\n",
    "$\\frac{1}{2}m_{A}v_{A}^2+\\frac{1}{2}m_{B}v_{B}^2=\\frac{1}{2}m_{A}v`_{A}^2+\\frac{1}{2}m_{B}v`_{B}^2$\n"
   ]
  },
  {
   "cell_type": "markdown",
   "id": "66def52e",
   "metadata": {
    "slideshow": {
     "slide_type": "slide"
    }
   },
   "source": [
    "### Billiards Question\n",
    "\n",
    "When we hit a billiard ball straight on all the momentum of the incident ball should be transferred to the 2nd ball. \n",
    "\n",
    "![elastic1.gif](images/elastic1.gif)\n",
    "\n",
    "\n",
    "However we know already from experience that if we hit a billiard ball at an angle this does not happen.  Can we use our conservation of momentum principle to predict the trajectories of billiard balls after a collision?\n",
    "If one ball hits another head on, it should come to rest. **But if it comes in at a small angle where should it go?**\n",
    "![elastic1.gif](images/billiards.png)"
   ]
  },
  {
   "cell_type": "markdown",
   "id": "2be343ff",
   "metadata": {
    "slideshow": {
     "slide_type": "slide"
    }
   },
   "source": [
    "### Billiards (or pucks)\n",
    "\n",
    "<div class=\"level2\">\n",
    "<div class=\"table sectionedit9\"><table class=\"inline\">\n",
    "\t<tr class=\"row0\">\n",
    "\t\t<td class=\"col0\"> Conservation of momentum <br/>\n",
    "$v_{A}=v'_{Ax}+v'_{Bx}$ <br/>\n",
    "$0=v'_{Ay}+v'_{By}$ </td><td class=\"col1\">Conservation of energy <br/>\n",
    "$v_{A}^2=v'^{2}_{A}+v'^{2}_{B}$ </td>\n",
    "\t</tr>\n",
    "</table></div>\n",
    "\n",
    "![elastic1.gif](images/snookerballs.png) \n",
    "    \n",
    "<div class=\"table sectionedit10\"><table class=\"inline\">\n",
    "\t<tr class=\"row0\">\n",
    "\t\t<td class=\"col0\">$v'_{Bx}=v'_{B}\\cos\\theta$ <br/>\n",
    "$v'_{By}=v'_{B}\\sin\\theta$ </td><td class=\"col1\"> $v'_{Ax}=v'_{A}\\sin\\theta$ <br/>\n",
    "$v'_{Ay}=-v'_{A}\\cos\\theta$ </td>\n",
    "\t</tr>\n",
    "</table></div>\n",
    "\n",
    "   \n",
    "    \n",
    "\n"
   ]
  },
  {
   "cell_type": "markdown",
   "id": "8c8c1f20",
   "metadata": {
    "slideshow": {
     "slide_type": "subslide"
    }
   },
   "source": [
    "### Billiards (cont)\n",
    "\n",
    "Square the conservation of momentum equations\n",
    "\n",
    "$ v_{Ay}^{'2} = v_{By}^{'2} $\n",
    "\n",
    "$v_{A}^2-2v_{A}v'_{Ax}+v'^{2}_{Ax}=v'^{2}_{Bx}$\n",
    "\n",
    "Add these together\n",
    "\n",
    "$v_{A}^2+v'^{2}_{A}-2v_{A}v'_{Ax}=v'^{2}_{B}$\n",
    "'\n",
    "Use kinetic energy equation to eliminate $v'_{B}$\n",
    "\n",
    "$v_{A}^2+v'^{2}_{A}-2v_{A}v'_{Ax}=v_{A}^{2}-v'^{2}_{A}$  → $v'^{2}_{A}=v_{A}v'_{Ax}$\n",
    "\n",
    "$v'^{2}_{A}=v_{A}v'_{A}\\sin\\theta$ → $v'_{A}=v_{A}\\sin\\theta$\n",
    "\n",
    "and conservation of energy equation gives us $v'_{B}=v_{A}\\cos\\theta$\n"
   ]
  },
  {
   "cell_type": "markdown",
   "id": "60d458cc",
   "metadata": {
    "slideshow": {
     "slide_type": "slide"
    }
   },
   "source": [
    "### Perfectly Inelastic Collisions in 2D\n",
    "\n",
    "\n",
    "![image.png](images/inelastic1.png)\n",
    "In a perfectly inelastic collision the two object stick together after the collision so conservation of momentum now is written\n",
    "\n",
    "$m_{A}\\vec{v_{A}}+m_{B}\\vec{v_{B}}=(m_{A}+m_{B})\\vec{v}'$\n",
    "\n"
   ]
  },
  {
   "cell_type": "markdown",
   "id": "9e1eecbd",
   "metadata": {
    "slideshow": {
     "slide_type": "slide"
    }
   },
   "source": [
    "### Comparison between the two collisions\n",
    "\n",
    "All real collisions lie somewhere between the extremes we have looked at, but let's consider now the two extreme cases for a collision of 2 objects of equal mass colliding at right angles with equal velocities.\n",
    "\n",
    "![image.png](images/elasticinelasticcomparison.png)\n",
    "Momentum must be conserved for both the x and y directions\n",
    "\n",
    "$v_{A}=v'_{Ax}+v'_{Bx}$\n",
    "\n",
    "$v_{B}=v'_{Ay}+v'_{By}$\n",
    "\n",
    "Squaring and adding our momentum equations lead to\n",
    "\n",
    "$2v^{2}=v'^{2}_{A}+v'^{2}_{B}+2v'_{Ax}v'_{Bx}+2v'_{Ay}v'_{By}$\n",
    "\n",
    "In the case of an elastic collision\n",
    "\n",
    "$\\frac{1}{2}m_{A}v_{A}^2+\\frac{1}{2}m_{B}v_{B}^2=\\frac{1}{2}m_{A}v'^{2}_{A}+\\frac{1}{2}m_{B}v'^{2}_{B}$\n",
    "\n",
    "$2v^{2}=v'^{2}_{A}+v'^{2}_{B}$\n",
    "\n",
    "which means that\n",
    "\n",
    "$2v'_{Ax}v'_{Bx}+2v'_{Ay}v'_{By}=0$\n",
    "\n",
    "And by inspection we can see that the result is a $90^{o}$ change of direction for each object with no change in the speed of the objects.\n"
   ]
  },
  {
   "cell_type": "markdown",
   "id": "bedda093",
   "metadata": {
    "slideshow": {
     "slide_type": "subslide"
    }
   },
   "source": [
    "### Perfectly Inelastic Collisions (cont.)\n",
    "\n",
    "\n",
    "For an inelastic collision\n",
    "\n",
    "$2v^{2}=2v'^{2}+2v'^2_{x}+2v'^{2}_{y}=4v'^{2}$\n",
    "\n",
    "$v'=\\frac{v}{\\sqrt{2}}$\n",
    "\n",
    "and inspection shows that the x and y component of the velocity are equal.\n",
    "\n"
   ]
  },
  {
   "cell_type": "markdown",
   "id": "affbe18a",
   "metadata": {
    "slideshow": {
     "slide_type": "slide"
    }
   },
   "source": [
    "### Center of Mass\n",
    "\n",
    "We have looked at two quite different 2 dimensional collisions. However there is one way of looking at them which makes them look more similar. If we consider the motion of the center of mass of the objects, instead of the motion of the individual masses we can see that from this perspective the motion is identical!\n",
    "\n",
    "\n",
    "![image.png](images/comcollission.png)"
   ]
  },
  {
   "cell_type": "markdown",
   "id": "f21ff34f",
   "metadata": {
    "slideshow": {
     "slide_type": "slide"
    }
   },
   "source": [
    "### The Usefulness of Center of Mass\n",
    "\n",
    "\n",
    "We can actually consider the motion of any extended mass to be composed of different kinds of motion with respect to the center of mass.\n",
    "\n",
    "So far we have dealt with translational motion, and we can now make explicit our implicit assumption till now that we consider the translation motion of an object&#039;s center of mass. We will now also see in the coming lectures that we can add to this translational motion other motions of the mass around the center of mass, for example rotational or vibrational motion.\n",
    "\n",
    "In general the displacement vector for the center of mass of a system of particles $m_{i}$ can be written as\n",
    "\n",
    "$\\vec{r}_{CM}=\\frac{\\Sigma_{i}m_{i}\\vec{r_{i}}}{\\Sigma_{i}m_{i}}=\\frac{\\Sigma_{i}m_{i}\\vec{r_{i}}}{M}$\n",
    "\n",
    "Differentiating with respect to time gives\n",
    "\n",
    "$M\\frac{d\\vec{r}_{CM}}{dt}=\\Sigma_{i}m_{i}\\frac{d\\vec{r}}{dt}$ or  $M\\vec{v_{CM}}=\\Sigma_{i}m_{i}\\vec{v}_{i}$\n",
    "\n",
    "and doing it once more \n",
    "\n",
    "$M\\vec{a_{CM}}=\\Sigma_{i}m_{i}\\vec{a}_{i}$\n",
    "\n",
    "$\\Sigma_{i}m_{i}\\vec{a}_{i}=\\Sigma_{i}F_{i}=\\Sigma \\vec{F}_{ext}$\n",
    "\n"
   ]
  },
  {
   "cell_type": "markdown",
   "id": "b1635277",
   "metadata": {
    "slideshow": {
     "slide_type": "subslide"
    }
   },
   "source": [
    "### Center of Mass (cont.)\n",
    "so we have obtained a new form of Newton&'s Second Law that works for a system of particles.\n",
    "\n",
    "$M\\vec{a_{CM}}=\\Sigma \\vec{F}_{ext}$\n",
    "\n",
    "the total momentum of a system can also be written in these terms\n",
    "\n",
    "$\\vec{P}=M\\vec{v}_{CM}$\n"
   ]
  },
  {
   "cell_type": "markdown",
   "id": "91354990",
   "metadata": {
    "slideshow": {
     "slide_type": "slide"
    }
   },
   "source": [
    "### Center of Mass for Continuous Objects\n",
    "\n",
    "$\\vec{r}_{CM}=\\frac{\\Sigma_{i}m_{i}\\vec{r_{i}}}{M}$\n",
    "\n",
    "can be expressed in integral form\n",
    "\n",
    "\n",
    "\n",
    "$\\vec{r}_{CM}=\\frac{1}{M}\\int \\vec{r}\\,dm$\n",
    "\n",
    "![image.png](images/comrod.png)\n",
    "\n",
    "We can consider a uniform rod to be a one dimensional object.\n",
    "\n",
    "If we want to find the COM we could place the origin of our coordinate system at the center of the rod and then\n",
    "\n",
    "$\\vec{r}_{CM}=\\frac{1}{M}\\int \\vec{r}\\,dm=\\frac{1}{M}\\int_{-l/2}^{l/2}\\lambda x\\,dx=\\frac{1}{M}\\frac{\\lambda}{2}((\\frac{l}{2})^2-(-\\frac{l}{2})^2)=0$\n",
    "\n",
    "\n"
   ]
  },
  {
   "cell_type": "markdown",
   "id": "9860a811",
   "metadata": {
    "slideshow": {
     "slide_type": "subslide"
    }
   },
   "source": [
    "### COM of continuous objects (cont.) \n",
    "\n",
    "On the other hand if we were to place the origin at the left end of the rod then we could show that \n",
    "\n",
    "$\\vec{r}_{CM}=\\frac{1}{M}\\int \\vec{r}\\,dm=\\frac{1}{M}\\int_{0}^{l}\\lambda x\\,dx=\\frac{1}{M}\\frac{\\lambda}{2}l^2$\n",
    "\n",
    "and as $M=\\lambda l$\n",
    "\n",
    "$\\vec{r}_{CM}=\\frac{l}{2}\\hat{i}$\n",
    "\n"
   ]
  },
  {
   "cell_type": "markdown",
   "id": "206e706f",
   "metadata": {
    "slideshow": {
     "slide_type": "slide"
    }
   },
   "source": [
    "### Snooker Video\n",
    "\n",
    "[![snookervide.png](images/snookervide.png)](https://www.youtube.com/embed/Bqxdnhl-DNU \"Cool video - Click to Watch!\")\n",
    "\n",
    "Clearly there is more to this game than we discussed above! To understand better the way we can manipulate the path of a billiard ball we will need to study rotational motion..\n"
   ]
  }
 ],
 "metadata": {
  "celltoolbar": "Slideshow",
  "kernelspec": {
   "display_name": "Python 3 (ipykernel)",
   "language": "python",
   "name": "python3"
  },
  "language_info": {
   "codemirror_mode": {
    "name": "ipython",
    "version": 3
   },
   "file_extension": ".py",
   "mimetype": "text/x-python",
   "name": "python",
   "nbconvert_exporter": "python",
   "pygments_lexer": "ipython3",
   "version": "3.9.10"
  }
 },
 "nbformat": 4,
 "nbformat_minor": 5
}
