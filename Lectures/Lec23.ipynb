{
 "cells": [
  {
   "cell_type": "markdown",
   "id": "4d31d001",
   "metadata": {},
   "source": [
    "# Lecture 23 - Fluids in Motion"
   ]
  },
  {
   "cell_type": "markdown",
   "id": "1d39f4db",
   "metadata": {},
   "source": [
    "### Laminar vs. Turbulent Flow\n",
    "\n",
    "A smooth flow of a fluid is called <a href=\"https://en.wikipedia.org/wiki/Laminar_flow\" class=\"interwiki iw_wp\" title=\"https://en.wikipedia.org/wiki/Laminar_flow\">laminar flow</a>. Flow at higher velocities frequently becomes <a href=\"https://en.wikipedia.org/wiki/Turbulence\" class=\"interwiki iw_wp\" title=\"https://en.wikipedia.org/wiki/Turbulence\">turbulent</a>.\n",
    "\n",
    "\n",
    "Most of this lecture will focus on laminar flow."
   ]
  },
  {
   "cell_type": "markdown",
   "id": "a433c042",
   "metadata": {},
   "source": [
    "### Equation of continuity\n",
    "\n",
    "![im.png](images/funnelflow.png)\n",
    "If we consider a steady flow of fluid in an enclosed tube the amount of mass which flows past a point in a time interval $\\Delta t$\n",
    "\n",
    "$\\frac{\\Delta m}{\\Delta t}$\n",
    "\n",
    "is constant. If we express the mass in terms of volume and density\n",
    "\n",
    "$\\frac{\\Delta m_{1}}{\\Delta t}=\\frac{\\rho_{1}\\Delta V_{1}}{\\Delta t}=\\frac{\\rho_{1}A_{1}\\Delta l_{1}}{\\Delta t}=\\rho_{1}A_{1}v_{1}$\n",
    "\n",
    "and use the fact that\n",
    "\n",
    "$\\frac{\\Delta m_{1}}{\\Delta t}=\\frac{\\Delta m_{2}}{\\Delta t}$\n",
    "\n",
    "We can say that \n",
    "\n",
    "$\\rho_{1}A_{1}v_{1}=\\rho_{2}A_{2}v_{2}$\n",
    "\n",
    "which for an incompressible fluid gives\n",
    "\n",
    "$A_{1}v_{1}=A_{2}v_{2}$\n",
    "\n"
   ]
  },
  {
   "cell_type": "markdown",
   "id": "1f9469c3",
   "metadata": {},
   "source": [
    "### Bernoulli's principle\n",
    "\n",
    "<a href=\"https://en.wikipedia.org/wiki/Bernoulli%2527s_principle\" class=\"interwiki iw_wp\" title=\"https://en.wikipedia.org/wiki/Bernoulli%2527s_principle\">Bernoulli&#039;s principle</a> due to <a href=\"https://en.wikipedia.org/wiki/Daniel_Bernoulli\" class=\"interwiki iw_wp\" title=\"https://en.wikipedia.org/wiki/Daniel_Bernoulli\">Daniel Bernoulli</a> connects the velocity of a flowing fluid to the pressure.\n",
    "\n",
    "\n",
    "![im.png](images/bernoulli.png)\n",
    "The pressure is a force per unit area, the work done by the pressure at the left end of the tube in moving the the fluid at the end of the tube through $\\Delta l$ does work equal to\n",
    "\n",
    "$W_{1}=P_{1}A_{1}\\Delta l_{1}$\n",
    "\n",
    "At the other end the force exerted on the fluid is in the opposite direction to the motion and the work done is \n",
    "\n",
    "$W_{2}=-P_{2}A_{2}\\Delta l_{2}$\n",
    "\n",
    "The mass $m$ of fluid moved changes it height by $y_{2}-y_{1}$ and the work done by gravity on the fluid in is\n",
    "\n",
    "$W_{g}=-mg(y_{2}-y_{1})$\n",
    "\n",
    "The net work done is the sum of these three works\n",
    "\n",
    "$W=P_{1}A_{1}\\Delta l_{1}-P_{2}A_{2}\\Delta l_{2}-mgy_{2}+mgy_{1}$\n",
    "\n",
    "The net work is also equal to the change in kinetic energy \n",
    "\n",
    "$W=\\frac{1}{2}mv_{2}^2-\\frac{1}{2}mv_{1}^2$\n",
    "\n",
    "The mass of fluid is given by $m=\\rho A_{1}\\Delta l_{1}=\\rho A_{2}\\Delta l_{2}$ and substituting this and rearranging gives us Bernoulli's equation\n",
    "\n",
    "$P_{1}+\\frac{1}{2}\\rho v_{1}^{2}+\\rho gy_{1}=P_{2}+\\frac{1}{2}\\rho v_{2}^{2}+\\rho gy_{2}$\n"
   ]
  },
  {
   "cell_type": "markdown",
   "id": "a7822270",
   "metadata": {},
   "source": [
    "### Torricelli's theorem\n",
    "\n",
    "![im.png](images/toricelli.png)\n",
    "\n",
    "A special case of Bernoulli's equation is <a href=\"https://en.wikipedia.org/wiki/Torricelli%2527s_Law\" class=\"interwiki iw_wp\" title=\"https://en.wikipedia.org/wiki/Torricelli%2527s_Law\">Toricelli's theorem</a>, which was actually discovered a century before Bernoulli.\n",
    "\n",
    "If we apply Bernoulli's equation \n",
    "\n",
    "$P_{1}+\\frac{1}{2}\\rho v_{1}^{2}+\\rho gy_{1}=P_{2}+\\frac{1}{2}\\rho v_{2}^{2}+\\rho gy_{2}$\n",
    "\n",
    "to the above situation we can see that $P_{1}=P_{2}$, and $v_{2}$ can be approximated as zero.\n",
    "\n",
    "So then \n",
    "\n",
    "$\\frac{1}{2}\\rho v_{1}^{2}+\\rho gy_{1}=\\rho gy_{2}$\n",
    "\n",
    "$v_{1}=\\sqrt{2g(y_{2}-y_{1})}$\n",
    "\n",
    "The magnitude of the velocity of the water exiting the tap is the same as if it had fallen from the top of the water."
   ]
  },
  {
   "cell_type": "markdown",
   "id": "0457a1c2",
   "metadata": {},
   "source": [
    "### Range\n",
    "If we want to compute the horizontal range of water pouring from a hole,\n",
    "we need to apply the same equations as in projectile motion:\n",
    "\n",
    "$x=v_{x}\\sqrt{\\frac{2y_{1}}{g}}=\\sqrt{2g(y_{2}-y_{1})}\\sqrt{\\frac{2y_{1}}{g}}$\n",
    "\n",
    "$x=2\\sqrt{y_{1}(y_{2}-y_{1})}$\n",
    "\n",
    "Max range when\n",
    "\n",
    "$\\frac{dx}{dy_{1}}=0$\n",
    "\n",
    "$x=2z^{\\frac{1}{2}}$\n",
    "\n",
    "$z=y_{1}(y_{2}-y_{1})$\n",
    "\n",
    "$\\frac{dx}{dy_{1}}=\\frac{dx}{dz}\\frac{dz}{dy_{1}}$\n",
    "\n",
    "$\\frac{dx}{dy_{1}}=2\\times\\frac{1}{2}\\frac{y_{2}-2y_{1}}{\\sqrt{y_{1}(y_{2}-y_{1})}}=0$\n",
    "\n",
    "$y_{2}=2y_{1}$\n",
    "\n",
    "$y_{1}=\\frac{1}{2}y_{2}$\n"
   ]
  },
  {
   "cell_type": "markdown",
   "id": "f1a1c34d",
   "metadata": {},
   "source": [
    "### Bernoulli's theorem and lift\n",
    "$P_{1}+\\frac{1}{2}\\rho v_{1}^{2}+\\rho gy_{1}=P_{2}+\\frac{1}{2}\\rho v_{2}^{2}+\\rho gy_{2}$\n",
    "\n",
    "At a constant height\n",
    "\n",
    "$P_{1}+\\frac{1}{2}\\rho v_{1}^{2}=P_{2}+\\frac{1}{2}\\rho v_{2}^{2}$\n",
    "\n",
    "The pressure in a fast moving column of air will be less than that outside it, so an object in the column will experience a force that will tend to keep it in the column.\n"
   ]
  },
  {
   "cell_type": "markdown",
   "id": "4c5cce0d",
   "metadata": {},
   "source": [
    "### Lift on an airfoil\n",
    "    \n",
    "![im.png](images/airfoil.png)\n",
    "The airfoil produces [dynamic lift](https://en.wikipedia.org/wiki/Lift_(force)) by compressing the streamlines above the wing and expanding them below.\n",
    "\n",
    "From the continuity equation\n",
    "\n",
    "$A_{1}v_{1}=A_{2}v_{2}$\n",
    "\n",
    "We can see that the velocity on top of the wing is greater than it is below. Note that the time taken for the air to pass over both surfaces is <a href=\"http://upload.wikimedia.org/wikipedia/commons/9/99/Karman_trefftz.gif\" class=\"urlextern\" title=\"http://upload.wikimedia.org/wikipedia/commons/9/99/Karman_trefftz.gif\">not the same</a>."
   ]
  },
  {
   "cell_type": "markdown",
   "id": "9c7b3cae",
   "metadata": {},
   "source": [
    "### Venturi tube\n",
    "\n",
    "We can also apply the equation\n",
    "\n",
    "$P_{1}+\\frac{1}{2}\\rho v_{1}^{2}=P_{2}+\\frac{1}{2}\\rho v_{2}^{2}$\n",
    "\n",
    "to understand a <a href=\"https://en.wikipedia.org/wiki/Venturi_effect\" class=\"interwiki iw_wp\" title=\"https://en.wikipedia.org/wiki/Venturi_effect\">Venturi tube</a>\n",
    "\n"
   ]
  },
  {
   "cell_type": "markdown",
   "id": "d9d16343",
   "metadata": {},
   "source": [
    "### Viscosity\n",
    "\n",
    "\n",
    "<a href=\"https://en.wikipedia.org/wiki/Viscosity\" class=\"interwiki iw_wp\" title=\"https://en.wikipedia.org/wiki/Viscosity\">viscosity</a>. The viscosity is a property of the fluid and can greatly affect <a href=\"http://upload.wikimedia.org/wikipedia/commons/6/61/Viscosity_video_science_museum.ogv\" class=\"urlextern\" title=\"http://upload.wikimedia.org/wikipedia/commons/6/61/Viscosity_video_science_museum.ogv\">the rate of flow</a>.\n",
    "\n",
    "![im.png](images/viscosity.png)\n",
    "    \n",
    "Viscosity can be defined from looking at a fluid trapped between two plates in which one plate moves with velocity $v$ with respect to the other. The fluid in contact with each plate must have the same velocity as the plate it is in contact with and the fluid in between is subject to a velocity gradient.  The viscosity $\\eta$ is defined in terms of the force require to maintain that velocity gradient (which is required to move the plate).\n",
    "\n",
    "$F=\\eta A\\frac{v}{l}$\n"
   ]
  },
  {
   "cell_type": "markdown",
   "id": "94e3f388",
   "metadata": {},
   "source": [
    "### Poiseulle's equation\n",
    "\n",
    "In a cylindrical tube of radius $R$ and length $l$ the <strong>volume</strong> rate of flow $Q$ is related to the change in pressure from the beginning of the tube $P_{1}$ to the end of the tube $P_{2}$ by [Poiseulle's equation](https://en.wikipedia.org/wiki/Hagen%E2%80%93Poiseuille_equation#:~:text=The%20pressure%20force%20pushing%20the,the%20motion%20of%20the%20liquid.)\n",
    "\n",
    "$Q=\\frac{\\pi R^{4}(P_{1}-P_{2})}{8\\eta l}$\n"
   ]
  },
  {
   "cell_type": "markdown",
   "id": "ede5c48b",
   "metadata": {},
   "source": [
    "### Surface tension and capillarity\n",
    "\n",
    "<a href=\"https://en.wikipedia.org/wiki/Surface_tension\" class=\"interwiki iw_wp\" title=\"https://en.wikipedia.org/wiki/Surface_tension\">Surface tension</a>, $\\gamma$, is due to attractive forces between the molecules in a liquid, and is the force $F$ per unit length $l$\n",
    "\n",
    "$\\gamma=\\frac{F}{l}$\n",
    "\n",
    "At at an interface between a liquid and another medium the liquid forms a <a href=\"https://en.wikipedia.org/wiki/Contact_angle\" class=\"interwiki iw_wp\" title=\"https://en.wikipedia.org/wiki/Contact_angle\">contact angle</a> which is determined by the balance of forces, including surface tension. Surface tension in thin tubes leads to <a href=\"https://en.wikipedia.org/wiki/Capillary_action\" class=\"interwiki iw_wp\" title=\"https://en.wikipedia.org/wiki/Capillary_action\">capillarity</a> where the movement up or down the walls of the tube is due the balance of surface tension with gravitational and viscous forces.\n",
    "\n",
    "If you eliminate viscosity, as occurs in a <a href=\"https://en.wikipedia.org/wiki/Superfluid\" class=\"interwiki iw_wp\" title=\"https://en.wikipedia.org/wiki/Superfluid\">superfluid</a>, you can see <a href=\"http://www.youtube.com/watch?v=2Z6UJbwxBZI\" class=\"urlextern\" title=\"http://www.youtube.com/watch?v=2Z6UJbwxBZI\">some very interesting effects</a>.\n",
    "\n"
   ]
  },
  {
   "cell_type": "markdown",
   "id": "983fb9f2",
   "metadata": {},
   "source": [
    "### And finally\n",
    "\n",
    "The <a href=\"http://www.aerospaceweb.org/question/aerodynamics/q0215.shtml\" class=\"urlextern\" title=\"http://www.aerospaceweb.org/question/aerodynamics/q0215.shtml\">aerodynamic role of the dimples on a golf ball</a> is an interesting case.\n",
    "\n",
    "Armed with Bernoulli's equation we can come to an understanding of why the dimples, which convert the laminar flow to a turbulent one actually make the ball go further!\n"
   ]
  },
  {
   "cell_type": "code",
   "execution_count": null,
   "id": "00a8b331",
   "metadata": {},
   "outputs": [],
   "source": []
  }
 ],
 "metadata": {
  "kernelspec": {
   "display_name": "Python 3 (ipykernel)",
   "language": "python",
   "name": "python3"
  },
  "language_info": {
   "codemirror_mode": {
    "name": "ipython",
    "version": 3
   },
   "file_extension": ".py",
   "mimetype": "text/x-python",
   "name": "python",
   "nbconvert_exporter": "python",
   "pygments_lexer": "ipython3",
   "version": "3.9.10"
  }
 },
 "nbformat": 4,
 "nbformat_minor": 5
}
