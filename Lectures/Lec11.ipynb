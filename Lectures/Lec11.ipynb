{
 "cells": [
  {
   "cell_type": "markdown",
   "id": "5bb4c1ac",
   "metadata": {
    "slideshow": {
     "slide_type": "slide"
    }
   },
   "source": [
    "# Work and Energy\n",
    "\n",
    "In this lecture we introduce the concept of the work done by a force, and relate this to the kinetic energy of an object."
   ]
  },
  {
   "cell_type": "markdown",
   "id": "bbeab770",
   "metadata": {
    "slideshow": {
     "slide_type": "slide"
    }
   },
   "source": [
    "### Work\n",
    "Work is a measure of what a force achieves, so when we calculate the work done by a force on an object we consider only it&#039;s displacement in the direction of the force.\n",
    "Mathematically, as we consider both force $\\vec{F}$ and displacement $\\vec{d}$ to be vectors, and the work done on an object to be a scalar $W$, we say that the work is the scalar product, or dot product of force and displacement. We should note that this is not the displacement from an arbitrary origin, but rather the change in an objects position during a motion.\n",
    "\n",
    "For a constant force\n",
    "\n",
    "$W= \\vec{F} \\cdot \\vec{d} $\n",
    "\n",
    "If the two vectors are at an angle $\\theta$ to each other then we can say\n",
    "\n",
    "$W = Fd\\cos\\theta$\n",
    "\n",
    "![image.png](images/fdcostheta.png)"
   ]
  },
  {
   "cell_type": "markdown",
   "id": "5edddb16",
   "metadata": {
    "slideshow": {
     "slide_type": "slide"
    }
   },
   "source": [
    "### Work on a backpack\n",
    "\n",
    "\n",
    "Consider a hiker that walks first on the flat and then up a hill carrying a backpack, with a <strong>constant velocity</strong> on each section.\n",
    "\n",
    "![image.png](images/fonbp.png)\n",
    "\n",
    "A hiker carries a 10kg backpack 500 m on the flat at a constant velocity. How much work do the forces on the backpack?\n",
    "\n",
    "The hiker now climbs up a mountain that has a 5 degree incline. When he has walked 500m and still moving at the same speed how much work has he done on the backpack?\n",
    "\n"
   ]
  },
  {
   "cell_type": "markdown",
   "id": "f76bb452",
   "metadata": {
    "slideshow": {
     "slide_type": "slide"
    }
   },
   "source": [
    "### More on the dot product\n",
    "\n",
    "The scalar product is commutative (order is not important)\n",
    "\n",
    "$\\vec{A}\\cdot\\vec{B}=\\vec{B}\\cdot\\vec{A}$\n",
    "\n",
    "and distributive\n",
    "\n",
    "$\\vec{A}\\cdot(\\vec{B}+\\vec{C})=\\vec{A}\\cdot\\vec{B}+\\vec{A}\\cdot\\vec{C}$\n",
    "\n",
    "The scalar product of two vectors written in unit vector notation is straightforward to calculate because the different unit vectors are perpendicular to each other.\n",
    "\n",
    "$\\hat{i}\\cdot\\hat{i}=\\hat{j}\\cdot\\hat{j}=\\hat{k}\\cdot\\hat{k}=1$\n",
    "\n",
    "$\\hat{i}\\cdot\\hat{j}=\\hat{i}\\cdot\\hat{k}=\\hat{j}\\cdot\\hat{k}=0$\n",
    "\n",
    "So for two vectors\n",
    "\n",
    "$\\vec{A}=A_{x}\\hat{i}+A_{y}\\hat{j}+A_{z}\\hat{k}$<br/>\n",
    "\n",
    "$\\vec{B}=B_{x}\\hat{i}+B_{y}\\hat{j}+B_{z}\\hat{k}$\n",
    "\n",
    "$\\vec{A}\\cdot\\vec{B}=A_{x}B_{x}+A_{y}B_{y}+A_{z}B_{z}$"
   ]
  },
  {
   "cell_type": "markdown",
   "id": "62e394ef",
   "metadata": {
    "slideshow": {
     "slide_type": "slide"
    }
   },
   "source": [
    "### A more general definition of Work\n",
    "Our previous definition of work was rather limited, in that it considered only a constant force. To be able to consider the work done by a force which can vary over a given path between two points in space we should better write\n",
    "\n",
    "$W=\\int_{a}^{b}\\vec{F}\\cdot d\\vec{l}$\n",
    "\n",
    "Here we broke our path up into infintessimcal elements $d\\vec{l}$ over which we can then integrate\n",
    "\n",
    "as\n",
    "\n",
    "$\\vec{F}=F_{x}\\hat{i}+F_{y}\\hat{j}+F_{z}\\hat{k}$<br/>\n",
    "\n",
    "$d\\vec{l}=dx\\,\\hat{i}+dy\\,\\hat{j}+dz\\,\\hat{k}$\n",
    "\n",
    "This vector integral can be easily split in to separate integrals for the different components\n",
    "\n",
    "$W=\\int_{x_{a}}^{x_{b}}F_{x}\\,dx+\\int_{y_{a}}^{y_{b}}F_{y}\\,dy+\\int_{z_{a}}^{z_{b}}F_{z}\\,dz$"
   ]
  },
  {
   "cell_type": "markdown",
   "id": "a36f6103",
   "metadata": {
    "slideshow": {
     "slide_type": "slide"
    }
   },
   "source": [
    "### Work done by a spring\n",
    "\n",
    "Hooke's Law states that for a spring to be either compressed or stretched from it&#039;s equilibrium length the force exerted on it must be\n",
    "\n",
    "$F_{A}=kx$\n",
    "\n",
    "the spring exerts an equal and opposite force back on <strong>itself</strong>\n",
    "\n",
    "$F_{S}=-kx$\n",
    "\n",
    "Suppose a spring is extended from $x=0$ to an arbitrary distance $x$. Then the work done on the spring by the applied force is \n",
    "\n",
    "$W=\\int_{0}^{x}F_{A}(x)\\,dx=\\int_{0}^{x}kx\\,dx=\\frac{1}{2}kx^2$\n",
    "\n",
    "and, equally, if we compress the spring\n",
    "\n",
    "$W=\\int_{0}^{-x}F_{A}(x)\\,dx=\\int_{0}^{-x}kx\\,dx=\\frac{1}{2}kx^2$\n",
    "\n",
    "In either case the work done by the spring on <strong>itself</strong> will be negative and of equal magnitude to the work we do on it ($W=-\\frac{1}{2}kx^2$). The <strong>net</strong> work done on the spring by us <strong>and</strong> the spring is zero. We'll now see why this <strong>must</strong> be the case."
   ]
  },
  {
   "cell_type": "markdown",
   "id": "8dd48a94",
   "metadata": {
    "slideshow": {
     "slide_type": "slide"
    }
   },
   "source": [
    "### Net work and kinetic energy\n",
    "\n",
    "If we consider the <strong>net</strong> work on an object we can use Newton&#039;s second law to define a new and very useful quantity, the kinetic energy of an object.\n",
    "\n",
    "$W_{net}=\\int\\vec{F_{net}}\\cdot d\\vec{l}=\\int F_{\\parallel}\\,dl$\n",
    "\n",
    "Newton's second laws tells us that\n",
    "\n",
    "$F_{\\parallel}=ma_{\\parallel}=m\\frac{dv}{dt}$\n",
    "\n",
    "so that\n",
    "\n",
    "$W_{net}=\\int F_{\\parallel}\\,dl=\\int m \\frac{dv}{dt}dl$\n",
    "\n",
    "We don't really want to involve time in our integral directly, so here's the chain rule trick again\n",
    "\n",
    "$\\frac{dv}{dt}=\\frac{dv}{dl}\\frac{dl}{dt}=\\frac{dv}{dl}v$\n",
    "\n",
    "which lets us write \n",
    "\n",
    "$W_{net}=\\int m v \\frac{dv}{dl}dl=\\int mv\\,dv$\n",
    "\n"
   ]
  },
  {
   "cell_type": "markdown",
   "id": "8f40eae0",
   "metadata": {
    "slideshow": {
     "slide_type": "subslide"
    }
   },
   "source": [
    "### Work Energy Principle\n",
    "\n",
    "Evaluating this integral from $v_{1}$ to $v_{2}$ gives us that the net work is\n",
    "\n",
    "$W_{net}=\\frac{1}{2}mv_{2}^2-\\frac{1}{2}mv_{1}^2$\n",
    "\n",
    "We can now define the kinetic energy of an object as $\\frac{1}{2}mv^2$ and note that any change in this quantity is equal to the net work done on the object. We should note that forces directed perpendicular to the motion, which can change the direction, but not the magnitude of the velocity, as in uniform circular motion, do <strong>no</strong> work."
   ]
  },
  {
   "cell_type": "markdown",
   "id": "e379a106",
   "metadata": {
    "slideshow": {
     "slide_type": "slide"
    }
   },
   "source": [
    "### Back to the spring...\n",
    "\n",
    "The equivalence of Work and Energy we have shown above is called the Work-Energy Theorem. We can see from the Work-Energy Theorem\n",
    "\n",
    "$W_{net}=\\frac{1}{2}mv_{2}^2-\\frac{1}{2}mv_{1}^2$\n",
    "\n",
    "that when a spring is compressed the net work done on it by all forces is zero.\n",
    "\n",
    "We should note however that the negative work that the spring did to cancel out our positive work did not vanish, it is stored as <strong>potential</strong> energy. (More on that in the next lecture!)\n",
    "\n",
    "If a spring that is compressed by a distance $x$ is released we find that it goes to a distance $x$ on the other side.\n",
    "\n",
    "This can be seen from the work-energy principle above, if the spring starts with zero velocity the velocity of the object will return to zero when the net amount of work done it is zero. When the applied force has been removed the remaining force on the spring is the spring force\n",
    "\n",
    "$W_{net}=\\int_{-x}^{x}F_{s}(x)\\,dx=\\int_{-x}^{x}-kx\\,dx=-\\frac{1}{2}kx^2+\\frac{1}{2}kx^2=0$\n",
    "\n",
    "and we can see the net work done is zero when moving from $-x$ to $x$."
   ]
  },
  {
   "cell_type": "markdown",
   "id": "1fd4b908",
   "metadata": {
    "slideshow": {
     "slide_type": "subslide"
    }
   },
   "source": [
    "\n",
    "Comparing the net work done in going from $-x$ and $x$ to the the work done by the spring only as it goes from $-x$ to 0\n",
    "\n",
    "$W_{net}=\\int_{-x}^{0}F_{s}(x)\\,dx=\\int_{-x}^{0}-kx\\,dx=\\frac{1}{2}kx^2$\n",
    "\n",
    "we can see that while it is returning back to its mean position and the force is in the same direction as it's motion the spring is doing positive work accelerating the object. When it goes past this point the force is directed against it's motion and the work it does is negative, meaning that work is again being stored as potential energy.\n",
    "\n",
    "We should note that the total energy of this system at any time is equal to the potential energy that was originally stored in it, ie. the work we originally did on the system, $W=\\frac{1}{2}kx^2$. We'll see in the next class that this **conservation of energy** is not a specific result, but actually a universal law!\n"
   ]
  },
  {
   "cell_type": "markdown",
   "id": "c37b4956",
   "metadata": {
    "slideshow": {
     "slide_type": "slide"
    }
   },
   "source": [
    "### Spring Energy Transfer\n",
    "\n",
    "The system we considered above would quickly get complicated if we tried to analyze it any detail. Why?\n",
    "\n",
    "Because the distribution of mass is not well defined, and we need to know that to be able to work out the acceleration produced by the forces. We therefore typically consider systems in which a point mass $m$ interacts with a mass-less spring. When the mass and the spring are attached we get simple harmonic motion, which we will get to a little later in the course.\n",
    "\n",
    "If the mass is not attached to the spring when we have a system where a mass and compressed spring are compressed by a distance x and then released we get a transfer of energy to the mass by the work that is done on it. \n",
    "\n",
    "Don't forget that if other forces act on the object, for example friction, then the work these do must also be accounted for in the application of the work energy theorem.\n",
    "\n",
    "$\\frac{1}{2}mv^{2}=\\frac{1}{2}kx^2-F_{Fr}x$\n",
    "\n",
    "$v=\\sqrt{\\frac{kx^2}{m}-\\frac{2F_{Fr}x}{m}}$\n"
   ]
  },
  {
   "cell_type": "markdown",
   "id": "3b199570",
   "metadata": {
    "slideshow": {
     "slide_type": "slide"
    }
   },
   "source": [
    "### Why you should learn to love the energy-work theorem\n",
    "\n",
    "Let's look at the following problem (7.64).\n",
    "\n",
    "A 5.0 $\\mathrm{kg}$ object moving in two dimensions initially has a velocity $\\vec{v_{1}} = (11.5\\hat{i} + 21.5\\hat{j})\\mathrm{m/s}$. A net force $\\vec{F}$ then acts on the object for $2.0 \\mathrm{s}$, after which the object&#039;s velocity is $\\vec{v_{2}} = (15.0\\hat{i}+28.0\\hat{j})\\mathrm{m/s}$. Determine the work done by $\\vec{F}$ on the object.\n",
    "\n",
    "\n",
    "<strong>Hard Way</strong>\n",
    "\n",
    "We need the acceleration.\n",
    "\n",
    "$\\vec{a}=\\frac{\\vec{v_{2}}-\\vec{v_{1}}}{t}=\\frac{(15.0-11.5)\\hat{i}+(28.0-21.5)\\hat{j}}{2}\\mathrm{\\frac{m/s}{s}}=1.75\\hat{i}+3.25\\hat{j}\\, \\mathrm{m/s^2}$\n",
    "\n",
    "$\\vec{F}=m\\vec{a}=5(1.75\\hat{i}+3.25\\hat{j})=8.75\\hat{i}+16.25\\hat{j}\\,\\mathrm{N}$\n",
    "\n",
    "$\\vec{d}=\\vec{v}_{1}t+\\frac{1}{2}\\vec{a}t^2=2(11.5\\hat{i} + 21.5\\hat{j})+2(1.75\\hat{i}+3.25\\hat{j})=26.5\\hat{i}+49.5\\hat{j}\\,\\mathrm{m}$\n",
    "\n",
    "$W=\\vec{F}\\cdot\\vec{d}=8.75\\times26.5+16.25\\times49.5=1036.25 \\mathrm{J}$\n",
    "\n",
    "\n"
   ]
  },
  {
   "cell_type": "markdown",
   "id": "0fab8a3a",
   "metadata": {
    "slideshow": {
     "slide_type": "subslide"
    }
   },
   "source": [
    "<strong>Easy Way</strong>\n",
    "\n",
    "$W=\\frac{1}{2}m(v_{2}^2-v_{1}^2)=2.5\\times((15^2+28^2)-(11.5^2+21.5^2))=2.5\\times((225+784)-(132.25+462.25))=1036.25 \\mathrm{J}$\n",
    "\n",
    "You should make sure you can do this problem <strong>both</strong> ways!"
   ]
  },
  {
   "cell_type": "markdown",
   "id": "9b2e73ad",
   "metadata": {
    "slideshow": {
     "slide_type": "slide"
    }
   },
   "source": [
    "### Plus and minus of the Work-Energy theorem\n",
    "\n",
    "$W_{net}=\\int\\vec{F_{net}}\\cdot d\\vec{l}=\\int F_{\\parallel}\\,dl=\\frac{1}{2}mv_{2}^2-\\frac{1}{2}mv_{1}^2$\n",
    "\n",
    "**Plus**\n",
    "* We can use the work-energy theorem to gain information about a motion, particularly about the velocity, independent of the path an object takes, we just need to know the total energy at the start and end and the forces active on it\n",
    "\n",
    "\n",
    "**Minus**\n",
    " * We can't get any specific information about the path taken, so we can&#039;t forget the kinematic equations and force analysis we've been using till now!\n",
    "\n",
    "**Important point**\n",
    "* To really get the most out of this theorem we are going to need to apply the principle of conservation of energy - more on that in the next lecture!\n"
   ]
  },
  {
   "cell_type": "code",
   "execution_count": null,
   "id": "b618efd6",
   "metadata": {},
   "outputs": [],
   "source": []
  }
 ],
 "metadata": {
  "celltoolbar": "Slideshow",
  "kernelspec": {
   "display_name": "Python 3 (ipykernel)",
   "language": "python",
   "name": "python3"
  },
  "language_info": {
   "codemirror_mode": {
    "name": "ipython",
    "version": 3
   },
   "file_extension": ".py",
   "mimetype": "text/x-python",
   "name": "python",
   "nbconvert_exporter": "python",
   "pygments_lexer": "ipython3",
   "version": "3.9.10"
  }
 },
 "nbformat": 4,
 "nbformat_minor": 5
}
